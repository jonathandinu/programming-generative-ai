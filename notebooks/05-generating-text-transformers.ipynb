{
  "cells": [
    {
      "cell_type": "markdown",
      "metadata": {
        "id": "sc0y4kRplAVP"
      },
      "source": [
        "# Lesson 5: Generating and Encoding Text with Transformers\n",
        "\n",
        "[![Open In Colab](https://colab.research.google.com/assets/colab-badge.svg)](https://colab.research.google.com/github/jonathandinu/programming-generative-ai/blob/main/notebooks/05-generating-text-transformers.ipynb) [![GitHub Repo stars](https://img.shields.io/github/stars/jonathandinu/programming-generative-ai?style=social)](https://github.com/jonathandinu/programming-generative-ai)\n",
        "\n",
        "> Colab for interactive execution in your browser (no setup) and repository for notebook index and additional resources (slides, etc.)"
      ]
    },
    {
      "cell_type": "code",
      "execution_count": 1,
      "metadata": {
        "colab": {
          "base_uri": "https://localhost:8080/"
        },
        "id": "JZCapp3AuPVl",
        "outputId": "ee06e3ae-74cb-4aba-bf27-256e3864200e"
      },
      "outputs": [
        {
          "name": "stdout",
          "output_type": "stream",
          "text": [
            "Requirement already satisfied: transformers in /usr/local/lib/python3.10/dist-packages (4.47.0)\n",
            "Requirement already satisfied: sentence-transformers in /usr/local/lib/python3.10/dist-packages (3.3.1)\n",
            "Requirement already satisfied: datasets in /usr/local/lib/python3.10/dist-packages (3.2.0)\n",
            "Requirement already satisfied: filelock in /usr/local/lib/python3.10/dist-packages (from transformers) (3.16.1)\n",
            "Requirement already satisfied: huggingface-hub<1.0,>=0.24.0 in /usr/local/lib/python3.10/dist-packages (from transformers) (0.26.5)\n",
            "Requirement already satisfied: numpy>=1.17 in /usr/local/lib/python3.10/dist-packages (from transformers) (1.26.4)\n",
            "Requirement already satisfied: packaging>=20.0 in /usr/local/lib/python3.10/dist-packages (from transformers) (24.2)\n",
            "Requirement already satisfied: pyyaml>=5.1 in /usr/local/lib/python3.10/dist-packages (from transformers) (6.0.2)\n",
            "Requirement already satisfied: regex!=2019.12.17 in /usr/local/lib/python3.10/dist-packages (from transformers) (2024.9.11)\n",
            "Requirement already satisfied: requests in /usr/local/lib/python3.10/dist-packages (from transformers) (2.32.3)\n",
            "Requirement already satisfied: tokenizers<0.22,>=0.21 in /usr/local/lib/python3.10/dist-packages (from transformers) (0.21.0)\n",
            "Requirement already satisfied: safetensors>=0.4.1 in /usr/local/lib/python3.10/dist-packages (from transformers) (0.4.5)\n",
            "Requirement already satisfied: tqdm>=4.27 in /usr/local/lib/python3.10/dist-packages (from transformers) (4.66.6)\n",
            "Requirement already satisfied: torch>=1.11.0 in /usr/local/lib/python3.10/dist-packages (from sentence-transformers) (2.5.1+cu121)\n",
            "Requirement already satisfied: scikit-learn in /usr/local/lib/python3.10/dist-packages (from sentence-transformers) (1.5.2)\n",
            "Requirement already satisfied: scipy in /usr/local/lib/python3.10/dist-packages (from sentence-transformers) (1.13.1)\n",
            "Requirement already satisfied: Pillow in /usr/local/lib/python3.10/dist-packages (from sentence-transformers) (11.0.0)\n",
            "Requirement already satisfied: pyarrow>=15.0.0 in /usr/local/lib/python3.10/dist-packages (from datasets) (17.0.0)\n",
            "Requirement already satisfied: dill<0.3.9,>=0.3.0 in /usr/local/lib/python3.10/dist-packages (from datasets) (0.3.8)\n",
            "Requirement already satisfied: pandas in /usr/local/lib/python3.10/dist-packages (from datasets) (2.2.2)\n",
            "Requirement already satisfied: xxhash in /usr/local/lib/python3.10/dist-packages (from datasets) (3.5.0)\n",
            "Requirement already satisfied: multiprocess<0.70.17 in /usr/local/lib/python3.10/dist-packages (from datasets) (0.70.16)\n",
            "Requirement already satisfied: fsspec<=2024.9.0,>=2023.1.0 in /usr/local/lib/python3.10/dist-packages (from fsspec[http]<=2024.9.0,>=2023.1.0->datasets) (2024.9.0)\n",
            "Requirement already satisfied: aiohttp in /usr/local/lib/python3.10/dist-packages (from datasets) (3.11.10)\n",
            "Requirement already satisfied: aiohappyeyeballs>=2.3.0 in /usr/local/lib/python3.10/dist-packages (from aiohttp->datasets) (2.4.4)\n",
            "Requirement already satisfied: aiosignal>=1.1.2 in /usr/local/lib/python3.10/dist-packages (from aiohttp->datasets) (1.3.1)\n",
            "Requirement already satisfied: async-timeout<6.0,>=4.0 in /usr/local/lib/python3.10/dist-packages (from aiohttp->datasets) (4.0.3)\n",
            "Requirement already satisfied: attrs>=17.3.0 in /usr/local/lib/python3.10/dist-packages (from aiohttp->datasets) (24.2.0)\n",
            "Requirement already satisfied: frozenlist>=1.1.1 in /usr/local/lib/python3.10/dist-packages (from aiohttp->datasets) (1.5.0)\n",
            "Requirement already satisfied: multidict<7.0,>=4.5 in /usr/local/lib/python3.10/dist-packages (from aiohttp->datasets) (6.1.0)\n",
            "Requirement already satisfied: propcache>=0.2.0 in /usr/local/lib/python3.10/dist-packages (from aiohttp->datasets) (0.2.1)\n",
            "Requirement already satisfied: yarl<2.0,>=1.17.0 in /usr/local/lib/python3.10/dist-packages (from aiohttp->datasets) (1.18.3)\n",
            "Requirement already satisfied: typing-extensions>=3.7.4.3 in /usr/local/lib/python3.10/dist-packages (from huggingface-hub<1.0,>=0.24.0->transformers) (4.12.2)\n",
            "Requirement already satisfied: charset-normalizer<4,>=2 in /usr/local/lib/python3.10/dist-packages (from requests->transformers) (3.4.0)\n",
            "Requirement already satisfied: idna<4,>=2.5 in /usr/local/lib/python3.10/dist-packages (from requests->transformers) (3.10)\n",
            "Requirement already satisfied: urllib3<3,>=1.21.1 in /usr/local/lib/python3.10/dist-packages (from requests->transformers) (2.2.3)\n",
            "Requirement already satisfied: certifi>=2017.4.17 in /usr/local/lib/python3.10/dist-packages (from requests->transformers) (2024.8.30)\n",
            "Requirement already satisfied: networkx in /usr/local/lib/python3.10/dist-packages (from torch>=1.11.0->sentence-transformers) (3.4.2)\n",
            "Requirement already satisfied: jinja2 in /usr/local/lib/python3.10/dist-packages (from torch>=1.11.0->sentence-transformers) (3.1.4)\n",
            "Requirement already satisfied: sympy==1.13.1 in /usr/local/lib/python3.10/dist-packages (from torch>=1.11.0->sentence-transformers) (1.13.1)\n",
            "Requirement already satisfied: mpmath<1.4,>=1.1.0 in /usr/local/lib/python3.10/dist-packages (from sympy==1.13.1->torch>=1.11.0->sentence-transformers) (1.3.0)\n",
            "Requirement already satisfied: python-dateutil>=2.8.2 in /usr/local/lib/python3.10/dist-packages (from pandas->datasets) (2.8.2)\n",
            "Requirement already satisfied: pytz>=2020.1 in /usr/local/lib/python3.10/dist-packages (from pandas->datasets) (2024.2)\n",
            "Requirement already satisfied: tzdata>=2022.7 in /usr/local/lib/python3.10/dist-packages (from pandas->datasets) (2024.2)\n",
            "Requirement already satisfied: joblib>=1.2.0 in /usr/local/lib/python3.10/dist-packages (from scikit-learn->sentence-transformers) (1.4.2)\n",
            "Requirement already satisfied: threadpoolctl>=3.1.0 in /usr/local/lib/python3.10/dist-packages (from scikit-learn->sentence-transformers) (3.5.0)\n",
            "Requirement already satisfied: six>=1.5 in /usr/local/lib/python3.10/dist-packages (from python-dateutil>=2.8.2->pandas->datasets) (1.17.0)\n",
            "Requirement already satisfied: MarkupSafe>=2.0 in /usr/local/lib/python3.10/dist-packages (from jinja2->torch>=1.11.0->sentence-transformers) (3.0.2)\n"
          ]
        }
      ],
      "source": [
        "# install dependencies for cloud notebook environments, i.e. Google Colab\n",
        "%pip install -U transformers sentence-transformers datasets"
      ]
    },
    {
      "cell_type": "code",
      "execution_count": 2,
      "metadata": {
        "colab": {
          "base_uri": "https://localhost:8080/"
        },
        "id": "3NMOhHe9utEZ",
        "outputId": "1a1d532c-c11c-49af-80f3-2bef5654012d"
      },
      "outputs": [
        {
          "name": "stdout",
          "output_type": "stream",
          "text": [
            "Using cuda device\n"
          ]
        }
      ],
      "source": [
        "import torch\n",
        "from pprint import pprint\n",
        "\n",
        "# default device boilerplate\n",
        "device = (\n",
        "    \"cuda\" # Device for NVIDIA or AMD GPUs\n",
        "    if torch.cuda.is_available()\n",
        "    else \"mps\" # Device for Apple Silicon (Metal Performance Shaders)\n",
        "    if torch.backends.mps.is_available()\n",
        "    else \"cpu\"\n",
        ")\n",
        "print(f\"Using {device} device\")"
      ]
    },
    {
      "cell_type": "markdown",
      "metadata": {
        "id": "lT2XEgHHlF0O"
      },
      "source": [
        "## 5.3 Generating Text with Transformers Pipelines"
      ]
    },
    {
      "cell_type": "code",
      "execution_count": 3,
      "metadata": {
        "colab": {
          "base_uri": "https://localhost:8080/"
        },
        "id": "WoZscQIk3hz7",
        "outputId": "48a8b5e1-158d-4f07-ca02-3c7731d49502"
      },
      "outputs": [
        {
          "name": "stderr",
          "output_type": "stream",
          "text": [
            "No model was supplied, defaulted to openai-community/gpt2 and revision 607a30d (https://huggingface.co/openai-community/gpt2).\n",
            "Using a pipeline without specifying a model name and revision in production is not recommended.\n",
            "/usr/local/lib/python3.10/dist-packages/huggingface_hub/utils/_auth.py:94: UserWarning: \n",
            "The secret `HF_TOKEN` does not exist in your Colab secrets.\n",
            "To authenticate with the Hugging Face Hub, create a token in your settings tab (https://huggingface.co/settings/tokens), set it as secret in your Google Colab and restart your session.\n",
            "You will be able to reuse this secret in all of your notebooks.\n",
            "Please note that authentication is recommended but still optional to access public models or datasets.\n",
            "  warnings.warn(\n",
            "Device set to use cuda:0\n"
          ]
        }
      ],
      "source": [
        "from transformers import pipeline,  set_seed\n",
        "\n",
        "generator = pipeline(task=\"text-generation\")\n",
        "set_seed(666)"
      ]
    },
    {
      "cell_type": "code",
      "execution_count": 4,
      "metadata": {
        "colab": {
          "base_uri": "https://localhost:8080/"
        },
        "id": "zdTrUdqQyelH",
        "outputId": "458e79bb-49c4-4d36-dc1f-be6a936c7581"
      },
      "outputs": [
        {
          "data": {
            "text/plain": [
              "GPT2TokenizerFast(name_or_path='openai-community/gpt2', vocab_size=50257, model_max_length=1024, is_fast=True, padding_side='right', truncation_side='right', special_tokens={'bos_token': '<|endoftext|>', 'eos_token': '<|endoftext|>', 'unk_token': '<|endoftext|>'}, clean_up_tokenization_spaces=False, added_tokens_decoder={\n",
              "\t50256: AddedToken(\"<|endoftext|>\", rstrip=False, lstrip=False, single_word=False, normalized=True, special=True),\n",
              "}\n",
              ")"
            ]
          },
          "execution_count": 4,
          "metadata": {},
          "output_type": "execute_result"
        }
      ],
      "source": [
        "generator.tokenizer"
      ]
    },
    {
      "cell_type": "code",
      "execution_count": 5,
      "metadata": {
        "colab": {
          "base_uri": "https://localhost:8080/"
        },
        "id": "kLQluprQzBks",
        "outputId": "06679b45-d44a-4a0f-d5a4-e21f4356ee2e"
      },
      "outputs": [
        {
          "data": {
            "text/plain": [
              "GPT2LMHeadModel(\n",
              "  (transformer): GPT2Model(\n",
              "    (wte): Embedding(50257, 768)\n",
              "    (wpe): Embedding(1024, 768)\n",
              "    (drop): Dropout(p=0.1, inplace=False)\n",
              "    (h): ModuleList(\n",
              "      (0-11): 12 x GPT2Block(\n",
              "        (ln_1): LayerNorm((768,), eps=1e-05, elementwise_affine=True)\n",
              "        (attn): GPT2SdpaAttention(\n",
              "          (c_attn): Conv1D(nf=2304, nx=768)\n",
              "          (c_proj): Conv1D(nf=768, nx=768)\n",
              "          (attn_dropout): Dropout(p=0.1, inplace=False)\n",
              "          (resid_dropout): Dropout(p=0.1, inplace=False)\n",
              "        )\n",
              "        (ln_2): LayerNorm((768,), eps=1e-05, elementwise_affine=True)\n",
              "        (mlp): GPT2MLP(\n",
              "          (c_fc): Conv1D(nf=3072, nx=768)\n",
              "          (c_proj): Conv1D(nf=768, nx=3072)\n",
              "          (act): NewGELUActivation()\n",
              "          (dropout): Dropout(p=0.1, inplace=False)\n",
              "        )\n",
              "      )\n",
              "    )\n",
              "    (ln_f): LayerNorm((768,), eps=1e-05, elementwise_affine=True)\n",
              "  )\n",
              "  (lm_head): Linear(in_features=768, out_features=50257, bias=False)\n",
              ")"
            ]
          },
          "execution_count": 5,
          "metadata": {},
          "output_type": "execute_result"
        }
      ],
      "source": [
        "generator.model"
      ]
    },
    {
      "cell_type": "code",
      "execution_count": 6,
      "metadata": {
        "colab": {
          "base_uri": "https://localhost:8080/"
        },
        "id": "BwRAQWXUzH4e",
        "outputId": "87179a58-b7ef-4f2d-a5ee-bf1b6e61b16c"
      },
      "outputs": [
        {
          "name": "stderr",
          "output_type": "stream",
          "text": [
            "Setting `pad_token_id` to `eos_token_id`:50256 for open-end generation.\n"
          ]
        },
        {
          "data": {
            "text/plain": [
              "[{'generated_text': \"Jonathan: Right, he's doing that as well as he should.\\n\\nTaken, that seems like a good description.\\n\\nKeegan: In the meantime, I should probably add that you're a strong believer in the virtues of\"}]"
            ]
          },
          "execution_count": 6,
          "metadata": {},
          "output_type": "execute_result"
        }
      ],
      "source": [
        "generator(\"Jonathan\")"
      ]
    },
    {
      "cell_type": "code",
      "execution_count": 7,
      "metadata": {
        "colab": {
          "base_uri": "https://localhost:8080/"
        },
        "id": "E0VGsQMS0gZb",
        "outputId": "895b2acc-eb5a-40d7-b442-5d71d5fe61b2"
      },
      "outputs": [
        {
          "name": "stderr",
          "output_type": "stream",
          "text": [
            "Setting `pad_token_id` to `eos_token_id`:50256 for open-end generation.\n"
          ]
        },
        {
          "data": {
            "text/plain": [
              "[{'generated_text': 'Jonathan Dinu is the director of the Australian Research Council, where he has previously worked as a professor and consultant to the ABC and other media bodies. He has previously spent the last six years in the business of research on how Australian organisations like those at'}]"
            ]
          },
          "execution_count": 7,
          "metadata": {},
          "output_type": "execute_result"
        }
      ],
      "source": [
        "generator(\"Jonathan Dinu is\")"
      ]
    },
    {
      "cell_type": "code",
      "execution_count": 8,
      "metadata": {
        "colab": {
          "base_uri": "https://localhost:8080/"
        },
        "id": "t7Apvop00yLk",
        "outputId": "2dcbb1f4-5ec3-4ecc-f999-00186989118b"
      },
      "outputs": [
        {
          "name": "stderr",
          "output_type": "stream",
          "text": [
            "Setting `pad_token_id` to `eos_token_id`:50256 for open-end generation.\n"
          ]
        },
        {
          "name": "stdout",
          "output_type": "stream",
          "text": [
            "Jonathan Dinu is on the team at Pudok Tyahara, while Niko Bogaerts is looking to become a pro in the NBA as a forward.\n",
            "\n",
            "[Also On Yahoo! Sports: 5 great young stars]\n",
            "\n"
          ]
        }
      ],
      "source": [
        "print(generator(\"Jonathan Dinu is\")[0]['generated_text'])"
      ]
    },
    {
      "cell_type": "code",
      "execution_count": 9,
      "metadata": {
        "colab": {
          "base_uri": "https://localhost:8080/"
        },
        "id": "bTrtjYbK1oOH",
        "outputId": "8a69f8e8-858b-418d-f4a8-c8eea8a5f445"
      },
      "outputs": [
        {
          "name": "stderr",
          "output_type": "stream",
          "text": [
            "Truncation was not explicitly activated but `max_length` is provided a specific value, please use `truncation=True` to explicitly truncate examples to max length. Defaulting to 'longest_first' truncation strategy. If you encode pairs of sequences (GLUE-style) with the tokenizer you can select this strategy more precisely by providing a specific strategy to `truncation`.\n",
            "Setting `pad_token_id` to `eos_token_id`:50256 for open-end generation.\n"
          ]
        },
        {
          "data": {
            "text/plain": [
              "[{'generated_text': 'Jonathan Dinu is the Executive Editor of Yahoo News. Follow him @Yahoo_Dad.'},\n",
              " {'generated_text': 'Jonathan Dinu is the editor of the National Conservative Weekly.\\n\\nNational Review Media Group is a conservative media media organization founded in 1997 by Glenn Greenwald'},\n",
              " {'generated_text': 'Jonathan Dinu is a PhD candidate at the University of Leicester and Research Fellow at the Australian National University, Singapore; she is a co-author of'},\n",
              " {'generated_text': \"Jonathan Dinu is on the scene. You could really imagine he's there doing everything he can.\\n\\nAnd we love all this. We're\"},\n",
              " {'generated_text': 'Jonathan Dinu is a media analyst for Bleacher Report. Send tips to dnafstatng@dailycallernewsfoundation.org.\\n'}]"
            ]
          },
          "execution_count": 9,
          "metadata": {},
          "output_type": "execute_result"
        }
      ],
      "source": [
        "generator(\"Jonathan Dinu is\", max_length=30, num_return_sequences=5)"
      ]
    },
    {
      "cell_type": "code",
      "execution_count": 10,
      "metadata": {
        "colab": {
          "base_uri": "https://localhost:8080/"
        },
        "id": "SFCeMpd92FC5",
        "outputId": "ecfc3c72-15ff-4ffd-8330-be6fff23ee83"
      },
      "outputs": [
        {
          "name": "stderr",
          "output_type": "stream",
          "text": [
            "Setting `pad_token_id` to `eos_token_id`:50256 for open-end generation.\n"
          ]
        },
        {
          "data": {
            "text/plain": [
              "[{'generated_text': 'Jonathan Dinu is back into the fold next year and this should give him a great amount of time to get back to work on his game.\\n'},\n",
              " {'generated_text': 'Jonathan Dinu is now back in Brisbane this weekend and with the Raiders ahead of them at 10 points, the club needs to have both their best players'},\n",
              " {'generated_text': \"Jonathan Dinu is one of the most successful individuals in the world and the chairman of K.C.'s largest company, GNC, the world\"},\n",
              " {'generated_text': 'Jonathan Dinu is the editorial director of The New American. Follow him on Twitter @dinniann'},\n",
              " {'generated_text': 'Jonathan Dinu is a media and technology reporter. Follow him at @djdinu or on Twitter. Contact this blog editor: jdin'}]"
            ]
          },
          "execution_count": 10,
          "metadata": {},
          "output_type": "execute_result"
        }
      ],
      "source": [
        "generator(\"Jonathan Dinu is\", max_length=30, num_return_sequences=5)"
      ]
    },
    {
      "cell_type": "code",
      "execution_count": 11,
      "metadata": {
        "colab": {
          "base_uri": "https://localhost:8080/"
        },
        "id": "bsm-Sbjz2RoI",
        "outputId": "36387911-2c85-49c2-b34f-0962119f32e4"
      },
      "outputs": [
        {
          "name": "stderr",
          "output_type": "stream",
          "text": [
            "Setting `pad_token_id` to `eos_token_id`:50256 for open-end generation.\n"
          ]
        },
        {
          "data": {
            "text/plain": [
              "[{'generated_text': 'Jonathan Dinu is a doctor based in Spain, who specializes in surgery to treat people who have had their limbs severed or torn off by a malpractice suit. In the past he has performed surgical operations on people who had been crippled by injuries that have'},\n",
              " {'generated_text': 'Jonathan Dinu is a doctor based in Spain, who specializes in surgery, cardiovascular disease, liver diseases, and osteomalacia. View all Dr Dinu articles\\n\\nDr Dinu is available for speaking engagements around the world.\\n\\nFor speaking'},\n",
              " {'generated_text': 'Jonathan Dinu is a doctor based in Spain, who specializes in surgery involving the heart as this method exists today. He is also an expert in the field of cardiovascular surgery.\\n\\nOn the day of the ceremony, a huge ceremony was held at'},\n",
              " {'generated_text': \"Jonathan Dinu is a doctor based in Spain, who specializes in surgery and health care treatment of all types of cancers. The focus of Dinu's residency at the University of Barcelona is on the development of stem cells and their ability to transform tissues in\"},\n",
              " {'generated_text': 'Jonathan Dinu is a doctor based in Spain, who specializes in surgery, trauma care, and trauma surgery. He specializes in trauma, trauma care, and trauma surgery'}]"
            ]
          },
          "execution_count": 11,
          "metadata": {},
          "output_type": "execute_result"
        }
      ],
      "source": [
        "generator(\"Jonathan Dinu is a doctor based in Spain, who specializes in surgery\", max_length=50, num_return_sequences=5)"
      ]
    },
    {
      "cell_type": "markdown",
      "metadata": {
        "id": "XLSBcXxNlMIw"
      },
      "source": [
        "## 5.4 Deconstructing Transformers Pipelines"
      ]
    },
    {
      "cell_type": "code",
      "execution_count": 12,
      "metadata": {
        "id": "ddqhP5aZ2gTu"
      },
      "outputs": [],
      "source": [
        "from transformers import AutoTokenizer, AutoModelForCausalLM\n",
        "\n",
        "model_name = \"distilbert/distilgpt2\"\n",
        "\n",
        "model = AutoModelForCausalLM.from_pretrained(model_name)\n",
        "tokenizer = AutoTokenizer.from_pretrained(model_name)"
      ]
    },
    {
      "cell_type": "code",
      "execution_count": 13,
      "metadata": {
        "colab": {
          "base_uri": "https://localhost:8080/"
        },
        "id": "ipd5WoWL24Sq",
        "outputId": "7857e757-ea55-4fb3-ce8f-0a585ee51d64"
      },
      "outputs": [
        {
          "name": "stderr",
          "output_type": "stream",
          "text": [
            "Device set to use cuda:0\n"
          ]
        }
      ],
      "source": [
        "generator = pipeline(task=\"text-generation\", model=model, tokenizer=tokenizer)"
      ]
    },
    {
      "cell_type": "code",
      "execution_count": 14,
      "metadata": {
        "colab": {
          "base_uri": "https://localhost:8080/"
        },
        "id": "l0tQL0SA3POh",
        "outputId": "98836406-82e5-4a38-9279-cfa3d54d250e"
      },
      "outputs": [
        {
          "name": "stderr",
          "output_type": "stream",
          "text": [
            "Truncation was not explicitly activated but `max_length` is provided a specific value, please use `truncation=True` to explicitly truncate examples to max length. Defaulting to 'longest_first' truncation strategy. If you encode pairs of sequences (GLUE-style) with the tokenizer you can select this strategy more precisely by providing a specific strategy to `truncation`.\n",
            "Setting `pad_token_id` to `eos_token_id`:50256 for open-end generation.\n"
          ]
        },
        {
          "data": {
            "text/plain": [
              "[{'generated_text': 'Jonathan Dinu is a writer and cohost of \\u202aMy Game,\\u202a My Game and Blog. Follow him on Twitter @dinu'},\n",
              " {'generated_text': 'Jonathan Dinu is the fourth player to leave Real Madrid.\\n\\n\\n\\n\\n\\n\\n\\n\\n\\n\\n\\n\\n\\n\\n\\n\\n\\n'},\n",
              " {'generated_text': \"Jonathan Dinu is the head office of the French Institute of Advanced International Studies in France. It's also an early associate editor in the European Council,\"},\n",
              " {'generated_text': 'Jonathan Dinu is a freelance writer for theScore esports. He won Best Player of the Year in 2010 while playing in the StarCraft 2 scene.'},\n",
              " {'generated_text': 'Jonathan Dinu is a former national football manager on the French national team. He was a graduate of Paris Saint-Germain under the auspices'}]"
            ]
          },
          "execution_count": 14,
          "metadata": {},
          "output_type": "execute_result"
        }
      ],
      "source": [
        "generator(\"Jonathan Dinu is\", max_length=30, num_return_sequences=5)"
      ]
    },
    {
      "cell_type": "code",
      "execution_count": 15,
      "metadata": {
        "colab": {
          "base_uri": "https://localhost:8080/"
        },
        "id": "EQ1CuZRq3hG6",
        "outputId": "382d40da-4e10-418e-b1ca-c176f348c30f"
      },
      "outputs": [
        {
          "data": {
            "text/plain": [
              "{'input_ids': tensor([[30365, 23448,    84,   318]], device='cuda:0'), 'attention_mask': tensor([[1, 1, 1, 1]], device='cuda:0')}"
            ]
          },
          "execution_count": 15,
          "metadata": {},
          "output_type": "execute_result"
        }
      ],
      "source": [
        "tokens = tokenizer(\"Jonathan Dinu is\", return_tensors='pt').to(device)\n",
        "tokens"
      ]
    },
    {
      "cell_type": "code",
      "execution_count": 16,
      "metadata": {
        "colab": {
          "base_uri": "https://localhost:8080/"
        },
        "id": "wMfWNua-3yvN",
        "outputId": "214ccb18-ae0a-4f8f-8db7-1670f0a67a6f"
      },
      "outputs": [
        {
          "data": {
            "text/plain": [
              "CausalLMOutputWithCrossAttentions(loss=None, logits=tensor([[[-33.2398, -31.2526, -33.1846,  ..., -44.3461, -44.1899, -33.0008],\n",
              "         [-54.1415, -54.0665, -55.9759,  ..., -63.6869, -58.1916, -52.7711],\n",
              "         [-61.8251, -63.2909, -65.7875,  ..., -71.3735, -67.0476, -62.4894],\n",
              "         [-66.7961, -67.9200, -69.7657,  ..., -74.2608, -71.3312, -68.1324]]],\n",
              "       device='cuda:0', grad_fn=<UnsafeViewBackward0>), past_key_values=((tensor([[[[-7.7924e-01,  2.4386e+00,  1.2031e+00,  ..., -1.2567e+00,\n",
              "            8.7989e-02,  1.0710e+00],\n",
              "          [-2.0213e+00,  3.1161e+00,  2.2925e+00,  ..., -9.3736e-01,\n",
              "           -1.3015e+00,  9.3702e-01],\n",
              "          [-2.2786e+00,  2.4404e+00,  1.9258e+00,  ..., -1.0955e+00,\n",
              "           -2.0644e+00,  2.0389e+00],\n",
              "          [-2.0142e+00,  2.3638e+00,  2.2826e+00,  ..., -1.2077e+00,\n",
              "           -2.8806e+00,  2.2361e+00]],\n",
              "\n",
              "         [[-1.4032e-01, -3.1219e-01,  7.9662e-02,  ..., -1.6328e-01,\n",
              "            2.0595e+00,  9.4981e-01],\n",
              "          [ 1.3568e+00, -1.6226e+00, -1.5360e+00,  ...,  5.9277e-01,\n",
              "            4.0051e+00, -2.6084e-01],\n",
              "          [ 2.8919e-01, -8.3997e-01, -1.2609e+00,  ...,  1.5994e+00,\n",
              "            3.6333e+00,  1.4244e+00],\n",
              "          [ 6.6598e-01, -1.3460e+00, -2.1495e-01,  ..., -4.3576e+00,\n",
              "            3.4066e+00,  1.4741e+00]],\n",
              "\n",
              "         [[-4.6284e-01, -4.8813e-01,  1.3710e+00,  ..., -1.4177e+00,\n",
              "           -1.5105e+00,  3.4099e-01],\n",
              "          [ 2.0874e+00, -1.3765e-01,  3.5738e-01,  ..., -1.0935e+00,\n",
              "            1.9706e-01,  5.9300e-01],\n",
              "          [ 4.8416e-01, -1.4172e+00, -2.3874e-01,  ..., -1.6956e+00,\n",
              "            1.7432e-01,  1.0296e+00],\n",
              "          [ 1.5673e-01, -2.5888e-01,  2.3910e-01,  ..., -2.2151e+00,\n",
              "            8.9119e-01,  1.5464e+00]],\n",
              "\n",
              "         ...,\n",
              "\n",
              "         [[ 4.2590e-01,  2.8457e-03, -2.0086e-01,  ...,  8.5391e-01,\n",
              "            9.2919e-01,  6.8654e-01],\n",
              "          [ 6.7893e-01, -6.7194e-02,  4.1684e-01,  ...,  1.1101e+00,\n",
              "            1.6268e-01,  3.1714e-01],\n",
              "          [ 7.8922e-02, -8.3106e-03,  1.8084e-01,  ...,  1.7697e+00,\n",
              "            3.2186e-01,  2.1759e-01],\n",
              "          [-7.7709e-02,  7.7510e-01,  5.8449e-02,  ...,  1.0909e+00,\n",
              "            1.5824e-01,  4.0878e-01]],\n",
              "\n",
              "         [[ 1.0168e+00,  1.5204e+00, -1.7499e-01,  ..., -4.5272e-01,\n",
              "            4.7871e-01, -1.3828e+00],\n",
              "          [ 1.3457e+00,  2.5899e-01, -3.6351e-01,  ..., -1.1111e-01,\n",
              "            8.4641e-01, -2.9496e-01],\n",
              "          [ 1.3160e+00, -1.1175e+00, -6.6241e-01,  ..., -9.9117e-01,\n",
              "            1.2101e-01, -1.3681e+00],\n",
              "          [ 8.0726e-01,  1.3555e-01, -7.7184e-01,  ..., -9.1600e-01,\n",
              "            8.8640e-02, -4.0076e-02]],\n",
              "\n",
              "         [[ 5.6533e-01, -1.4192e-01, -1.7504e-02,  ..., -3.9947e-01,\n",
              "            4.0509e-01,  1.5248e+00],\n",
              "          [ 1.0515e-01,  1.2551e-01,  1.8855e-01,  ...,  1.0578e+00,\n",
              "            9.4447e-01,  1.3274e+00],\n",
              "          [-6.8278e-01, -2.9770e-01,  1.9303e-01,  ...,  5.0484e-01,\n",
              "            6.2096e-01,  1.8908e+00],\n",
              "          [-3.9780e-01, -3.0900e-01,  2.8079e-02,  ...,  2.1995e-01,\n",
              "            9.8450e-01,  1.3471e+00]]]], device='cuda:0',\n",
              "       grad_fn=<PermuteBackward0>), tensor([[[[-0.0558,  0.1161, -0.0150,  ...,  0.0363,  0.0286,  0.0366],\n",
              "          [-0.0420, -0.0849, -0.1169,  ...,  0.2280, -0.0684,  0.2339],\n",
              "          [-0.0126, -0.0108, -0.0797,  ...,  0.0343,  0.1868, -0.1371],\n",
              "          [ 0.2060, -0.1914,  0.3310,  ..., -0.0464,  0.1194, -0.0479]],\n",
              "\n",
              "         [[ 0.1468,  0.1994, -0.0885,  ..., -0.4647, -0.3292,  0.0612],\n",
              "          [ 0.0924, -0.1362, -0.0563,  ...,  0.1012, -0.0404, -0.2264],\n",
              "          [ 0.3470, -0.0907, -0.1145,  ...,  0.0487,  0.2546, -0.1363],\n",
              "          [ 0.3359,  0.1826,  0.0624,  ..., -0.0654,  0.1482,  0.0012]],\n",
              "\n",
              "         [[ 0.0968,  0.1657,  0.0863,  ...,  0.2098,  0.0645, -0.0496],\n",
              "          [ 0.0558, -0.1429,  0.3459,  ..., -0.0613,  0.1573, -0.1017],\n",
              "          [-0.1693, -0.0712, -0.0189,  ..., -0.1216,  0.0577, -0.0435],\n",
              "          [ 0.1518,  0.1301,  0.2739,  ...,  0.1069,  0.2013,  0.0297]],\n",
              "\n",
              "         ...,\n",
              "\n",
              "         [[-0.1266,  0.0505,  0.1627,  ..., -0.1223, -0.0058, -0.0729],\n",
              "          [-0.5027, -0.0940, -0.0409,  ...,  0.0809,  0.1265,  0.0949],\n",
              "          [-0.0757,  0.0746,  0.5304,  ..., -0.5555,  0.0327,  0.0036],\n",
              "          [-0.2398,  0.1437,  0.3189,  ..., -0.0133, -0.4910, -0.0574]],\n",
              "\n",
              "         [[ 0.1157,  0.0342, -0.1861,  ...,  0.1840,  0.0126, -0.1815],\n",
              "          [-0.1484, -0.1517,  0.0073,  ...,  0.1344, -0.1986,  0.0350],\n",
              "          [-0.2108,  0.0526, -0.2649,  ..., -0.1600, -0.6255,  0.2676],\n",
              "          [-0.4565, -0.0654, -0.1124,  ..., -0.4845, -0.3013,  0.2111]],\n",
              "\n",
              "         [[-0.0876, -0.1486,  0.0672,  ..., -0.1312, -0.1482,  0.1200],\n",
              "          [-0.0273,  0.0546,  0.0059,  ...,  0.3837,  0.1590,  0.1636],\n",
              "          [ 0.0225,  0.0332, -0.2491,  ...,  0.0625,  0.2970,  0.2628],\n",
              "          [-0.0382, -0.1431, -0.0888,  ...,  0.0426,  0.2689,  0.0116]]]],\n",
              "       device='cuda:0', grad_fn=<PermuteBackward0>)), (tensor([[[[ 0.0229, -1.1848,  0.2369,  ..., -0.8653,  0.1026, -0.1074],\n",
              "          [-0.4936, -3.1998, -0.9982,  ...,  0.1434,  0.2324,  2.9610],\n",
              "          [-0.4180, -4.1996,  0.2402,  ...,  0.5500,  0.0690,  1.7047],\n",
              "          [ 0.9658, -2.7291, -1.6657,  ..., -1.2271,  0.5769, -1.5046]],\n",
              "\n",
              "         [[-0.7808, -0.0912, -0.6903,  ...,  1.0350, -0.6004, -0.5897],\n",
              "          [-0.3783,  0.9395, -0.9373,  ...,  0.7647,  0.5802,  1.5602],\n",
              "          [ 1.1075,  0.3121, -3.3132,  ...,  0.4435, -0.1913,  0.6379],\n",
              "          [ 0.0103, -0.8505, -0.7338,  ..., -0.3725,  0.9879, -0.2637]],\n",
              "\n",
              "         [[ 1.6246,  2.0610,  3.3828,  ...,  0.8993,  1.3332, -0.8419],\n",
              "          [ 0.6402,  4.0344, -2.0915,  ..., -1.7917,  1.5134, -1.2862],\n",
              "          [-0.0944,  3.0589, -1.9172,  ..., -2.7064,  1.9953, -1.1607],\n",
              "          [-2.2455,  4.9922, -1.2830,  ..., -1.9933,  0.7639,  0.3747]],\n",
              "\n",
              "         ...,\n",
              "\n",
              "         [[ 1.7489, -2.2320, -2.6726,  ...,  1.0752,  0.9695,  2.2777],\n",
              "          [-1.2547, -1.0680, -2.3425,  ..., -0.3605, -2.4639,  2.7906],\n",
              "          [-2.6413, -1.4860, -1.7258,  ...,  0.5755, -2.9718,  2.2616],\n",
              "          [-1.4501, -0.3066, -2.6280,  ..., -0.6856, -3.9144,  3.3554]],\n",
              "\n",
              "         [[ 1.9319,  0.5012,  0.8767,  ..., -0.3065, -1.0790,  0.0511],\n",
              "          [ 1.4115,  1.3335,  1.7137,  ...,  0.2076, -1.5080, -1.5432],\n",
              "          [ 1.2296,  1.3557,  1.5398,  ..., -0.1570, -1.8698, -1.2709],\n",
              "          [ 1.5032,  1.7520,  0.4970,  ...,  0.5656, -2.1118, -1.4727]],\n",
              "\n",
              "         [[-0.0307,  0.3175, -0.7030,  ...,  0.1039,  0.4745, -0.0083],\n",
              "          [-0.1897,  1.3463, -0.7840,  ..., -1.0570,  0.4220, -0.0331],\n",
              "          [ 1.4555,  1.1625, -0.7402,  ..., -0.5983,  0.5298, -0.0494],\n",
              "          [ 0.1475, -0.3427,  0.2469,  ..., -0.7461,  1.0032, -0.2786]]]],\n",
              "       device='cuda:0', grad_fn=<PermuteBackward0>), tensor([[[[-3.5499e-03, -1.1126e-01, -1.2800e-01,  ...,  3.4099e-02,\n",
              "           -1.0799e-02, -3.2241e-01],\n",
              "          [ 3.4426e-01, -6.7400e-02,  5.5139e-01,  ..., -2.0532e-01,\n",
              "           -4.1099e-01,  8.9213e-01],\n",
              "          [-4.8086e-01, -4.8030e-01, -1.1466e-01,  ...,  8.9748e-01,\n",
              "            6.1191e-01,  1.1043e+00],\n",
              "          [ 8.3419e-01, -2.0517e-01, -2.5143e-02,  ..., -8.5030e-01,\n",
              "           -1.9111e-02,  6.3482e-01]],\n",
              "\n",
              "         [[-8.7646e-02,  6.7933e-02, -1.5204e-01,  ..., -1.5848e-01,\n",
              "           -3.2444e-02,  3.0521e-02],\n",
              "          [-1.0160e+00, -8.9316e-01,  4.9423e-01,  ...,  2.8851e-01,\n",
              "           -1.2141e-01, -1.4707e-01],\n",
              "          [ 1.9636e-02, -8.2650e-01, -3.3104e-01,  ..., -7.6901e-03,\n",
              "           -4.4586e-01, -7.5885e-01],\n",
              "          [-3.4588e-01,  5.0474e-01,  2.3076e-01,  ...,  8.4213e-02,\n",
              "            4.5972e-01, -1.7126e-01]],\n",
              "\n",
              "         [[ 2.3816e-02, -6.1286e-01, -4.9598e-02,  ..., -5.9209e-02,\n",
              "            3.2628e-02, -1.0089e-03],\n",
              "          [ 5.9966e-02, -8.9249e-01,  5.5680e-01,  ..., -3.5633e-01,\n",
              "           -9.5948e-01, -7.5703e-01],\n",
              "          [ 7.8397e-02, -3.4598e-01, -1.2665e-01,  ..., -4.1649e-01,\n",
              "           -4.0143e-01, -8.2108e-03],\n",
              "          [ 1.8873e-01, -1.0019e+00, -1.3539e-02,  ...,  4.9593e-01,\n",
              "           -4.3267e-01,  7.5393e-02]],\n",
              "\n",
              "         ...,\n",
              "\n",
              "         [[ 3.8606e-02, -3.8191e-02,  5.7725e-01,  ..., -1.5613e-01,\n",
              "            1.8103e-01, -8.2997e-02],\n",
              "          [ 1.6069e-01,  1.4729e-01, -7.1680e-01,  ..., -1.3956e-01,\n",
              "            6.2656e-01,  1.5385e-02],\n",
              "          [ 2.8558e-02, -4.3079e-01,  1.4036e-01,  ...,  1.6374e-01,\n",
              "            3.2510e-01,  2.7713e-01],\n",
              "          [ 1.6740e-01, -7.0375e-01,  1.1800e+00,  ...,  5.2451e-01,\n",
              "            3.2645e-01,  2.2836e-02]],\n",
              "\n",
              "         [[ 1.4627e-01, -4.6410e-02, -1.8822e-01,  ..., -1.1663e-01,\n",
              "           -1.1252e-01,  5.5198e-02],\n",
              "          [ 1.8820e-01,  9.9576e-01,  3.7598e-02,  ..., -1.1750e-01,\n",
              "           -1.8196e-01, -4.4815e-02],\n",
              "          [ 4.3714e-01,  2.6638e-01,  5.3325e-01,  ..., -3.9169e-01,\n",
              "            2.3638e-03, -3.3484e-01],\n",
              "          [-4.5980e-02,  6.6404e-01,  9.3949e-02,  ..., -2.8678e-01,\n",
              "           -1.0659e+00,  3.1689e-01]],\n",
              "\n",
              "         [[ 4.5136e-02,  5.0176e-02,  7.0724e-02,  ...,  3.4732e-02,\n",
              "           -8.9303e-03, -3.3420e-02],\n",
              "          [-1.1898e+00,  7.5904e-02, -7.2281e-01,  ..., -3.9701e-01,\n",
              "           -5.4642e-01, -7.5601e-02],\n",
              "          [-3.7225e-01,  5.3465e-01,  2.9219e-01,  ...,  2.5649e-01,\n",
              "           -8.6741e-01, -3.4681e-02],\n",
              "          [-6.6546e-02, -7.0560e-01,  3.5078e-01,  ..., -8.2043e-01,\n",
              "           -6.3198e-01,  9.0272e-01]]]], device='cuda:0',\n",
              "       grad_fn=<PermuteBackward0>)), (tensor([[[[-0.9464, -0.1340,  0.2612,  ..., -0.9366,  0.1398, -2.8048],\n",
              "          [-0.4828, -0.4139, -1.7325,  ..., -1.9656, -3.3604,  4.7229],\n",
              "          [ 0.2817, -1.2072, -2.3720,  ..., -1.5272, -0.0835,  6.2141],\n",
              "          [ 1.6944,  0.5031, -2.2106,  ..., -1.5541, -1.2436,  3.4763]],\n",
              "\n",
              "         [[ 0.3094, -0.1110,  0.5078,  ..., -0.0797, -0.2169, -2.0371],\n",
              "          [-1.8832,  1.2890,  2.8674,  ..., -2.2911, -2.5046,  6.4761],\n",
              "          [-2.3612, -0.6242,  2.9359,  ..., -1.4187, -1.2978,  6.8647],\n",
              "          [-2.9948, -0.2586,  2.9071,  ..., -0.9948, -0.5538,  5.0513]],\n",
              "\n",
              "         [[ 0.1255, -0.5429, -0.1587,  ...,  0.0704,  0.2118, -0.1057],\n",
              "          [ 2.4912,  2.2011, -1.1873,  ..., -0.2927,  0.6565, -0.8274],\n",
              "          [ 0.3586,  2.8314, -0.4815,  ..., -0.5865,  1.6112, -0.1450],\n",
              "          [ 0.1577,  0.9555,  0.4602,  ..., -0.1684,  1.0573,  0.4295]],\n",
              "\n",
              "         ...,\n",
              "\n",
              "         [[-0.2950, -0.0239,  0.1300,  ...,  1.2898,  0.1612,  1.7324],\n",
              "          [ 1.7179, -1.5212, -0.2861,  ..., -1.3998, -1.2310, -0.3717],\n",
              "          [ 1.4434, -1.0773, -0.1293,  ..., -1.1284,  0.3480, -0.9473],\n",
              "          [ 0.7510, -0.1620, -1.7652,  ..., -1.2249,  0.4822, -0.1317]],\n",
              "\n",
              "         [[-0.2710, -0.1054,  0.0941,  ...,  0.1092, -0.0360,  0.0090],\n",
              "          [ 1.2195, -1.8780,  1.7646,  ..., -0.7495,  0.1739,  1.2748],\n",
              "          [ 1.1801, -1.4370, -0.8973,  ..., -0.2005,  0.5049,  1.0804],\n",
              "          [ 0.9071,  0.9997,  0.7640,  ...,  0.0702,  1.4142,  0.2460]],\n",
              "\n",
              "         [[ 3.3463,  1.2668, -2.5120,  ..., -2.6478, -4.1022, -1.4824],\n",
              "          [ 5.0015, -1.4935,  4.2497,  ..., -1.6745,  2.8622, -3.7722],\n",
              "          [ 6.7008, -7.2713,  5.8217,  ..., -3.0427,  2.1210, -2.3917],\n",
              "          [-2.0215, -4.6657,  2.1394,  ..., -2.6312,  3.7529, -0.2502]]]],\n",
              "       device='cuda:0', grad_fn=<PermuteBackward0>), tensor([[[[ 0.0448, -0.0079, -0.0039,  ...,  0.0469, -0.0625,  0.0423],\n",
              "          [ 0.9001,  0.1165, -1.1241,  ..., -0.9800, -0.0993,  0.2043],\n",
              "          [-0.1740, -0.5627,  0.2891,  ..., -0.5253, -0.2712, -0.0723],\n",
              "          [ 0.2621,  0.0037, -0.3902,  ..., -0.5687, -0.2429, -0.5245]],\n",
              "\n",
              "         [[-0.0570,  0.0298, -0.1893,  ..., -0.0286,  0.0262,  0.0477],\n",
              "          [ 0.5520,  0.3427,  0.3867,  ...,  0.3104, -0.4633, -0.1285],\n",
              "          [ 0.6652,  0.5123,  0.2546,  ...,  0.3328, -0.2313, -0.5226],\n",
              "          [ 0.6784,  0.1461,  0.0014,  ..., -0.6120, -0.3806, -0.3312]],\n",
              "\n",
              "         [[-0.0136,  0.0204,  0.0132,  ...,  0.0019,  0.0096, -0.0066],\n",
              "          [-0.3732,  0.0612,  0.9974,  ...,  1.0145,  1.0003, -0.4588],\n",
              "          [-0.0090,  0.5882,  0.4921,  ...,  0.7115, -0.2358, -0.3968],\n",
              "          [-0.0131,  0.5096, -0.3151,  ...,  0.3422, -0.3885,  0.3515]],\n",
              "\n",
              "         ...,\n",
              "\n",
              "         [[-0.0183,  0.0194, -0.0389,  ...,  0.0243,  0.0291, -0.0504],\n",
              "          [ 0.2099,  0.2403,  0.2359,  ...,  0.0045, -0.5525,  0.2474],\n",
              "          [ 0.4800, -0.3591,  0.4970,  ...,  0.1220, -0.2198, -0.0763],\n",
              "          [ 0.0629, -0.1796,  0.1284,  ..., -0.8361, -0.6219,  0.4327]],\n",
              "\n",
              "         [[-0.0056, -0.0092,  0.0090,  ..., -0.0057, -0.0048, -0.0124],\n",
              "          [ 0.1145, -0.8255, -0.0972,  ...,  0.2660,  0.1120, -1.1702],\n",
              "          [ 1.1997, -0.8575, -0.2461,  ...,  0.1119,  1.3152,  0.1481],\n",
              "          [ 0.3138,  0.0025,  0.4523,  ...,  0.1181, -0.8902,  0.3377]],\n",
              "\n",
              "         [[ 0.0335, -0.0190,  0.0502,  ..., -0.0499, -0.0124,  0.0989],\n",
              "          [-0.0686, -0.0160,  0.1919,  ...,  0.2653, -0.2373, -0.7951],\n",
              "          [ 0.0518,  0.6580, -0.0057,  ...,  0.1214, -0.1426, -0.1557],\n",
              "          [ 0.0772, -0.0053, -0.2960,  ..., -0.1878,  0.0758,  0.1092]]]],\n",
              "       device='cuda:0', grad_fn=<PermuteBackward0>)), (tensor([[[[ 1.1075e+00, -1.9871e-01, -2.5474e-02,  ...,  4.9396e-01,\n",
              "            5.9524e-01, -2.4627e-01],\n",
              "          [-2.6086e+00, -1.1294e+00,  1.2070e+00,  ..., -2.1451e+00,\n",
              "           -5.7034e+00, -1.7532e+00],\n",
              "          [-3.9000e+00, -1.4812e+00,  1.5384e+00,  ..., -3.2277e+00,\n",
              "           -5.8747e+00, -2.3932e+00],\n",
              "          [-2.7186e+00, -1.2492e+00,  9.2124e-01,  ..., -1.6323e-01,\n",
              "           -3.9331e+00, -1.1328e+00]],\n",
              "\n",
              "         [[-1.4653e-01, -3.9991e-02,  1.4123e-01,  ..., -1.8414e-02,\n",
              "           -5.1093e-01, -1.4713e-01],\n",
              "          [-1.2169e+00,  2.4346e+00,  1.8229e+00,  ..., -7.2843e-01,\n",
              "           -6.3034e-01,  2.0553e+00],\n",
              "          [-1.1871e+00,  2.9255e+00,  1.8240e+00,  ..., -2.6670e-02,\n",
              "           -8.2099e-01,  2.3691e+00],\n",
              "          [-1.0620e+00,  2.5099e+00,  2.1431e+00,  ..., -4.3297e-01,\n",
              "           -2.4043e-03,  1.7717e+00]],\n",
              "\n",
              "         [[ 1.5762e-01,  1.1019e-01,  9.0861e-01,  ..., -3.0418e-01,\n",
              "            2.2106e-01, -3.0971e-01],\n",
              "          [-2.6637e-01, -8.1683e-01, -1.4441e+00,  ...,  2.9753e-01,\n",
              "           -1.6896e+00,  1.4330e+00],\n",
              "          [-2.0143e+00, -2.7151e+00, -4.9702e+00,  ..., -1.7420e-01,\n",
              "           -4.3699e+00,  1.9355e+00],\n",
              "          [-2.0288e-01, -9.4144e-01, -2.5215e+00,  ..., -1.0595e-01,\n",
              "           -2.9221e+00,  9.6585e-01]],\n",
              "\n",
              "         ...,\n",
              "\n",
              "         [[-2.2336e-01, -6.2498e-02, -2.6569e-01,  ...,  1.1625e-01,\n",
              "            2.0643e-02,  5.0971e-02],\n",
              "          [-2.8031e+00,  2.5025e-01,  5.5837e-01,  ...,  2.6894e-01,\n",
              "           -2.2556e+00, -1.4741e+00],\n",
              "          [-2.1472e+00, -8.9820e-01,  1.7070e+00,  ...,  5.4071e-01,\n",
              "           -1.0164e+00, -1.4438e+00],\n",
              "          [-9.4385e-01, -1.0299e+00,  7.8745e-01,  ...,  9.7706e-02,\n",
              "           -8.2508e-01, -3.3095e-01]],\n",
              "\n",
              "         [[-1.6175e-01, -1.4582e+00,  1.3419e-01,  ..., -1.0599e-01,\n",
              "            1.3322e-04,  4.7550e-01],\n",
              "          [ 1.1294e-01,  2.7720e+00,  3.8929e-01,  ...,  9.7954e-01,\n",
              "            2.0210e-01, -5.6551e-01],\n",
              "          [-9.1315e-01,  7.6276e+00,  2.9664e+00,  ...,  5.0105e-01,\n",
              "           -3.5128e+00, -1.2969e+00],\n",
              "          [-4.0114e-01,  4.7026e+00,  4.9043e-01,  ..., -6.0800e-01,\n",
              "           -4.0006e-01,  5.9719e-01]],\n",
              "\n",
              "         [[ 1.2232e-01,  9.1176e-02, -1.2031e-02,  ...,  6.1931e-01,\n",
              "           -2.9285e-02,  8.3668e-02],\n",
              "          [-5.7171e-01,  2.5625e-01, -1.0481e+00,  ...,  5.9509e-01,\n",
              "            1.9956e-02, -1.7710e-01],\n",
              "          [-2.3375e+00,  8.5124e-01, -5.4910e-01,  ...,  1.7429e+00,\n",
              "           -1.4888e-01, -3.5240e-02],\n",
              "          [-1.6606e+00,  3.9312e-02, -3.7401e-01,  ...,  6.0682e-01,\n",
              "            7.2303e-01, -1.3563e+00]]]], device='cuda:0',\n",
              "       grad_fn=<PermuteBackward0>), tensor([[[[-4.1938e-02,  2.3455e-02, -4.7451e-03,  ...,  1.1071e-03,\n",
              "           -7.3759e-03,  4.2715e-02],\n",
              "          [-3.4521e-02,  2.4970e-01, -1.3402e-02,  ...,  2.4904e-01,\n",
              "            6.9700e-01, -5.5091e-01],\n",
              "          [ 1.4752e+00, -8.0947e-01,  4.0213e-01,  ..., -9.3931e-02,\n",
              "           -3.9245e-01, -1.9318e-01],\n",
              "          [ 5.2551e-01, -4.6147e-02,  4.2787e-01,  ...,  1.9161e-01,\n",
              "            2.6239e-01, -6.2025e-01]],\n",
              "\n",
              "         [[-1.4422e-02,  2.2792e-02, -1.3882e-02,  ..., -1.0430e-02,\n",
              "           -3.4188e-02, -2.0854e-03],\n",
              "          [ 1.3428e+00,  5.8575e-01, -4.9328e-01,  ..., -1.2872e-01,\n",
              "            1.5499e-01,  4.1676e-01],\n",
              "          [ 4.9719e-01, -7.7821e-01, -5.8135e-01,  ...,  6.1534e-01,\n",
              "            1.6270e+00, -8.9768e-01],\n",
              "          [ 2.1421e-01, -1.1087e+00, -3.5172e-01,  ...,  1.0754e-01,\n",
              "            1.4087e+00, -3.4046e-01]],\n",
              "\n",
              "         [[ 2.1300e-02, -3.9342e-02,  2.7186e-02,  ...,  1.7558e-02,\n",
              "            1.4909e-02, -5.4541e-02],\n",
              "          [-6.2969e-01,  1.1155e+00, -1.2547e+00,  ...,  5.2590e-01,\n",
              "           -8.6113e-01,  2.6262e+00],\n",
              "          [ 3.7264e-01,  1.7528e+00, -7.9733e-01,  ...,  8.8554e-01,\n",
              "           -7.9290e-01, -8.0023e-01],\n",
              "          [-1.2392e+00,  2.1782e+00,  7.2718e-02,  ..., -1.3239e+00,\n",
              "            1.3457e+00, -1.5730e-01]],\n",
              "\n",
              "         ...,\n",
              "\n",
              "         [[-4.4282e-03, -8.0970e-03, -7.2070e-03,  ...,  2.8596e-03,\n",
              "           -2.5436e-02, -7.3347e-02],\n",
              "          [-9.9472e-01,  1.0430e+00, -2.9247e-01,  ...,  9.9340e-01,\n",
              "            1.5288e+00, -1.9747e-01],\n",
              "          [ 4.2511e-01,  3.2081e-01,  5.2216e-01,  ...,  1.4677e+00,\n",
              "            2.5076e-01, -4.7422e-01],\n",
              "          [ 1.1543e-01,  6.9495e-01,  1.1443e+00,  ..., -8.8811e-03,\n",
              "            5.6762e-01,  2.3720e-02]],\n",
              "\n",
              "         [[-3.0566e-01, -1.2933e-02, -1.4406e-02,  ..., -2.1372e-02,\n",
              "            1.5648e-02, -5.5997e-02],\n",
              "          [-9.3597e-01, -2.0905e+00, -1.8206e-02,  ...,  7.8112e-02,\n",
              "           -1.7242e+00, -1.1876e+00],\n",
              "          [-3.0382e+00,  4.9300e-01, -8.3326e-01,  ...,  2.1218e+00,\n",
              "            1.5970e-01, -1.1953e+00],\n",
              "          [-3.0321e+00,  6.5716e-01,  4.4997e-01,  ...,  1.0920e+00,\n",
              "           -5.3100e-01,  4.3377e-01]],\n",
              "\n",
              "         [[ 2.4038e-02,  4.1903e-03, -1.0928e-02,  ...,  2.9749e-02,\n",
              "           -2.0558e-02, -1.3624e-02],\n",
              "          [-8.6211e-02, -9.9949e-01, -8.9934e-01,  ...,  9.6199e-02,\n",
              "           -1.1170e+00,  6.5163e-02],\n",
              "          [-7.5979e-01,  5.9089e-01,  8.8116e-01,  ..., -1.3964e-02,\n",
              "           -1.5517e+00,  5.7744e-01],\n",
              "          [-1.4358e-01, -3.4278e-01, -1.7701e-01,  ..., -2.5998e-01,\n",
              "           -1.2602e+00,  7.7312e-01]]]], device='cuda:0',\n",
              "       grad_fn=<PermuteBackward0>)), (tensor([[[[ 3.3772e-02, -2.2237e-01, -5.3012e-01,  ...,  2.0276e-01,\n",
              "            4.3386e-01,  3.8919e-01],\n",
              "          [ 1.5698e+00, -5.1869e-01, -5.0683e-01,  ..., -2.5195e+00,\n",
              "            3.6016e-01,  1.0423e+00],\n",
              "          [ 5.5020e-01,  2.7233e-01,  2.8803e-01,  ..., -1.0337e+00,\n",
              "            3.7724e-01,  7.7308e-01],\n",
              "          [-1.0108e-01,  5.6725e-01, -9.8328e-02,  ...,  1.7556e-01,\n",
              "           -1.0789e+00, -1.6783e-02]],\n",
              "\n",
              "         [[-2.0100e-01, -3.5912e-02,  6.6743e-02,  ...,  1.7012e-02,\n",
              "           -1.0202e+00, -1.2416e-01],\n",
              "          [-7.1527e-01,  6.8100e-02, -2.3569e-02,  ...,  4.3780e-01,\n",
              "           -1.1368e-01,  2.0181e+00],\n",
              "          [-9.8551e-01,  5.9121e-02,  1.0113e+00,  ...,  1.0265e+00,\n",
              "            1.0893e+00,  3.2081e-01],\n",
              "          [-7.2088e-02, -4.8598e-01, -9.5943e-01,  ..., -4.4072e-01,\n",
              "            1.4573e+00,  4.7454e-02]],\n",
              "\n",
              "         [[-1.0148e+00,  2.0653e-02,  4.7520e-01,  ..., -6.7730e-01,\n",
              "            3.8754e-01, -1.0067e-01],\n",
              "          [ 6.8344e-01, -7.3038e-01,  1.1875e+00,  ...,  1.8922e+00,\n",
              "           -8.3522e-01, -3.0734e-01],\n",
              "          [-2.7922e-01, -1.3588e+00,  2.3574e-01,  ...,  8.2333e-01,\n",
              "           -1.8541e+00, -9.6321e-01],\n",
              "          [-1.0563e+00, -2.0244e+00, -7.0316e-01,  ...,  1.8097e+00,\n",
              "           -8.1417e-01, -1.3969e+00]],\n",
              "\n",
              "         ...,\n",
              "\n",
              "         [[ 9.3616e-01, -8.7795e-01, -3.8482e-01,  ..., -9.2588e-01,\n",
              "           -4.8175e-01,  5.9845e-01],\n",
              "          [ 2.4978e+00, -1.7363e+00, -1.5388e+00,  ...,  8.1956e-02,\n",
              "           -1.7418e+00, -1.1852e+00],\n",
              "          [ 2.1520e+00, -8.3888e-01, -3.4349e+00,  ..., -8.0436e-01,\n",
              "           -1.2207e+00, -8.8348e-01],\n",
              "          [ 7.9223e-01, -1.6301e+00, -2.1793e+00,  ...,  2.1555e-01,\n",
              "           -1.2576e+00, -8.0719e-01]],\n",
              "\n",
              "         [[-7.5230e-01,  2.4354e+00,  3.3947e-01,  ...,  1.8599e-01,\n",
              "            1.9439e+00, -4.6299e-01],\n",
              "          [ 1.0504e+00, -1.1714e+00,  5.0790e-01,  ..., -1.1492e-01,\n",
              "           -1.2593e+00,  5.0060e-01],\n",
              "          [ 1.0598e-01, -1.6905e+00, -4.8377e-01,  ..., -5.1364e-02,\n",
              "           -2.4269e+00,  7.1343e-01],\n",
              "          [ 4.5579e-01, -2.5717e+00, -9.1871e-01,  ...,  1.6678e-01,\n",
              "           -3.0403e+00,  4.4300e-01]],\n",
              "\n",
              "         [[-1.7945e+00, -2.9769e-01, -1.0481e+00,  ..., -4.3331e-01,\n",
              "            1.4907e-01,  2.2496e-01],\n",
              "          [ 2.4551e+00,  8.2958e-01,  9.4900e-01,  ...,  2.0125e-01,\n",
              "            9.0152e-01,  1.4791e+00],\n",
              "          [ 3.7568e+00,  1.1509e-01,  2.9382e-01,  ..., -5.2861e-01,\n",
              "            6.7046e-02,  5.4215e-01],\n",
              "          [ 2.7201e+00,  4.6028e-01,  7.6793e-01,  ..., -4.1496e-01,\n",
              "            1.8192e-03,  5.0197e-01]]]], device='cuda:0',\n",
              "       grad_fn=<PermuteBackward0>), tensor([[[[-3.7891e-02, -1.4517e-02,  2.0704e-02,  ...,  4.5115e-02,\n",
              "            7.4843e-03,  2.9164e-02],\n",
              "          [ 3.2126e-02,  7.8076e-01, -6.0832e-01,  ..., -9.8103e-01,\n",
              "            1.4849e-01,  2.2203e+00],\n",
              "          [ 3.0852e-01,  7.0484e-01, -6.5215e-01,  ..., -3.2198e-01,\n",
              "           -3.8758e-01,  3.5050e-01],\n",
              "          [-1.5790e-01, -3.2834e-01, -1.7558e-01,  ..., -3.4331e-02,\n",
              "            1.4343e-01,  4.5338e-01]],\n",
              "\n",
              "         [[-9.9104e-03, -8.0394e-03,  2.0609e-03,  ..., -9.8764e-03,\n",
              "            2.0902e-02, -1.6797e-03],\n",
              "          [-1.8568e+00, -1.0566e+00,  6.9228e-02,  ...,  2.1388e+00,\n",
              "            8.0262e-01,  8.1016e-01],\n",
              "          [-7.6861e-01,  1.6738e+00, -1.1442e-01,  ..., -1.4765e-01,\n",
              "            6.4098e-01,  1.6742e+00],\n",
              "          [-6.7427e-01, -4.0304e-01, -8.5035e-01,  ...,  1.6663e+00,\n",
              "           -3.1204e-01, -2.3777e-01]],\n",
              "\n",
              "         [[-1.4541e-02,  1.4152e-02, -2.6530e-03,  ...,  6.3147e-03,\n",
              "            1.1890e-02,  5.4224e-03],\n",
              "          [ 9.0766e-01,  9.4744e-01,  9.5228e-01,  ..., -1.1057e+00,\n",
              "           -2.3208e-01,  7.6008e-02],\n",
              "          [ 7.2017e-01, -3.9064e-01,  2.4541e-01,  ...,  4.4325e-01,\n",
              "            6.5906e-01, -9.5564e-02],\n",
              "          [ 2.7791e-01, -5.6408e-01, -2.0954e-01,  ..., -2.9935e-01,\n",
              "            5.5656e-01, -5.0180e-01]],\n",
              "\n",
              "         ...,\n",
              "\n",
              "         [[-3.2718e-02,  4.4852e-03,  1.7030e-02,  ...,  4.1048e-03,\n",
              "            1.7413e-02,  8.7375e-03],\n",
              "          [ 2.2484e+00, -1.6038e+00, -5.4614e-01,  ..., -2.1155e+00,\n",
              "            2.2516e+00, -6.7070e-01],\n",
              "          [-1.3898e+00, -9.9390e-01, -1.0883e+00,  ...,  2.2117e+00,\n",
              "            1.5346e-01, -8.8495e-01],\n",
              "          [ 7.0725e-01, -4.3050e-01, -1.5718e-01,  ..., -1.4809e-01,\n",
              "           -1.6269e-01,  8.3459e-01]],\n",
              "\n",
              "         [[-2.2343e-02, -1.0199e-02, -1.2146e-02,  ...,  1.1291e-02,\n",
              "           -3.2601e-02, -2.3990e-02],\n",
              "          [-5.1969e-01, -1.1574e-01,  1.2023e-01,  ..., -3.4383e-01,\n",
              "           -2.4380e-01,  4.0867e-01],\n",
              "          [-1.2626e+00, -7.6376e-03, -1.6316e-01,  ...,  5.4070e-01,\n",
              "            2.8821e-02,  2.2519e-01],\n",
              "          [ 6.2361e-01,  7.9154e-02, -4.3219e-01,  ...,  8.3312e-01,\n",
              "           -1.2087e-01,  1.4134e-01]],\n",
              "\n",
              "         [[ 1.5332e-02, -2.4572e-02,  1.6728e-05,  ..., -3.9876e-03,\n",
              "           -2.0443e-02,  2.4448e-02],\n",
              "          [-3.3700e-01, -2.0048e+00,  9.6913e-01,  ...,  9.1082e-02,\n",
              "           -2.4940e+00,  1.4455e+00],\n",
              "          [ 9.1308e-01, -1.6367e+00, -7.4351e-02,  ...,  6.7201e-01,\n",
              "           -3.4495e-01,  2.5365e-01],\n",
              "          [-2.1657e-01,  1.3716e-01, -6.8506e-01,  ..., -4.6609e-01,\n",
              "           -9.3874e-01,  4.5445e-01]]]], device='cuda:0',\n",
              "       grad_fn=<PermuteBackward0>)), (tensor([[[[-1.6716, -0.4232, -0.4220,  ...,  0.2908,  0.3721, -0.4930],\n",
              "          [ 0.3654,  0.0736,  0.9591,  ...,  1.9465, -1.2194, -0.0857],\n",
              "          [ 0.8190,  0.9759, -1.4302,  ...,  1.1371, -0.8248, -0.3538],\n",
              "          [-0.0335, -0.2845, -0.9890,  ...,  0.3838, -0.3832,  0.3596]],\n",
              "\n",
              "         [[ 0.0574, -0.1692,  1.9589,  ...,  0.2685,  0.0770, -0.2426],\n",
              "          [ 1.3529, -0.5517, -2.2348,  ...,  0.3275, -0.1287, -0.9811],\n",
              "          [ 1.6795, -1.0982, -1.9262,  ...,  1.0954, -0.9082, -1.6248],\n",
              "          [ 0.9984, -0.8710, -0.9883,  ...,  0.0614, -0.1516, -1.3329]],\n",
              "\n",
              "         [[ 0.0121,  0.8854,  0.5159,  ..., -0.5707,  0.3165, -0.0623],\n",
              "          [-0.3442,  0.6231, -0.4826,  ...,  1.7275, -0.6146, -1.0385],\n",
              "          [-1.1205,  0.2658, -2.3984,  ...,  2.2728, -0.6386, -1.4858],\n",
              "          [-0.3833,  0.4920, -0.6229,  ...,  2.2747, -0.0139, -0.6464]],\n",
              "\n",
              "         ...,\n",
              "\n",
              "         [[ 0.6609,  0.9941, -0.9961,  ..., -0.7100,  0.6430,  0.8490],\n",
              "          [ 0.7282,  0.9794, -1.9523,  ..., -1.1366, -0.6150,  1.0039],\n",
              "          [-1.2651,  1.3536, -0.3085,  ..., -0.4265, -1.0805,  1.8121],\n",
              "          [-0.8498, -0.3748, -0.7991,  ..., -0.1510,  0.2017, -0.0913]],\n",
              "\n",
              "         [[-0.3269,  0.3402,  0.7524,  ...,  0.5812, -0.1816, -0.3035],\n",
              "          [ 0.4303,  3.0872, -0.9256,  ..., -1.0028,  0.4988, -0.5667],\n",
              "          [ 1.1920,  2.0894, -0.7652,  ...,  0.6112, -0.1665, -0.2469],\n",
              "          [-0.9183,  0.3201, -2.0296,  ...,  1.2315, -0.3489,  0.9017]],\n",
              "\n",
              "         [[-0.6960, -0.1679,  0.3678,  ...,  0.0057,  0.0543,  0.0692],\n",
              "          [ 0.2153,  0.7642,  0.7614,  ..., -0.4102, -1.7319,  1.2875],\n",
              "          [ 0.9473,  0.2035,  0.2725,  ..., -0.6787, -0.5389, -0.4975],\n",
              "          [ 0.4723, -0.0695, -0.2121,  ..., -0.4342,  0.0037, -0.1824]]]],\n",
              "       device='cuda:0', grad_fn=<PermuteBackward0>), tensor([[[[-8.1456e-02, -7.3234e-02, -1.9000e-02,  ...,  3.8768e-02,\n",
              "            8.3816e-02,  1.4345e-02],\n",
              "          [-4.9944e-01,  7.3221e-02,  1.2622e+00,  ...,  1.1638e+00,\n",
              "           -1.4053e+00,  3.6766e-01],\n",
              "          [-1.2278e+00,  6.0851e-01,  1.7811e+00,  ...,  2.6223e+00,\n",
              "           -1.9688e+00, -4.9989e-01],\n",
              "          [ 7.4008e-01,  3.2771e-01,  1.0743e+00,  ...,  3.3906e+00,\n",
              "           -1.1096e+00,  5.7405e-01]],\n",
              "\n",
              "         [[-6.7336e-02, -1.5355e-02, -5.8578e-02,  ..., -5.3945e-02,\n",
              "            2.5558e-02,  2.4211e-03],\n",
              "          [ 5.2956e-02, -2.7008e-01, -1.3912e+00,  ...,  1.7864e+00,\n",
              "           -9.1841e-01,  1.9594e+00],\n",
              "          [ 7.7153e-01,  3.4365e-01,  4.4807e-01,  ...,  9.7052e-01,\n",
              "            1.8426e-01,  8.1023e-01],\n",
              "          [-1.2150e+00,  5.6968e-01,  3.2362e-01,  ..., -6.5974e-01,\n",
              "            7.0956e-01, -1.0974e+00]],\n",
              "\n",
              "         [[ 6.1912e-03, -3.2223e-02,  7.7104e-02,  ...,  1.2522e-02,\n",
              "           -9.2595e-03,  6.6555e-02],\n",
              "          [ 1.9803e+00,  2.2599e-01, -1.3497e+00,  ..., -2.0740e+00,\n",
              "           -1.3110e+00, -9.1392e-01],\n",
              "          [-3.7924e-02, -4.6626e-02, -8.5837e-01,  ...,  1.0544e+00,\n",
              "            1.0490e-01, -3.7431e+00],\n",
              "          [ 1.2924e+00,  8.6351e-01, -1.9496e-01,  ...,  2.9994e-01,\n",
              "            3.2656e-01, -3.4540e-01]],\n",
              "\n",
              "         ...,\n",
              "\n",
              "         [[ 5.2602e-02,  2.4623e-02, -6.7809e-02,  ..., -5.5452e-02,\n",
              "            1.0084e-02,  1.6996e-02],\n",
              "          [-4.9992e-01,  4.5358e-02, -1.1672e+00,  ...,  2.9870e-01,\n",
              "            2.1252e+00,  8.0156e-01],\n",
              "          [-1.4017e+00,  5.0977e-02, -1.8261e+00,  ..., -8.0431e-01,\n",
              "            1.5961e+00, -1.8335e+00],\n",
              "          [ 1.8591e-01,  5.1896e-02, -2.8484e-01,  ...,  9.5406e-02,\n",
              "            1.1721e-01,  7.2721e-02]],\n",
              "\n",
              "         [[-1.7167e-02,  3.6329e-03, -3.7668e-02,  ...,  1.7059e-02,\n",
              "            2.3240e-02,  2.0537e-02],\n",
              "          [-6.3793e-02,  1.2888e+00,  1.6428e+00,  ...,  4.6526e-01,\n",
              "            3.9510e-01, -9.2782e-01],\n",
              "          [ 2.2226e-01, -3.7596e-01,  1.2236e-01,  ..., -9.1969e-01,\n",
              "           -3.5286e-01, -6.5773e-01],\n",
              "          [ 5.7308e-01,  3.9739e-01,  5.9657e-03,  ..., -1.1315e+00,\n",
              "            7.1114e-01, -1.4350e-02]],\n",
              "\n",
              "         [[-4.4415e-02, -6.1768e-02,  4.4314e-02,  ..., -1.2332e-01,\n",
              "           -5.7227e-02,  2.7630e-02],\n",
              "          [ 8.9917e-01, -1.1435e+00, -4.4886e-01,  ...,  1.7893e-02,\n",
              "           -5.5986e-01,  1.0122e+00],\n",
              "          [ 1.6492e+00, -2.7842e-02, -1.6344e+00,  ..., -1.8466e+00,\n",
              "           -5.0077e-01,  5.7067e-01],\n",
              "          [ 4.0005e-01,  1.3477e-01, -9.8191e-02,  ..., -7.9262e-01,\n",
              "            1.4746e-01,  1.2393e-01]]]], device='cuda:0',\n",
              "       grad_fn=<PermuteBackward0>))), hidden_states=None, attentions=None, cross_attentions=None)"
            ]
          },
          "execution_count": 16,
          "metadata": {},
          "output_type": "execute_result"
        }
      ],
      "source": [
        "output = model(**tokens)\n",
        "output"
      ]
    },
    {
      "cell_type": "code",
      "execution_count": 17,
      "metadata": {
        "colab": {
          "base_uri": "https://localhost:8080/"
        },
        "id": "o4x0VW9O354b",
        "outputId": "c6bcc63a-679c-41b9-f820-7f75251a5ed1"
      },
      "outputs": [
        {
          "name": "stderr",
          "output_type": "stream",
          "text": [
            "Setting `pad_token_id` to `eos_token_id`:50256 for open-end generation.\n"
          ]
        },
        {
          "data": {
            "text/plain": [
              "tensor([[30365, 23448,    84,   318,   257,  6260,   290,  5464,   379,   383,\n",
              "          8283,    13,   679,   318,   635,   257,  6260,   290,  5464,   379,\n",
              "           383,  8283,    13,   679]], device='cuda:0')"
            ]
          },
          "execution_count": 17,
          "metadata": {},
          "output_type": "execute_result"
        }
      ],
      "source": [
        "output_ids = model.generate(**tokens)\n",
        "output_ids"
      ]
    },
    {
      "cell_type": "code",
      "execution_count": 18,
      "metadata": {
        "colab": {
          "base_uri": "https://localhost:8080/",
          "height": 36
        },
        "id": "ODawkhXC4LGy",
        "outputId": "c4cd6db3-189f-4ce4-d6ab-83fe081398d9"
      },
      "outputs": [
        {
          "data": {
            "application/vnd.google.colaboratory.intrinsic+json": {
              "type": "string"
            },
            "text/plain": [
              "'Jonathan Dinu is a writer and editor at The Guardian. He is also a writer and editor at The Guardian. He'"
            ]
          },
          "execution_count": 18,
          "metadata": {},
          "output_type": "execute_result"
        }
      ],
      "source": [
        "tokenizer.batch_decode(output_ids, skip_special_tokens=True)[0]"
      ]
    },
    {
      "cell_type": "markdown",
      "metadata": {
        "id": "mFpfRLnHVQY4"
      },
      "source": [
        "## 5.5 Decoding Strategies\n",
        "\n",
        "https://huggingface.co/docs/transformers/en/generation_strategies#decoding-strategies"
      ]
    },
    {
      "cell_type": "code",
      "execution_count": 19,
      "metadata": {
        "colab": {
          "base_uri": "https://localhost:8080/"
        },
        "id": "MiNtcs3m5OwC",
        "outputId": "d65c4d3b-a577-4134-db3c-48d9c0c43965"
      },
      "outputs": [
        {
          "name": "stderr",
          "output_type": "stream",
          "text": [
            "Setting `pad_token_id` to `eos_token_id`:50256 for open-end generation.\n"
          ]
        },
        {
          "data": {
            "text/plain": [
              "[{'generated_text': 'Jonathan Dinu is a writer and editor at The Guardian. He is also a writer and editor at The Guardian. He is also a writer and editor'}]"
            ]
          },
          "execution_count": 19,
          "metadata": {},
          "output_type": "execute_result"
        }
      ],
      "source": [
        "# Greedy sampling (`do_sample=False`)\n",
        "generator(\"Jonathan Dinu is\", do_sample=False, max_length=30)"
      ]
    },
    {
      "cell_type": "code",
      "execution_count": 20,
      "metadata": {
        "colab": {
          "base_uri": "https://localhost:8080/"
        },
        "id": "nXB5yj4R5rNn",
        "outputId": "7cf96945-f49a-4ae2-d442-8103f2cb16d0"
      },
      "outputs": [
        {
          "name": "stderr",
          "output_type": "stream",
          "text": [
            "Setting `pad_token_id` to `eos_token_id`:50256 for open-end generation.\n"
          ]
        },
        {
          "data": {
            "text/plain": [
              "[{'generated_text': 'Jonathan Dinu is getting back at Arsenal on a new deal.\\n\\n\\n\\n\\n\\n\\n\\n\\n\\n\\n\\n\\n\\n\\n\\n\\n'},\n",
              " {'generated_text': 'Jonathan Dinu is back on the DL with a knee problem. His ankle is fine, but is likely to not be recovered. Dinu is on'},\n",
              " {'generated_text': 'Jonathan Dinu is a reporter for NHTSA who has been writing about the U.S. military and the government.'}]"
            ]
          },
          "execution_count": 20,
          "metadata": {},
          "output_type": "execute_result"
        }
      ],
      "source": [
        "# default generation for DistilGPT2 is Multinomial Sampling (`do_sample=True`)\n",
        "generator(\"Jonathan Dinu is\", max_length=30, num_return_sequences=3)"
      ]
    },
    {
      "cell_type": "code",
      "execution_count": 21,
      "metadata": {
        "colab": {
          "base_uri": "https://localhost:8080/"
        },
        "id": "UlNubKn36GoB",
        "outputId": "9f71a245-a71d-4082-b921-f7fe17a24b12"
      },
      "outputs": [
        {
          "data": {
            "text/plain": [
              "GenerationConfig {\n",
              "  \"bos_token_id\": 50256,\n",
              "  \"eos_token_id\": 50256\n",
              "}"
            ]
          },
          "execution_count": 21,
          "metadata": {},
          "output_type": "execute_result"
        }
      ],
      "source": [
        "generator.model.generation_config"
      ]
    },
    {
      "cell_type": "code",
      "execution_count": 22,
      "metadata": {
        "colab": {
          "base_uri": "https://localhost:8080/"
        },
        "id": "bvST28I-6mfC",
        "outputId": "b5ddfbd8-36d8-4fda-f71d-d4ef4426e80b"
      },
      "outputs": [
        {
          "name": "stderr",
          "output_type": "stream",
          "text": [
            "Setting `pad_token_id` to `eos_token_id`:50256 for open-end generation.\n"
          ]
        },
        {
          "data": {
            "text/plain": [
              "[{'generated_text': 'Jonathan Dinu is a writer and editor at the New York Times. He is also a writer and editor at the New York Times. He is also'},\n",
              " {'generated_text': 'Jonathan Dinu is a writer and editor at the New York Times. He is also a writer and editor at the New York Times. He is also'},\n",
              " {'generated_text': 'Jonathan Dinu is a writer and editor at The Guardian. He is also a writer and editor at The Guardian. He is also a writer and editor'}]"
            ]
          },
          "execution_count": 22,
          "metadata": {},
          "output_type": "execute_result"
        }
      ],
      "source": [
        "generator(\"Jonathan Dinu is\", max_length=30, num_return_sequences=3, temperature=0.01)"
      ]
    },
    {
      "cell_type": "code",
      "execution_count": 23,
      "metadata": {
        "colab": {
          "base_uri": "https://localhost:8080/"
        },
        "id": "NjI9_hy362-n",
        "outputId": "76977f8c-615e-4bd8-e9a4-059460034c68"
      },
      "outputs": [
        {
          "name": "stderr",
          "output_type": "stream",
          "text": [
            "Setting `pad_token_id` to `eos_token_id`:50256 for open-end generation.\n"
          ]
        },
        {
          "data": {
            "text/plain": [
              "[{'generated_text': 'Jonathan Dinu is looking forward to learning more and more about his relationship with him and the team. I\\u202c️\\n\\n\\n\\nDin'},\n",
              " {'generated_text': 'Jonathan Dinu is on TV at 13 p.m.'},\n",
              " {'generated_text': 'Jonathan Dinu is the host of a TV & film series hosted by TV veteran John Oliver.[1]\\n\\n\\n\\n\\n\\n\\n\\n\\n\\n'}]"
            ]
          },
          "execution_count": 23,
          "metadata": {},
          "output_type": "execute_result"
        }
      ],
      "source": [
        "generator(\"Jonathan Dinu is\", max_length=30, num_beams=1, num_return_sequences=3, temperature=1.0)"
      ]
    },
    {
      "cell_type": "code",
      "execution_count": 24,
      "metadata": {
        "colab": {
          "base_uri": "https://localhost:8080/"
        },
        "id": "6vsTBstR7P64",
        "outputId": "c96d2ffd-57c9-4167-d7f2-0a96e009ec5a"
      },
      "outputs": [
        {
          "name": "stderr",
          "output_type": "stream",
          "text": [
            "Setting `pad_token_id` to `eos_token_id`:50256 for open-end generation.\n"
          ]
        },
        {
          "data": {
            "text/plain": [
              "[{'generated_text': 'Jonathan Dinu is a senior writer for ESPNcricinfo\\n\\n\\n\\n\\n\\n\\n\\n\\n\\n\\n\\n\\n\\n\\n\\n\\n\\n'},\n",
              " {'generated_text': 'Jonathan Dinu is a senior writer for ESPN FC. Follow him on Twitter @DinuDinu\\n\\n\\n\\n\\n\\n\\n\\n'},\n",
              " {'generated_text': 'Jonathan Dinu is a senior writer for ESPNcricinfo\\n\\n\\n\\n\\n\\n\\n\\n\\n\\n\\n\\n\\n\\n\\n\\n\\n'}]"
            ]
          },
          "execution_count": 24,
          "metadata": {},
          "output_type": "execute_result"
        }
      ],
      "source": [
        "# Beam search (`do_sample=True`, `num_beams=2+`)\n",
        "generator(\"Jonathan Dinu is\", num_beams=4, do_sample=True, max_length=30, num_return_sequences=3)"
      ]
    },
    {
      "cell_type": "markdown",
      "metadata": {
        "id": "y05UT86qV7A5"
      },
      "source": [
        "https://huggingface.co/spaces/m-ric/beam_search_visualizer"
      ]
    },
    {
      "cell_type": "markdown",
      "metadata": {
        "id": "v4PyzLKh0W9l"
      },
      "source": [
        "## 5.7 Visualizing and Understanding Attention\n"
      ]
    },
    {
      "cell_type": "code",
      "execution_count": 25,
      "metadata": {
        "id": "5fmoNuzS1VOn"
      },
      "outputs": [],
      "source": [
        "model = AutoModelForCausalLM.from_pretrained(model_name).to(device)"
      ]
    },
    {
      "cell_type": "code",
      "execution_count": 26,
      "metadata": {
        "colab": {
          "base_uri": "https://localhost:8080/",
          "height": 36
        },
        "id": "S-oT-hGp2HmR",
        "outputId": "eb037855-47d5-4b35-e6fa-68b2a7563995"
      },
      "outputs": [
        {
          "data": {
            "application/vnd.google.colaboratory.intrinsic+json": {
              "type": "string"
            },
            "text/plain": [
              "'distilbert/distilgpt2'"
            ]
          },
          "execution_count": 26,
          "metadata": {},
          "output_type": "execute_result"
        }
      ],
      "source": [
        "model_name"
      ]
    },
    {
      "cell_type": "code",
      "execution_count": 27,
      "metadata": {
        "colab": {
          "base_uri": "https://localhost:8080/"
        },
        "id": "ffVdzYZ8ArUF",
        "outputId": "3006afdd-43c0-4ec5-8deb-b8305d18f901"
      },
      "outputs": [
        {
          "name": "stderr",
          "output_type": "stream",
          "text": [
            "`GPT2SdpaAttention` is used but `torch.nn.functional.scaled_dot_product_attention` does not support `output_attentions=True` or `head_mask`. Falling back to the manual attention implementation, but specifying the manual implementation will be required from Transformers version v5.0.0 onwards. This warning can be removed using the argument `attn_implementation=\"eager\"` when loading the model.\n"
          ]
        },
        {
          "data": {
            "text/plain": [
              "CausalLMOutputWithCrossAttentions(loss=None, logits=tensor([[[-33.2398, -31.2526, -33.1846,  ..., -44.3461, -44.1899, -33.0008],\n",
              "         [-54.1415, -54.0665, -55.9759,  ..., -63.6869, -58.1916, -52.7710],\n",
              "         [-61.8251, -63.2909, -65.7875,  ..., -71.3735, -67.0476, -62.4894],\n",
              "         [-66.7961, -67.9200, -69.7657,  ..., -74.2608, -71.3312, -68.1324]]],\n",
              "       device='cuda:0', grad_fn=<UnsafeViewBackward0>), past_key_values=((tensor([[[[-7.7924e-01,  2.4386e+00,  1.2031e+00,  ..., -1.2567e+00,\n",
              "            8.7989e-02,  1.0710e+00],\n",
              "          [-2.0213e+00,  3.1161e+00,  2.2925e+00,  ..., -9.3736e-01,\n",
              "           -1.3015e+00,  9.3702e-01],\n",
              "          [-2.2786e+00,  2.4404e+00,  1.9258e+00,  ..., -1.0955e+00,\n",
              "           -2.0644e+00,  2.0389e+00],\n",
              "          [-2.0142e+00,  2.3638e+00,  2.2826e+00,  ..., -1.2077e+00,\n",
              "           -2.8806e+00,  2.2361e+00]],\n",
              "\n",
              "         [[-1.4032e-01, -3.1219e-01,  7.9662e-02,  ..., -1.6328e-01,\n",
              "            2.0595e+00,  9.4981e-01],\n",
              "          [ 1.3568e+00, -1.6226e+00, -1.5360e+00,  ...,  5.9277e-01,\n",
              "            4.0051e+00, -2.6084e-01],\n",
              "          [ 2.8919e-01, -8.3997e-01, -1.2609e+00,  ...,  1.5994e+00,\n",
              "            3.6333e+00,  1.4244e+00],\n",
              "          [ 6.6598e-01, -1.3460e+00, -2.1495e-01,  ..., -4.3576e+00,\n",
              "            3.4066e+00,  1.4741e+00]],\n",
              "\n",
              "         [[-4.6284e-01, -4.8813e-01,  1.3710e+00,  ..., -1.4177e+00,\n",
              "           -1.5105e+00,  3.4099e-01],\n",
              "          [ 2.0874e+00, -1.3765e-01,  3.5738e-01,  ..., -1.0935e+00,\n",
              "            1.9706e-01,  5.9300e-01],\n",
              "          [ 4.8416e-01, -1.4172e+00, -2.3874e-01,  ..., -1.6956e+00,\n",
              "            1.7432e-01,  1.0296e+00],\n",
              "          [ 1.5673e-01, -2.5888e-01,  2.3910e-01,  ..., -2.2151e+00,\n",
              "            8.9119e-01,  1.5464e+00]],\n",
              "\n",
              "         ...,\n",
              "\n",
              "         [[ 4.2590e-01,  2.8457e-03, -2.0086e-01,  ...,  8.5391e-01,\n",
              "            9.2919e-01,  6.8654e-01],\n",
              "          [ 6.7893e-01, -6.7194e-02,  4.1684e-01,  ...,  1.1101e+00,\n",
              "            1.6268e-01,  3.1714e-01],\n",
              "          [ 7.8922e-02, -8.3106e-03,  1.8084e-01,  ...,  1.7697e+00,\n",
              "            3.2186e-01,  2.1759e-01],\n",
              "          [-7.7709e-02,  7.7510e-01,  5.8449e-02,  ...,  1.0909e+00,\n",
              "            1.5824e-01,  4.0878e-01]],\n",
              "\n",
              "         [[ 1.0168e+00,  1.5204e+00, -1.7499e-01,  ..., -4.5272e-01,\n",
              "            4.7871e-01, -1.3828e+00],\n",
              "          [ 1.3457e+00,  2.5899e-01, -3.6351e-01,  ..., -1.1111e-01,\n",
              "            8.4641e-01, -2.9496e-01],\n",
              "          [ 1.3160e+00, -1.1175e+00, -6.6241e-01,  ..., -9.9117e-01,\n",
              "            1.2101e-01, -1.3681e+00],\n",
              "          [ 8.0726e-01,  1.3555e-01, -7.7184e-01,  ..., -9.1600e-01,\n",
              "            8.8640e-02, -4.0076e-02]],\n",
              "\n",
              "         [[ 5.6533e-01, -1.4192e-01, -1.7504e-02,  ..., -3.9947e-01,\n",
              "            4.0509e-01,  1.5248e+00],\n",
              "          [ 1.0515e-01,  1.2551e-01,  1.8855e-01,  ...,  1.0578e+00,\n",
              "            9.4447e-01,  1.3274e+00],\n",
              "          [-6.8278e-01, -2.9770e-01,  1.9303e-01,  ...,  5.0484e-01,\n",
              "            6.2096e-01,  1.8908e+00],\n",
              "          [-3.9780e-01, -3.0900e-01,  2.8079e-02,  ...,  2.1995e-01,\n",
              "            9.8450e-01,  1.3471e+00]]]], device='cuda:0',\n",
              "       grad_fn=<PermuteBackward0>), tensor([[[[-0.0558,  0.1161, -0.0150,  ...,  0.0363,  0.0286,  0.0366],\n",
              "          [-0.0420, -0.0849, -0.1169,  ...,  0.2280, -0.0684,  0.2339],\n",
              "          [-0.0126, -0.0108, -0.0797,  ...,  0.0343,  0.1868, -0.1371],\n",
              "          [ 0.2060, -0.1914,  0.3310,  ..., -0.0464,  0.1194, -0.0479]],\n",
              "\n",
              "         [[ 0.1468,  0.1994, -0.0885,  ..., -0.4647, -0.3292,  0.0612],\n",
              "          [ 0.0924, -0.1362, -0.0563,  ...,  0.1012, -0.0404, -0.2264],\n",
              "          [ 0.3470, -0.0907, -0.1145,  ...,  0.0487,  0.2546, -0.1363],\n",
              "          [ 0.3359,  0.1826,  0.0624,  ..., -0.0654,  0.1482,  0.0012]],\n",
              "\n",
              "         [[ 0.0968,  0.1657,  0.0863,  ...,  0.2098,  0.0645, -0.0496],\n",
              "          [ 0.0558, -0.1429,  0.3459,  ..., -0.0613,  0.1573, -0.1017],\n",
              "          [-0.1693, -0.0712, -0.0189,  ..., -0.1216,  0.0577, -0.0435],\n",
              "          [ 0.1518,  0.1301,  0.2739,  ...,  0.1069,  0.2013,  0.0297]],\n",
              "\n",
              "         ...,\n",
              "\n",
              "         [[-0.1266,  0.0505,  0.1627,  ..., -0.1223, -0.0058, -0.0729],\n",
              "          [-0.5027, -0.0940, -0.0409,  ...,  0.0809,  0.1265,  0.0949],\n",
              "          [-0.0757,  0.0746,  0.5304,  ..., -0.5555,  0.0327,  0.0036],\n",
              "          [-0.2398,  0.1437,  0.3189,  ..., -0.0133, -0.4910, -0.0574]],\n",
              "\n",
              "         [[ 0.1157,  0.0342, -0.1861,  ...,  0.1840,  0.0126, -0.1815],\n",
              "          [-0.1484, -0.1517,  0.0073,  ...,  0.1344, -0.1986,  0.0350],\n",
              "          [-0.2108,  0.0526, -0.2649,  ..., -0.1600, -0.6255,  0.2676],\n",
              "          [-0.4565, -0.0654, -0.1124,  ..., -0.4845, -0.3013,  0.2111]],\n",
              "\n",
              "         [[-0.0876, -0.1486,  0.0672,  ..., -0.1312, -0.1482,  0.1200],\n",
              "          [-0.0273,  0.0546,  0.0059,  ...,  0.3837,  0.1590,  0.1636],\n",
              "          [ 0.0225,  0.0332, -0.2491,  ...,  0.0625,  0.2970,  0.2628],\n",
              "          [-0.0382, -0.1431, -0.0888,  ...,  0.0426,  0.2689,  0.0116]]]],\n",
              "       device='cuda:0', grad_fn=<PermuteBackward0>)), (tensor([[[[ 0.0229, -1.1848,  0.2369,  ..., -0.8653,  0.1026, -0.1074],\n",
              "          [-0.4936, -3.1998, -0.9982,  ...,  0.1434,  0.2324,  2.9610],\n",
              "          [-0.4180, -4.1996,  0.2402,  ...,  0.5500,  0.0690,  1.7047],\n",
              "          [ 0.9658, -2.7291, -1.6657,  ..., -1.2271,  0.5769, -1.5046]],\n",
              "\n",
              "         [[-0.7808, -0.0912, -0.6903,  ...,  1.0350, -0.6004, -0.5897],\n",
              "          [-0.3783,  0.9395, -0.9373,  ...,  0.7647,  0.5802,  1.5602],\n",
              "          [ 1.1075,  0.3121, -3.3132,  ...,  0.4435, -0.1913,  0.6379],\n",
              "          [ 0.0103, -0.8505, -0.7338,  ..., -0.3725,  0.9879, -0.2637]],\n",
              "\n",
              "         [[ 1.6246,  2.0610,  3.3828,  ...,  0.8993,  1.3332, -0.8419],\n",
              "          [ 0.6402,  4.0344, -2.0915,  ..., -1.7917,  1.5134, -1.2862],\n",
              "          [-0.0944,  3.0589, -1.9172,  ..., -2.7064,  1.9953, -1.1607],\n",
              "          [-2.2455,  4.9922, -1.2830,  ..., -1.9933,  0.7639,  0.3747]],\n",
              "\n",
              "         ...,\n",
              "\n",
              "         [[ 1.7489, -2.2320, -2.6726,  ...,  1.0752,  0.9695,  2.2777],\n",
              "          [-1.2547, -1.0680, -2.3425,  ..., -0.3605, -2.4639,  2.7906],\n",
              "          [-2.6413, -1.4860, -1.7258,  ...,  0.5755, -2.9718,  2.2616],\n",
              "          [-1.4501, -0.3066, -2.6280,  ..., -0.6856, -3.9144,  3.3554]],\n",
              "\n",
              "         [[ 1.9319,  0.5012,  0.8767,  ..., -0.3065, -1.0790,  0.0511],\n",
              "          [ 1.4115,  1.3335,  1.7137,  ...,  0.2076, -1.5080, -1.5432],\n",
              "          [ 1.2296,  1.3557,  1.5398,  ..., -0.1570, -1.8698, -1.2709],\n",
              "          [ 1.5032,  1.7520,  0.4970,  ...,  0.5656, -2.1118, -1.4727]],\n",
              "\n",
              "         [[-0.0307,  0.3175, -0.7030,  ...,  0.1039,  0.4745, -0.0083],\n",
              "          [-0.1897,  1.3463, -0.7840,  ..., -1.0570,  0.4220, -0.0331],\n",
              "          [ 1.4555,  1.1625, -0.7402,  ..., -0.5983,  0.5298, -0.0494],\n",
              "          [ 0.1475, -0.3427,  0.2469,  ..., -0.7461,  1.0032, -0.2786]]]],\n",
              "       device='cuda:0', grad_fn=<PermuteBackward0>), tensor([[[[-3.5499e-03, -1.1126e-01, -1.2800e-01,  ...,  3.4099e-02,\n",
              "           -1.0799e-02, -3.2241e-01],\n",
              "          [ 3.4426e-01, -6.7400e-02,  5.5139e-01,  ..., -2.0532e-01,\n",
              "           -4.1099e-01,  8.9213e-01],\n",
              "          [-4.8086e-01, -4.8030e-01, -1.1466e-01,  ...,  8.9748e-01,\n",
              "            6.1191e-01,  1.1043e+00],\n",
              "          [ 8.3419e-01, -2.0517e-01, -2.5143e-02,  ..., -8.5030e-01,\n",
              "           -1.9111e-02,  6.3482e-01]],\n",
              "\n",
              "         [[-8.7646e-02,  6.7933e-02, -1.5204e-01,  ..., -1.5848e-01,\n",
              "           -3.2443e-02,  3.0521e-02],\n",
              "          [-1.0160e+00, -8.9316e-01,  4.9423e-01,  ...,  2.8851e-01,\n",
              "           -1.2141e-01, -1.4707e-01],\n",
              "          [ 1.9636e-02, -8.2650e-01, -3.3104e-01,  ..., -7.6903e-03,\n",
              "           -4.4586e-01, -7.5885e-01],\n",
              "          [-3.4588e-01,  5.0474e-01,  2.3076e-01,  ...,  8.4213e-02,\n",
              "            4.5972e-01, -1.7126e-01]],\n",
              "\n",
              "         [[ 2.3816e-02, -6.1286e-01, -4.9598e-02,  ..., -5.9209e-02,\n",
              "            3.2628e-02, -1.0090e-03],\n",
              "          [ 5.9966e-02, -8.9249e-01,  5.5680e-01,  ..., -3.5633e-01,\n",
              "           -9.5948e-01, -7.5703e-01],\n",
              "          [ 7.8398e-02, -3.4598e-01, -1.2665e-01,  ..., -4.1649e-01,\n",
              "           -4.0143e-01, -8.2108e-03],\n",
              "          [ 1.8873e-01, -1.0019e+00, -1.3539e-02,  ...,  4.9593e-01,\n",
              "           -4.3267e-01,  7.5393e-02]],\n",
              "\n",
              "         ...,\n",
              "\n",
              "         [[ 3.8606e-02, -3.8191e-02,  5.7725e-01,  ..., -1.5613e-01,\n",
              "            1.8103e-01, -8.2997e-02],\n",
              "          [ 1.6069e-01,  1.4729e-01, -7.1680e-01,  ..., -1.3956e-01,\n",
              "            6.2656e-01,  1.5386e-02],\n",
              "          [ 2.8558e-02, -4.3079e-01,  1.4036e-01,  ...,  1.6374e-01,\n",
              "            3.2510e-01,  2.7713e-01],\n",
              "          [ 1.6740e-01, -7.0375e-01,  1.1800e+00,  ...,  5.2451e-01,\n",
              "            3.2645e-01,  2.2836e-02]],\n",
              "\n",
              "         [[ 1.4627e-01, -4.6410e-02, -1.8822e-01,  ..., -1.1663e-01,\n",
              "           -1.1252e-01,  5.5198e-02],\n",
              "          [ 1.8820e-01,  9.9576e-01,  3.7598e-02,  ..., -1.1750e-01,\n",
              "           -1.8196e-01, -4.4816e-02],\n",
              "          [ 4.3714e-01,  2.6638e-01,  5.3326e-01,  ..., -3.9169e-01,\n",
              "            2.3639e-03, -3.3484e-01],\n",
              "          [-4.5980e-02,  6.6404e-01,  9.3948e-02,  ..., -2.8678e-01,\n",
              "           -1.0659e+00,  3.1689e-01]],\n",
              "\n",
              "         [[ 4.5136e-02,  5.0176e-02,  7.0724e-02,  ...,  3.4732e-02,\n",
              "           -8.9303e-03, -3.3420e-02],\n",
              "          [-1.1898e+00,  7.5904e-02, -7.2281e-01,  ..., -3.9701e-01,\n",
              "           -5.4642e-01, -7.5601e-02],\n",
              "          [-3.7225e-01,  5.3465e-01,  2.9219e-01,  ...,  2.5649e-01,\n",
              "           -8.6741e-01, -3.4681e-02],\n",
              "          [-6.6546e-02, -7.0560e-01,  3.5078e-01,  ..., -8.2043e-01,\n",
              "           -6.3198e-01,  9.0272e-01]]]], device='cuda:0',\n",
              "       grad_fn=<PermuteBackward0>)), (tensor([[[[-0.9464, -0.1340,  0.2612,  ..., -0.9366,  0.1398, -2.8048],\n",
              "          [-0.4828, -0.4139, -1.7325,  ..., -1.9656, -3.3604,  4.7229],\n",
              "          [ 0.2817, -1.2072, -2.3720,  ..., -1.5272, -0.0835,  6.2141],\n",
              "          [ 1.6944,  0.5031, -2.2106,  ..., -1.5541, -1.2436,  3.4763]],\n",
              "\n",
              "         [[ 0.3094, -0.1110,  0.5078,  ..., -0.0797, -0.2169, -2.0371],\n",
              "          [-1.8832,  1.2890,  2.8674,  ..., -2.2911, -2.5046,  6.4761],\n",
              "          [-2.3612, -0.6242,  2.9359,  ..., -1.4187, -1.2978,  6.8647],\n",
              "          [-2.9948, -0.2586,  2.9071,  ..., -0.9948, -0.5538,  5.0513]],\n",
              "\n",
              "         [[ 0.1255, -0.5429, -0.1587,  ...,  0.0704,  0.2118, -0.1057],\n",
              "          [ 2.4912,  2.2011, -1.1873,  ..., -0.2927,  0.6565, -0.8274],\n",
              "          [ 0.3586,  2.8314, -0.4815,  ..., -0.5865,  1.6112, -0.1450],\n",
              "          [ 0.1577,  0.9555,  0.4602,  ..., -0.1684,  1.0573,  0.4295]],\n",
              "\n",
              "         ...,\n",
              "\n",
              "         [[-0.2950, -0.0239,  0.1300,  ...,  1.2898,  0.1612,  1.7324],\n",
              "          [ 1.7179, -1.5212, -0.2861,  ..., -1.3998, -1.2310, -0.3717],\n",
              "          [ 1.4434, -1.0773, -0.1293,  ..., -1.1284,  0.3480, -0.9473],\n",
              "          [ 0.7510, -0.1620, -1.7652,  ..., -1.2249,  0.4822, -0.1317]],\n",
              "\n",
              "         [[-0.2710, -0.1054,  0.0941,  ...,  0.1092, -0.0360,  0.0090],\n",
              "          [ 1.2195, -1.8780,  1.7646,  ..., -0.7495,  0.1739,  1.2748],\n",
              "          [ 1.1801, -1.4370, -0.8973,  ..., -0.2005,  0.5049,  1.0804],\n",
              "          [ 0.9071,  0.9997,  0.7640,  ...,  0.0702,  1.4142,  0.2460]],\n",
              "\n",
              "         [[ 3.3463,  1.2668, -2.5120,  ..., -2.6478, -4.1022, -1.4824],\n",
              "          [ 5.0015, -1.4935,  4.2497,  ..., -1.6745,  2.8622, -3.7722],\n",
              "          [ 6.7008, -7.2713,  5.8217,  ..., -3.0427,  2.1210, -2.3917],\n",
              "          [-2.0215, -4.6657,  2.1394,  ..., -2.6312,  3.7529, -0.2502]]]],\n",
              "       device='cuda:0', grad_fn=<PermuteBackward0>), tensor([[[[ 0.0448, -0.0079, -0.0039,  ...,  0.0469, -0.0625,  0.0423],\n",
              "          [ 0.9001,  0.1165, -1.1241,  ..., -0.9800, -0.0993,  0.2043],\n",
              "          [-0.1740, -0.5627,  0.2891,  ..., -0.5253, -0.2712, -0.0723],\n",
              "          [ 0.2621,  0.0037, -0.3902,  ..., -0.5687, -0.2429, -0.5245]],\n",
              "\n",
              "         [[-0.0570,  0.0298, -0.1893,  ..., -0.0286,  0.0262,  0.0477],\n",
              "          [ 0.5520,  0.3427,  0.3867,  ...,  0.3104, -0.4633, -0.1285],\n",
              "          [ 0.6652,  0.5123,  0.2546,  ...,  0.3328, -0.2313, -0.5226],\n",
              "          [ 0.6784,  0.1461,  0.0014,  ..., -0.6120, -0.3806, -0.3312]],\n",
              "\n",
              "         [[-0.0136,  0.0204,  0.0132,  ...,  0.0019,  0.0096, -0.0066],\n",
              "          [-0.3732,  0.0612,  0.9974,  ...,  1.0145,  1.0003, -0.4588],\n",
              "          [-0.0090,  0.5882,  0.4921,  ...,  0.7115, -0.2358, -0.3968],\n",
              "          [-0.0131,  0.5096, -0.3151,  ...,  0.3422, -0.3885,  0.3515]],\n",
              "\n",
              "         ...,\n",
              "\n",
              "         [[-0.0183,  0.0194, -0.0389,  ...,  0.0243,  0.0291, -0.0504],\n",
              "          [ 0.2099,  0.2403,  0.2359,  ...,  0.0045, -0.5525,  0.2474],\n",
              "          [ 0.4800, -0.3591,  0.4970,  ...,  0.1220, -0.2198, -0.0763],\n",
              "          [ 0.0629, -0.1796,  0.1284,  ..., -0.8361, -0.6219,  0.4327]],\n",
              "\n",
              "         [[-0.0056, -0.0092,  0.0090,  ..., -0.0057, -0.0048, -0.0124],\n",
              "          [ 0.1145, -0.8255, -0.0972,  ...,  0.2660,  0.1120, -1.1702],\n",
              "          [ 1.1997, -0.8575, -0.2461,  ...,  0.1119,  1.3152,  0.1481],\n",
              "          [ 0.3138,  0.0025,  0.4523,  ...,  0.1181, -0.8902,  0.3377]],\n",
              "\n",
              "         [[ 0.0335, -0.0190,  0.0502,  ..., -0.0499, -0.0124,  0.0989],\n",
              "          [-0.0686, -0.0160,  0.1919,  ...,  0.2653, -0.2373, -0.7951],\n",
              "          [ 0.0518,  0.6580, -0.0057,  ...,  0.1214, -0.1426, -0.1557],\n",
              "          [ 0.0772, -0.0053, -0.2960,  ..., -0.1878,  0.0758,  0.1092]]]],\n",
              "       device='cuda:0', grad_fn=<PermuteBackward0>)), (tensor([[[[ 1.1075e+00, -1.9871e-01, -2.5474e-02,  ...,  4.9396e-01,\n",
              "            5.9524e-01, -2.4627e-01],\n",
              "          [-2.6086e+00, -1.1294e+00,  1.2070e+00,  ..., -2.1451e+00,\n",
              "           -5.7034e+00, -1.7532e+00],\n",
              "          [-3.9000e+00, -1.4812e+00,  1.5384e+00,  ..., -3.2277e+00,\n",
              "           -5.8747e+00, -2.3932e+00],\n",
              "          [-2.7186e+00, -1.2492e+00,  9.2124e-01,  ..., -1.6323e-01,\n",
              "           -3.9331e+00, -1.1328e+00]],\n",
              "\n",
              "         [[-1.4653e-01, -3.9991e-02,  1.4123e-01,  ..., -1.8414e-02,\n",
              "           -5.1093e-01, -1.4713e-01],\n",
              "          [-1.2169e+00,  2.4346e+00,  1.8229e+00,  ..., -7.2843e-01,\n",
              "           -6.3034e-01,  2.0553e+00],\n",
              "          [-1.1871e+00,  2.9255e+00,  1.8240e+00,  ..., -2.6669e-02,\n",
              "           -8.2099e-01,  2.3691e+00],\n",
              "          [-1.0620e+00,  2.5099e+00,  2.1431e+00,  ..., -4.3297e-01,\n",
              "           -2.4044e-03,  1.7717e+00]],\n",
              "\n",
              "         [[ 1.5762e-01,  1.1019e-01,  9.0861e-01,  ..., -3.0418e-01,\n",
              "            2.2106e-01, -3.0971e-01],\n",
              "          [-2.6637e-01, -8.1682e-01, -1.4441e+00,  ...,  2.9753e-01,\n",
              "           -1.6896e+00,  1.4330e+00],\n",
              "          [-2.0143e+00, -2.7151e+00, -4.9702e+00,  ..., -1.7419e-01,\n",
              "           -4.3699e+00,  1.9355e+00],\n",
              "          [-2.0288e-01, -9.4144e-01, -2.5215e+00,  ..., -1.0595e-01,\n",
              "           -2.9221e+00,  9.6585e-01]],\n",
              "\n",
              "         ...,\n",
              "\n",
              "         [[-2.2336e-01, -6.2498e-02, -2.6569e-01,  ...,  1.1625e-01,\n",
              "            2.0643e-02,  5.0971e-02],\n",
              "          [-2.8031e+00,  2.5026e-01,  5.5837e-01,  ...,  2.6894e-01,\n",
              "           -2.2556e+00, -1.4741e+00],\n",
              "          [-2.1472e+00, -8.9820e-01,  1.7070e+00,  ...,  5.4071e-01,\n",
              "           -1.0164e+00, -1.4438e+00],\n",
              "          [-9.4385e-01, -1.0299e+00,  7.8745e-01,  ...,  9.7706e-02,\n",
              "           -8.2508e-01, -3.3095e-01]],\n",
              "\n",
              "         [[-1.6175e-01, -1.4582e+00,  1.3419e-01,  ..., -1.0599e-01,\n",
              "            1.3324e-04,  4.7550e-01],\n",
              "          [ 1.1294e-01,  2.7720e+00,  3.8929e-01,  ...,  9.7954e-01,\n",
              "            2.0211e-01, -5.6551e-01],\n",
              "          [-9.1315e-01,  7.6276e+00,  2.9664e+00,  ...,  5.0105e-01,\n",
              "           -3.5128e+00, -1.2969e+00],\n",
              "          [-4.0114e-01,  4.7026e+00,  4.9043e-01,  ..., -6.0800e-01,\n",
              "           -4.0006e-01,  5.9719e-01]],\n",
              "\n",
              "         [[ 1.2232e-01,  9.1176e-02, -1.2031e-02,  ...,  6.1931e-01,\n",
              "           -2.9285e-02,  8.3668e-02],\n",
              "          [-5.7171e-01,  2.5625e-01, -1.0481e+00,  ...,  5.9509e-01,\n",
              "            1.9956e-02, -1.7710e-01],\n",
              "          [-2.3375e+00,  8.5124e-01, -5.4910e-01,  ...,  1.7429e+00,\n",
              "           -1.4887e-01, -3.5240e-02],\n",
              "          [-1.6606e+00,  3.9313e-02, -3.7401e-01,  ...,  6.0682e-01,\n",
              "            7.2303e-01, -1.3563e+00]]]], device='cuda:0',\n",
              "       grad_fn=<PermuteBackward0>), tensor([[[[-4.1938e-02,  2.3455e-02, -4.7451e-03,  ...,  1.1071e-03,\n",
              "           -7.3759e-03,  4.2715e-02],\n",
              "          [-3.4521e-02,  2.4970e-01, -1.3403e-02,  ...,  2.4904e-01,\n",
              "            6.9700e-01, -5.5091e-01],\n",
              "          [ 1.4752e+00, -8.0947e-01,  4.0213e-01,  ..., -9.3931e-02,\n",
              "           -3.9245e-01, -1.9318e-01],\n",
              "          [ 5.2551e-01, -4.6147e-02,  4.2787e-01,  ...,  1.9161e-01,\n",
              "            2.6239e-01, -6.2025e-01]],\n",
              "\n",
              "         [[-1.4422e-02,  2.2792e-02, -1.3882e-02,  ..., -1.0430e-02,\n",
              "           -3.4188e-02, -2.0854e-03],\n",
              "          [ 1.3428e+00,  5.8575e-01, -4.9328e-01,  ..., -1.2872e-01,\n",
              "            1.5499e-01,  4.1676e-01],\n",
              "          [ 4.9719e-01, -7.7821e-01, -5.8135e-01,  ...,  6.1534e-01,\n",
              "            1.6270e+00, -8.9768e-01],\n",
              "          [ 2.1421e-01, -1.1087e+00, -3.5172e-01,  ...,  1.0754e-01,\n",
              "            1.4087e+00, -3.4046e-01]],\n",
              "\n",
              "         [[ 2.1300e-02, -3.9342e-02,  2.7186e-02,  ...,  1.7558e-02,\n",
              "            1.4909e-02, -5.4541e-02],\n",
              "          [-6.2969e-01,  1.1155e+00, -1.2547e+00,  ...,  5.2590e-01,\n",
              "           -8.6113e-01,  2.6262e+00],\n",
              "          [ 3.7264e-01,  1.7528e+00, -7.9733e-01,  ...,  8.8554e-01,\n",
              "           -7.9290e-01, -8.0023e-01],\n",
              "          [-1.2392e+00,  2.1782e+00,  7.2718e-02,  ..., -1.3239e+00,\n",
              "            1.3457e+00, -1.5730e-01]],\n",
              "\n",
              "         ...,\n",
              "\n",
              "         [[-4.4282e-03, -8.0970e-03, -7.2070e-03,  ...,  2.8596e-03,\n",
              "           -2.5436e-02, -7.3347e-02],\n",
              "          [-9.9472e-01,  1.0430e+00, -2.9247e-01,  ...,  9.9340e-01,\n",
              "            1.5288e+00, -1.9747e-01],\n",
              "          [ 4.2511e-01,  3.2081e-01,  5.2216e-01,  ...,  1.4677e+00,\n",
              "            2.5076e-01, -4.7422e-01],\n",
              "          [ 1.1543e-01,  6.9495e-01,  1.1443e+00,  ..., -8.8805e-03,\n",
              "            5.6762e-01,  2.3720e-02]],\n",
              "\n",
              "         [[-3.0566e-01, -1.2933e-02, -1.4406e-02,  ..., -2.1372e-02,\n",
              "            1.5648e-02, -5.5997e-02],\n",
              "          [-9.3597e-01, -2.0905e+00, -1.8206e-02,  ...,  7.8112e-02,\n",
              "           -1.7242e+00, -1.1876e+00],\n",
              "          [-3.0382e+00,  4.9300e-01, -8.3326e-01,  ...,  2.1218e+00,\n",
              "            1.5970e-01, -1.1953e+00],\n",
              "          [-3.0321e+00,  6.5716e-01,  4.4997e-01,  ...,  1.0920e+00,\n",
              "           -5.3100e-01,  4.3377e-01]],\n",
              "\n",
              "         [[ 2.4038e-02,  4.1903e-03, -1.0928e-02,  ...,  2.9749e-02,\n",
              "           -2.0558e-02, -1.3624e-02],\n",
              "          [-8.6211e-02, -9.9949e-01, -8.9934e-01,  ...,  9.6199e-02,\n",
              "           -1.1170e+00,  6.5163e-02],\n",
              "          [-7.5979e-01,  5.9089e-01,  8.8116e-01,  ..., -1.3964e-02,\n",
              "           -1.5517e+00,  5.7744e-01],\n",
              "          [-1.4358e-01, -3.4278e-01, -1.7701e-01,  ..., -2.5998e-01,\n",
              "           -1.2602e+00,  7.7311e-01]]]], device='cuda:0',\n",
              "       grad_fn=<PermuteBackward0>)), (tensor([[[[ 3.3772e-02, -2.2237e-01, -5.3012e-01,  ...,  2.0276e-01,\n",
              "            4.3386e-01,  3.8919e-01],\n",
              "          [ 1.5698e+00, -5.1869e-01, -5.0683e-01,  ..., -2.5195e+00,\n",
              "            3.6016e-01,  1.0423e+00],\n",
              "          [ 5.5020e-01,  2.7233e-01,  2.8804e-01,  ..., -1.0337e+00,\n",
              "            3.7724e-01,  7.7308e-01],\n",
              "          [-1.0108e-01,  5.6725e-01, -9.8328e-02,  ...,  1.7556e-01,\n",
              "           -1.0789e+00, -1.6783e-02]],\n",
              "\n",
              "         [[-2.0100e-01, -3.5912e-02,  6.6743e-02,  ...,  1.7012e-02,\n",
              "           -1.0202e+00, -1.2416e-01],\n",
              "          [-7.1527e-01,  6.8099e-02, -2.3569e-02,  ...,  4.3780e-01,\n",
              "           -1.1368e-01,  2.0181e+00],\n",
              "          [-9.8551e-01,  5.9121e-02,  1.0113e+00,  ...,  1.0265e+00,\n",
              "            1.0893e+00,  3.2081e-01],\n",
              "          [-7.2088e-02, -4.8598e-01, -9.5943e-01,  ..., -4.4072e-01,\n",
              "            1.4573e+00,  4.7453e-02]],\n",
              "\n",
              "         [[-1.0148e+00,  2.0653e-02,  4.7520e-01,  ..., -6.7730e-01,\n",
              "            3.8754e-01, -1.0067e-01],\n",
              "          [ 6.8344e-01, -7.3038e-01,  1.1875e+00,  ...,  1.8922e+00,\n",
              "           -8.3521e-01, -3.0734e-01],\n",
              "          [-2.7922e-01, -1.3588e+00,  2.3574e-01,  ...,  8.2333e-01,\n",
              "           -1.8541e+00, -9.6321e-01],\n",
              "          [-1.0563e+00, -2.0244e+00, -7.0316e-01,  ...,  1.8097e+00,\n",
              "           -8.1417e-01, -1.3969e+00]],\n",
              "\n",
              "         ...,\n",
              "\n",
              "         [[ 9.3616e-01, -8.7795e-01, -3.8482e-01,  ..., -9.2588e-01,\n",
              "           -4.8175e-01,  5.9845e-01],\n",
              "          [ 2.4978e+00, -1.7363e+00, -1.5388e+00,  ...,  8.1957e-02,\n",
              "           -1.7418e+00, -1.1852e+00],\n",
              "          [ 2.1520e+00, -8.3888e-01, -3.4349e+00,  ..., -8.0436e-01,\n",
              "           -1.2207e+00, -8.8348e-01],\n",
              "          [ 7.9223e-01, -1.6301e+00, -2.1793e+00,  ...,  2.1555e-01,\n",
              "           -1.2576e+00, -8.0719e-01]],\n",
              "\n",
              "         [[-7.5230e-01,  2.4354e+00,  3.3947e-01,  ...,  1.8599e-01,\n",
              "            1.9439e+00, -4.6299e-01],\n",
              "          [ 1.0504e+00, -1.1714e+00,  5.0790e-01,  ..., -1.1492e-01,\n",
              "           -1.2593e+00,  5.0060e-01],\n",
              "          [ 1.0598e-01, -1.6905e+00, -4.8377e-01,  ..., -5.1364e-02,\n",
              "           -2.4269e+00,  7.1343e-01],\n",
              "          [ 4.5579e-01, -2.5717e+00, -9.1871e-01,  ...,  1.6678e-01,\n",
              "           -3.0403e+00,  4.4300e-01]],\n",
              "\n",
              "         [[-1.7945e+00, -2.9769e-01, -1.0481e+00,  ..., -4.3331e-01,\n",
              "            1.4907e-01,  2.2496e-01],\n",
              "          [ 2.4551e+00,  8.2958e-01,  9.4900e-01,  ...,  2.0125e-01,\n",
              "            9.0152e-01,  1.4791e+00],\n",
              "          [ 3.7567e+00,  1.1510e-01,  2.9382e-01,  ..., -5.2861e-01,\n",
              "            6.7045e-02,  5.4215e-01],\n",
              "          [ 2.7201e+00,  4.6028e-01,  7.6793e-01,  ..., -4.1496e-01,\n",
              "            1.8193e-03,  5.0197e-01]]]], device='cuda:0',\n",
              "       grad_fn=<PermuteBackward0>), tensor([[[[-3.7891e-02, -1.4517e-02,  2.0704e-02,  ...,  4.5115e-02,\n",
              "            7.4843e-03,  2.9164e-02],\n",
              "          [ 3.2126e-02,  7.8076e-01, -6.0832e-01,  ..., -9.8103e-01,\n",
              "            1.4849e-01,  2.2203e+00],\n",
              "          [ 3.0852e-01,  7.0484e-01, -6.5215e-01,  ..., -3.2198e-01,\n",
              "           -3.8758e-01,  3.5050e-01],\n",
              "          [-1.5790e-01, -3.2834e-01, -1.7558e-01,  ..., -3.4331e-02,\n",
              "            1.4343e-01,  4.5338e-01]],\n",
              "\n",
              "         [[-9.9103e-03, -8.0394e-03,  2.0609e-03,  ..., -9.8764e-03,\n",
              "            2.0902e-02, -1.6797e-03],\n",
              "          [-1.8568e+00, -1.0566e+00,  6.9227e-02,  ...,  2.1388e+00,\n",
              "            8.0262e-01,  8.1016e-01],\n",
              "          [-7.6861e-01,  1.6738e+00, -1.1442e-01,  ..., -1.4765e-01,\n",
              "            6.4098e-01,  1.6742e+00],\n",
              "          [-6.7427e-01, -4.0304e-01, -8.5035e-01,  ...,  1.6663e+00,\n",
              "           -3.1204e-01, -2.3777e-01]],\n",
              "\n",
              "         [[-1.4541e-02,  1.4152e-02, -2.6530e-03,  ...,  6.3147e-03,\n",
              "            1.1890e-02,  5.4224e-03],\n",
              "          [ 9.0766e-01,  9.4744e-01,  9.5228e-01,  ..., -1.1057e+00,\n",
              "           -2.3208e-01,  7.6009e-02],\n",
              "          [ 7.2017e-01, -3.9064e-01,  2.4541e-01,  ...,  4.4325e-01,\n",
              "            6.5905e-01, -9.5565e-02],\n",
              "          [ 2.7791e-01, -5.6407e-01, -2.0954e-01,  ..., -2.9935e-01,\n",
              "            5.5656e-01, -5.0180e-01]],\n",
              "\n",
              "         ...,\n",
              "\n",
              "         [[-3.2718e-02,  4.4853e-03,  1.7030e-02,  ...,  4.1048e-03,\n",
              "            1.7413e-02,  8.7375e-03],\n",
              "          [ 2.2484e+00, -1.6038e+00, -5.4614e-01,  ..., -2.1155e+00,\n",
              "            2.2516e+00, -6.7070e-01],\n",
              "          [-1.3898e+00, -9.9390e-01, -1.0883e+00,  ...,  2.2117e+00,\n",
              "            1.5346e-01, -8.8495e-01],\n",
              "          [ 7.0725e-01, -4.3050e-01, -1.5718e-01,  ..., -1.4809e-01,\n",
              "           -1.6269e-01,  8.3459e-01]],\n",
              "\n",
              "         [[-2.2343e-02, -1.0199e-02, -1.2146e-02,  ...,  1.1291e-02,\n",
              "           -3.2601e-02, -2.3990e-02],\n",
              "          [-5.1969e-01, -1.1574e-01,  1.2024e-01,  ..., -3.4383e-01,\n",
              "           -2.4380e-01,  4.0867e-01],\n",
              "          [-1.2626e+00, -7.6375e-03, -1.6316e-01,  ...,  5.4070e-01,\n",
              "            2.8821e-02,  2.2519e-01],\n",
              "          [ 6.2361e-01,  7.9155e-02, -4.3219e-01,  ...,  8.3312e-01,\n",
              "           -1.2087e-01,  1.4134e-01]],\n",
              "\n",
              "         [[ 1.5332e-02, -2.4571e-02,  1.6725e-05,  ..., -3.9876e-03,\n",
              "           -2.0443e-02,  2.4448e-02],\n",
              "          [-3.3700e-01, -2.0048e+00,  9.6913e-01,  ...,  9.1082e-02,\n",
              "           -2.4940e+00,  1.4455e+00],\n",
              "          [ 9.1308e-01, -1.6367e+00, -7.4352e-02,  ...,  6.7201e-01,\n",
              "           -3.4495e-01,  2.5365e-01],\n",
              "          [-2.1657e-01,  1.3716e-01, -6.8506e-01,  ..., -4.6609e-01,\n",
              "           -9.3874e-01,  4.5445e-01]]]], device='cuda:0',\n",
              "       grad_fn=<PermuteBackward0>)), (tensor([[[[-1.6716, -0.4232, -0.4221,  ...,  0.2908,  0.3721, -0.4930],\n",
              "          [ 0.3654,  0.0736,  0.9591,  ...,  1.9465, -1.2194, -0.0857],\n",
              "          [ 0.8190,  0.9759, -1.4302,  ...,  1.1371, -0.8248, -0.3538],\n",
              "          [-0.0335, -0.2845, -0.9890,  ...,  0.3838, -0.3832,  0.3596]],\n",
              "\n",
              "         [[ 0.0574, -0.1692,  1.9589,  ...,  0.2685,  0.0770, -0.2426],\n",
              "          [ 1.3529, -0.5517, -2.2348,  ...,  0.3275, -0.1287, -0.9811],\n",
              "          [ 1.6795, -1.0982, -1.9262,  ...,  1.0954, -0.9082, -1.6248],\n",
              "          [ 0.9984, -0.8710, -0.9883,  ...,  0.0614, -0.1516, -1.3329]],\n",
              "\n",
              "         [[ 0.0121,  0.8854,  0.5159,  ..., -0.5707,  0.3165, -0.0623],\n",
              "          [-0.3442,  0.6231, -0.4826,  ...,  1.7275, -0.6146, -1.0385],\n",
              "          [-1.1205,  0.2658, -2.3984,  ...,  2.2728, -0.6386, -1.4858],\n",
              "          [-0.3833,  0.4920, -0.6229,  ...,  2.2747, -0.0139, -0.6464]],\n",
              "\n",
              "         ...,\n",
              "\n",
              "         [[ 0.6609,  0.9941, -0.9961,  ..., -0.7100,  0.6430,  0.8490],\n",
              "          [ 0.7282,  0.9794, -1.9523,  ..., -1.1366, -0.6150,  1.0039],\n",
              "          [-1.2651,  1.3536, -0.3085,  ..., -0.4265, -1.0805,  1.8121],\n",
              "          [-0.8498, -0.3748, -0.7991,  ..., -0.1510,  0.2017, -0.0913]],\n",
              "\n",
              "         [[-0.3269,  0.3402,  0.7524,  ...,  0.5812, -0.1816, -0.3035],\n",
              "          [ 0.4303,  3.0872, -0.9256,  ..., -1.0028,  0.4988, -0.5667],\n",
              "          [ 1.1920,  2.0894, -0.7652,  ...,  0.6112, -0.1665, -0.2469],\n",
              "          [-0.9183,  0.3201, -2.0296,  ...,  1.2315, -0.3489,  0.9017]],\n",
              "\n",
              "         [[-0.6960, -0.1679,  0.3678,  ...,  0.0057,  0.0543,  0.0692],\n",
              "          [ 0.2153,  0.7642,  0.7614,  ..., -0.4102, -1.7319,  1.2875],\n",
              "          [ 0.9473,  0.2035,  0.2725,  ..., -0.6787, -0.5389, -0.4975],\n",
              "          [ 0.4723, -0.0695, -0.2121,  ..., -0.4342,  0.0037, -0.1824]]]],\n",
              "       device='cuda:0', grad_fn=<PermuteBackward0>), tensor([[[[-8.1456e-02, -7.3234e-02, -1.9000e-02,  ...,  3.8768e-02,\n",
              "            8.3816e-02,  1.4345e-02],\n",
              "          [-4.9944e-01,  7.3221e-02,  1.2621e+00,  ...,  1.1638e+00,\n",
              "           -1.4053e+00,  3.6766e-01],\n",
              "          [-1.2278e+00,  6.0851e-01,  1.7811e+00,  ...,  2.6223e+00,\n",
              "           -1.9688e+00, -4.9989e-01],\n",
              "          [ 7.4008e-01,  3.2771e-01,  1.0743e+00,  ...,  3.3906e+00,\n",
              "           -1.1096e+00,  5.7405e-01]],\n",
              "\n",
              "         [[-6.7336e-02, -1.5355e-02, -5.8578e-02,  ..., -5.3945e-02,\n",
              "            2.5558e-02,  2.4211e-03],\n",
              "          [ 5.2956e-02, -2.7008e-01, -1.3912e+00,  ...,  1.7864e+00,\n",
              "           -9.1841e-01,  1.9594e+00],\n",
              "          [ 7.7153e-01,  3.4365e-01,  4.4807e-01,  ...,  9.7053e-01,\n",
              "            1.8427e-01,  8.1023e-01],\n",
              "          [-1.2150e+00,  5.6968e-01,  3.2362e-01,  ..., -6.5974e-01,\n",
              "            7.0956e-01, -1.0974e+00]],\n",
              "\n",
              "         [[ 6.1913e-03, -3.2223e-02,  7.7104e-02,  ...,  1.2522e-02,\n",
              "           -9.2595e-03,  6.6555e-02],\n",
              "          [ 1.9803e+00,  2.2599e-01, -1.3497e+00,  ..., -2.0740e+00,\n",
              "           -1.3110e+00, -9.1392e-01],\n",
              "          [-3.7923e-02, -4.6625e-02, -8.5837e-01,  ...,  1.0544e+00,\n",
              "            1.0490e-01, -3.7431e+00],\n",
              "          [ 1.2924e+00,  8.6351e-01, -1.9496e-01,  ...,  2.9994e-01,\n",
              "            3.2656e-01, -3.4540e-01]],\n",
              "\n",
              "         ...,\n",
              "\n",
              "         [[ 5.2602e-02,  2.4623e-02, -6.7809e-02,  ..., -5.5452e-02,\n",
              "            1.0084e-02,  1.6996e-02],\n",
              "          [-4.9992e-01,  4.5358e-02, -1.1672e+00,  ...,  2.9870e-01,\n",
              "            2.1252e+00,  8.0156e-01],\n",
              "          [-1.4017e+00,  5.0978e-02, -1.8261e+00,  ..., -8.0432e-01,\n",
              "            1.5961e+00, -1.8335e+00],\n",
              "          [ 1.8591e-01,  5.1898e-02, -2.8484e-01,  ...,  9.5406e-02,\n",
              "            1.1721e-01,  7.2722e-02]],\n",
              "\n",
              "         [[-1.7167e-02,  3.6329e-03, -3.7668e-02,  ...,  1.7059e-02,\n",
              "            2.3240e-02,  2.0537e-02],\n",
              "          [-6.3792e-02,  1.2888e+00,  1.6428e+00,  ...,  4.6526e-01,\n",
              "            3.9510e-01, -9.2782e-01],\n",
              "          [ 2.2226e-01, -3.7596e-01,  1.2236e-01,  ..., -9.1970e-01,\n",
              "           -3.5286e-01, -6.5773e-01],\n",
              "          [ 5.7308e-01,  3.9739e-01,  5.9653e-03,  ..., -1.1315e+00,\n",
              "            7.1114e-01, -1.4349e-02]],\n",
              "\n",
              "         [[-4.4415e-02, -6.1768e-02,  4.4314e-02,  ..., -1.2332e-01,\n",
              "           -5.7227e-02,  2.7630e-02],\n",
              "          [ 8.9917e-01, -1.1435e+00, -4.4886e-01,  ...,  1.7893e-02,\n",
              "           -5.5986e-01,  1.0122e+00],\n",
              "          [ 1.6492e+00, -2.7841e-02, -1.6344e+00,  ..., -1.8466e+00,\n",
              "           -5.0077e-01,  5.7067e-01],\n",
              "          [ 4.0005e-01,  1.3477e-01, -9.8190e-02,  ..., -7.9262e-01,\n",
              "            1.4746e-01,  1.2393e-01]]]], device='cuda:0',\n",
              "       grad_fn=<PermuteBackward0>))), hidden_states=(tensor([[[-0.0456, -0.1806,  0.2228,  ...,  0.0782,  0.0424,  0.0514],\n",
              "         [ 0.0487, -0.0836,  0.0863,  ...,  0.1447, -0.0339,  0.0054],\n",
              "         [ 0.0381, -0.0167,  0.1584,  ..., -0.1086, -0.0601,  0.2192],\n",
              "         [-0.0009, -0.0663,  0.1362,  ...,  0.2010, -0.0030,  0.0147]]],\n",
              "       device='cuda:0', grad_fn=<AddBackward0>), tensor([[[ 0.2507, -1.9464,  0.2776,  ..., -2.6878,  0.6244,  0.9243],\n",
              "         [ 3.1643, -2.5601, -1.7726,  ..., -0.6267, -0.3975, -0.8502],\n",
              "         [ 2.2119, -0.8133, -0.9146,  ..., -2.1375, -0.0392,  0.2948],\n",
              "         [-0.9808, -1.0972, -0.0854,  ...,  0.9203, -0.1776,  0.8112]]],\n",
              "       device='cuda:0', grad_fn=<AddBackward0>), tensor([[[ 0.1914, -2.0173,  0.8980,  ..., -2.2473,  0.9053,  0.7934],\n",
              "         [ 3.2561, -2.9061, -2.8387,  ...,  0.0188, -1.0422, -0.6994],\n",
              "         [ 2.4843, -1.1742, -0.6823,  ..., -1.2874,  0.0497,  0.8252],\n",
              "         [-1.8139, -0.9893, -0.7275,  ...,  1.4264, -0.2658,  1.6624]]],\n",
              "       device='cuda:0', grad_fn=<AddBackward0>), tensor([[[ 0.2635, -2.2572,  1.1719,  ..., -2.8890,  0.8193,  0.5625],\n",
              "         [ 3.8511, -2.1875, -3.7016,  ..., -0.6985, -1.4159, -1.2102],\n",
              "         [ 3.1059, -2.1338, -2.7084,  ..., -1.1733, -0.5853,  1.2702],\n",
              "         [-2.4974, -0.7827, -1.0115,  ...,  1.3519, -0.2979,  1.9396]]],\n",
              "       device='cuda:0', grad_fn=<AddBackward0>), tensor([[[-0.0082, -2.1004,  1.2179,  ..., -3.3273,  0.8493,  0.3250],\n",
              "         [ 4.1512, -2.9528, -5.1619,  ..., -1.9083, -3.0873, -0.4542],\n",
              "         [ 3.1706, -1.9970, -4.0817,  ...,  0.0345, -1.3693,  1.3644],\n",
              "         [-3.0958, -1.0983, -1.4411,  ...,  2.7314, -1.9387,  2.9888]]],\n",
              "       device='cuda:0', grad_fn=<AddBackward0>), tensor([[[-0.1497, -1.3991,  1.2202,  ..., -3.7438,  1.5011, -0.2506],\n",
              "         [ 5.1841, -3.1773, -4.9935,  ..., -2.3072, -3.3893, -0.1557],\n",
              "         [ 3.7284, -2.8492, -3.8534,  ...,  0.8192, -1.4542,  1.9733],\n",
              "         [-4.9346, -1.6261, -3.3583,  ...,  3.9251, -1.4897,  1.7793]]],\n",
              "       device='cuda:0', grad_fn=<AddBackward0>), tensor([[[-0.0153,  0.3176,  0.0239,  ..., -0.2059,  0.1514, -0.0781],\n",
              "         [ 1.1903, -0.4841, -0.9119,  ..., -0.4427, -0.4390, -0.0690],\n",
              "         [ 0.4898, -0.1974, -0.7837,  ..., -0.0764, -0.2097,  0.3078],\n",
              "         [-0.5876, -0.1329, -0.3504,  ...,  0.3995, -0.0464,  0.1426]]],\n",
              "       device='cuda:0', grad_fn=<ViewBackward0>)), attentions=(tensor([[[[1.0000e+00, 0.0000e+00, 0.0000e+00, 0.0000e+00],\n",
              "          [7.9853e-01, 2.0147e-01, 0.0000e+00, 0.0000e+00],\n",
              "          [5.8463e-01, 4.0470e-01, 1.0674e-02, 0.0000e+00],\n",
              "          [6.0383e-01, 2.5079e-01, 8.2692e-02, 6.2684e-02]],\n",
              "\n",
              "         [[1.0000e+00, 0.0000e+00, 0.0000e+00, 0.0000e+00],\n",
              "          [7.3682e-08, 1.0000e+00, 0.0000e+00, 0.0000e+00],\n",
              "          [5.8250e-07, 6.7484e-03, 9.9325e-01, 0.0000e+00],\n",
              "          [3.7037e-06, 6.1320e-04, 2.4325e-04, 9.9914e-01]],\n",
              "\n",
              "         [[1.0000e+00, 0.0000e+00, 0.0000e+00, 0.0000e+00],\n",
              "          [6.7650e-01, 3.2350e-01, 0.0000e+00, 0.0000e+00],\n",
              "          [7.8266e-01, 1.9119e-01, 2.6145e-02, 0.0000e+00],\n",
              "          [7.0845e-01, 7.0296e-02, 5.9930e-02, 1.6132e-01]],\n",
              "\n",
              "         [[1.0000e+00, 0.0000e+00, 0.0000e+00, 0.0000e+00],\n",
              "          [2.5229e-03, 9.9748e-01, 0.0000e+00, 0.0000e+00],\n",
              "          [2.0559e-03, 9.6648e-02, 9.0130e-01, 0.0000e+00],\n",
              "          [1.6596e-02, 2.2816e-02, 1.3501e-02, 9.4709e-01]],\n",
              "\n",
              "         [[1.0000e+00, 0.0000e+00, 0.0000e+00, 0.0000e+00],\n",
              "          [3.2422e-01, 6.7578e-01, 0.0000e+00, 0.0000e+00],\n",
              "          [9.8018e-02, 8.0576e-01, 9.6222e-02, 0.0000e+00],\n",
              "          [3.9203e-01, 1.2767e-01, 7.9325e-02, 4.0097e-01]],\n",
              "\n",
              "         [[1.0000e+00, 0.0000e+00, 0.0000e+00, 0.0000e+00],\n",
              "          [1.8637e-06, 1.0000e+00, 0.0000e+00, 0.0000e+00],\n",
              "          [4.4136e-06, 4.4384e-06, 9.9999e-01, 0.0000e+00],\n",
              "          [9.8493e-05, 4.8915e-05, 1.3024e-03, 9.9855e-01]],\n",
              "\n",
              "         [[1.0000e+00, 0.0000e+00, 0.0000e+00, 0.0000e+00],\n",
              "          [9.0512e-01, 9.4882e-02, 0.0000e+00, 0.0000e+00],\n",
              "          [4.3862e-01, 5.4073e-01, 2.0653e-02, 0.0000e+00],\n",
              "          [5.3993e-01, 2.6434e-01, 8.6286e-02, 1.0945e-01]],\n",
              "\n",
              "         [[1.0000e+00, 0.0000e+00, 0.0000e+00, 0.0000e+00],\n",
              "          [9.3596e-01, 6.4038e-02, 0.0000e+00, 0.0000e+00],\n",
              "          [5.7565e-01, 2.9364e-01, 1.3071e-01, 0.0000e+00],\n",
              "          [4.5456e-01, 1.4263e-01, 1.7751e-01, 2.2530e-01]],\n",
              "\n",
              "         [[1.0000e+00, 0.0000e+00, 0.0000e+00, 0.0000e+00],\n",
              "          [8.7070e-01, 1.2930e-01, 0.0000e+00, 0.0000e+00],\n",
              "          [7.3183e-01, 1.8458e-01, 8.3589e-02, 0.0000e+00],\n",
              "          [6.0062e-01, 7.1821e-02, 1.2655e-01, 2.0101e-01]],\n",
              "\n",
              "         [[1.0000e+00, 0.0000e+00, 0.0000e+00, 0.0000e+00],\n",
              "          [9.6962e-01, 3.0379e-02, 0.0000e+00, 0.0000e+00],\n",
              "          [8.6569e-01, 8.7433e-02, 4.6880e-02, 0.0000e+00],\n",
              "          [7.6964e-01, 9.3659e-02, 6.5910e-02, 7.0790e-02]],\n",
              "\n",
              "         [[1.0000e+00, 0.0000e+00, 0.0000e+00, 0.0000e+00],\n",
              "          [5.0160e-01, 4.9840e-01, 0.0000e+00, 0.0000e+00],\n",
              "          [4.3864e-01, 5.1317e-02, 5.1004e-01, 0.0000e+00],\n",
              "          [5.0661e-01, 6.9018e-02, 5.0498e-02, 3.7387e-01]],\n",
              "\n",
              "         [[1.0000e+00, 0.0000e+00, 0.0000e+00, 0.0000e+00],\n",
              "          [6.3985e-01, 3.6015e-01, 0.0000e+00, 0.0000e+00],\n",
              "          [6.2807e-01, 2.6103e-01, 1.1089e-01, 0.0000e+00],\n",
              "          [6.6929e-01, 1.4483e-01, 7.2472e-02, 1.1341e-01]]]], device='cuda:0',\n",
              "       grad_fn=<SoftmaxBackward0>), tensor([[[[1.0000e+00, 0.0000e+00, 0.0000e+00, 0.0000e+00],\n",
              "          [9.0641e-01, 9.3593e-02, 0.0000e+00, 0.0000e+00],\n",
              "          [6.7028e-01, 2.3828e-01, 9.1435e-02, 0.0000e+00],\n",
              "          [6.9660e-01, 9.9956e-02, 1.0195e-01, 1.0149e-01]],\n",
              "\n",
              "         [[1.0000e+00, 0.0000e+00, 0.0000e+00, 0.0000e+00],\n",
              "          [9.9193e-01, 8.0745e-03, 0.0000e+00, 0.0000e+00],\n",
              "          [9.8476e-01, 9.4740e-03, 5.7643e-03, 0.0000e+00],\n",
              "          [9.3909e-01, 1.5383e-02, 1.3643e-02, 3.1883e-02]],\n",
              "\n",
              "         [[1.0000e+00, 0.0000e+00, 0.0000e+00, 0.0000e+00],\n",
              "          [7.5865e-01, 2.4135e-01, 0.0000e+00, 0.0000e+00],\n",
              "          [6.8317e-04, 9.8165e-01, 1.7671e-02, 0.0000e+00],\n",
              "          [5.6288e-01, 8.0961e-02, 2.7448e-01, 8.1676e-02]],\n",
              "\n",
              "         [[1.0000e+00, 0.0000e+00, 0.0000e+00, 0.0000e+00],\n",
              "          [8.0026e-01, 1.9974e-01, 0.0000e+00, 0.0000e+00],\n",
              "          [2.8261e-01, 6.3831e-01, 7.9086e-02, 0.0000e+00],\n",
              "          [6.0911e-01, 1.8155e-01, 5.0564e-02, 1.5878e-01]],\n",
              "\n",
              "         [[1.0000e+00, 0.0000e+00, 0.0000e+00, 0.0000e+00],\n",
              "          [9.7870e-01, 2.1299e-02, 0.0000e+00, 0.0000e+00],\n",
              "          [4.7191e-01, 3.6034e-01, 1.6775e-01, 0.0000e+00],\n",
              "          [9.7182e-01, 5.4268e-03, 1.6014e-03, 2.1153e-02]],\n",
              "\n",
              "         [[1.0000e+00, 0.0000e+00, 0.0000e+00, 0.0000e+00],\n",
              "          [9.5217e-01, 4.7828e-02, 0.0000e+00, 0.0000e+00],\n",
              "          [6.4641e-01, 8.1189e-02, 2.7241e-01, 0.0000e+00],\n",
              "          [6.4982e-01, 6.2277e-02, 8.9290e-02, 1.9861e-01]],\n",
              "\n",
              "         [[1.0000e+00, 0.0000e+00, 0.0000e+00, 0.0000e+00],\n",
              "          [9.9103e-01, 8.9705e-03, 0.0000e+00, 0.0000e+00],\n",
              "          [9.8261e-01, 8.2499e-03, 9.1366e-03, 0.0000e+00],\n",
              "          [9.6969e-01, 6.0920e-03, 4.6784e-03, 1.9537e-02]],\n",
              "\n",
              "         [[1.0000e+00, 0.0000e+00, 0.0000e+00, 0.0000e+00],\n",
              "          [9.6665e-01, 3.3353e-02, 0.0000e+00, 0.0000e+00],\n",
              "          [9.3827e-01, 2.0538e-02, 4.1195e-02, 0.0000e+00],\n",
              "          [9.0747e-01, 1.4150e-02, 3.2162e-02, 4.6220e-02]],\n",
              "\n",
              "         [[1.0000e+00, 0.0000e+00, 0.0000e+00, 0.0000e+00],\n",
              "          [7.6364e-01, 2.3636e-01, 0.0000e+00, 0.0000e+00],\n",
              "          [4.7476e-01, 3.3673e-01, 1.8851e-01, 0.0000e+00],\n",
              "          [8.5119e-01, 9.0056e-03, 1.2511e-02, 1.2730e-01]],\n",
              "\n",
              "         [[1.0000e+00, 0.0000e+00, 0.0000e+00, 0.0000e+00],\n",
              "          [8.3510e-01, 1.6490e-01, 0.0000e+00, 0.0000e+00],\n",
              "          [2.3528e-01, 6.2355e-01, 1.4116e-01, 0.0000e+00],\n",
              "          [7.9360e-02, 3.8056e-01, 4.5739e-01, 8.2692e-02]],\n",
              "\n",
              "         [[1.0000e+00, 0.0000e+00, 0.0000e+00, 0.0000e+00],\n",
              "          [7.9273e-01, 2.0727e-01, 0.0000e+00, 0.0000e+00],\n",
              "          [7.9573e-01, 9.8739e-02, 1.0553e-01, 0.0000e+00],\n",
              "          [7.3079e-01, 8.4586e-02, 3.9223e-02, 1.4540e-01]],\n",
              "\n",
              "         [[1.0000e+00, 0.0000e+00, 0.0000e+00, 0.0000e+00],\n",
              "          [9.4761e-01, 5.2395e-02, 0.0000e+00, 0.0000e+00],\n",
              "          [9.1611e-01, 3.2363e-02, 5.1522e-02, 0.0000e+00],\n",
              "          [8.8787e-01, 4.2094e-02, 3.5108e-02, 3.4928e-02]]]], device='cuda:0',\n",
              "       grad_fn=<SoftmaxBackward0>), tensor([[[[1.0000e+00, 0.0000e+00, 0.0000e+00, 0.0000e+00],\n",
              "          [5.3936e-01, 4.6064e-01, 0.0000e+00, 0.0000e+00],\n",
              "          [3.9003e-02, 9.0547e-01, 5.5531e-02, 0.0000e+00],\n",
              "          [9.7839e-01, 6.7635e-04, 3.3372e-04, 2.0603e-02]],\n",
              "\n",
              "         [[1.0000e+00, 0.0000e+00, 0.0000e+00, 0.0000e+00],\n",
              "          [9.5622e-01, 4.3776e-02, 0.0000e+00, 0.0000e+00],\n",
              "          [7.2863e-01, 1.6898e-01, 1.0239e-01, 0.0000e+00],\n",
              "          [8.9100e-01, 3.9823e-03, 4.7869e-03, 1.0023e-01]],\n",
              "\n",
              "         [[1.0000e+00, 0.0000e+00, 0.0000e+00, 0.0000e+00],\n",
              "          [9.8623e-01, 1.3774e-02, 0.0000e+00, 0.0000e+00],\n",
              "          [9.8691e-01, 1.0358e-02, 2.7296e-03, 0.0000e+00],\n",
              "          [8.8299e-01, 2.4200e-02, 5.7028e-03, 8.7103e-02]],\n",
              "\n",
              "         [[1.0000e+00, 0.0000e+00, 0.0000e+00, 0.0000e+00],\n",
              "          [8.6237e-01, 1.3763e-01, 0.0000e+00, 0.0000e+00],\n",
              "          [1.2348e-01, 7.9076e-01, 8.5767e-02, 0.0000e+00],\n",
              "          [3.0023e-02, 6.4775e-01, 1.9112e-01, 1.3110e-01]],\n",
              "\n",
              "         [[1.0000e+00, 0.0000e+00, 0.0000e+00, 0.0000e+00],\n",
              "          [9.6553e-01, 3.4475e-02, 0.0000e+00, 0.0000e+00],\n",
              "          [9.7732e-01, 7.7477e-03, 1.4933e-02, 0.0000e+00],\n",
              "          [9.3321e-01, 7.4389e-03, 8.7878e-03, 5.0566e-02]],\n",
              "\n",
              "         [[1.0000e+00, 0.0000e+00, 0.0000e+00, 0.0000e+00],\n",
              "          [7.4765e-01, 2.5235e-01, 0.0000e+00, 0.0000e+00],\n",
              "          [6.8945e-01, 2.4410e-01, 6.6452e-02, 0.0000e+00],\n",
              "          [7.8589e-01, 2.2512e-02, 2.8101e-02, 1.6349e-01]],\n",
              "\n",
              "         [[1.0000e+00, 0.0000e+00, 0.0000e+00, 0.0000e+00],\n",
              "          [9.6072e-01, 3.9282e-02, 0.0000e+00, 0.0000e+00],\n",
              "          [9.0115e-01, 6.8171e-02, 3.0677e-02, 0.0000e+00],\n",
              "          [5.6224e-01, 3.1282e-01, 8.7914e-02, 3.7027e-02]],\n",
              "\n",
              "         [[1.0000e+00, 0.0000e+00, 0.0000e+00, 0.0000e+00],\n",
              "          [5.3792e-01, 4.6208e-01, 0.0000e+00, 0.0000e+00],\n",
              "          [3.9539e-01, 2.4544e-01, 3.5917e-01, 0.0000e+00],\n",
              "          [2.3418e-01, 1.1432e-01, 1.5092e-01, 5.0058e-01]],\n",
              "\n",
              "         [[1.0000e+00, 0.0000e+00, 0.0000e+00, 0.0000e+00],\n",
              "          [9.9955e-01, 4.4593e-04, 0.0000e+00, 0.0000e+00],\n",
              "          [9.7675e-01, 1.6458e-02, 6.7915e-03, 0.0000e+00],\n",
              "          [9.6593e-01, 5.9602e-03, 8.3756e-03, 1.9734e-02]],\n",
              "\n",
              "         [[1.0000e+00, 0.0000e+00, 0.0000e+00, 0.0000e+00],\n",
              "          [9.9488e-01, 5.1208e-03, 0.0000e+00, 0.0000e+00],\n",
              "          [9.9723e-01, 1.9583e-03, 8.1275e-04, 0.0000e+00],\n",
              "          [9.7485e-01, 2.6037e-03, 1.1292e-03, 2.1417e-02]],\n",
              "\n",
              "         [[1.0000e+00, 0.0000e+00, 0.0000e+00, 0.0000e+00],\n",
              "          [9.9031e-01, 9.6903e-03, 0.0000e+00, 0.0000e+00],\n",
              "          [9.9465e-01, 2.5034e-03, 2.8467e-03, 0.0000e+00],\n",
              "          [9.7731e-01, 5.6300e-03, 1.6067e-03, 1.5458e-02]],\n",
              "\n",
              "         [[1.0000e+00, 0.0000e+00, 0.0000e+00, 0.0000e+00],\n",
              "          [9.7504e-01, 2.4960e-02, 0.0000e+00, 0.0000e+00],\n",
              "          [3.1118e-08, 9.9980e-01, 2.0492e-04, 0.0000e+00],\n",
              "          [5.2738e-13, 2.5079e-07, 9.9999e-01, 6.7914e-06]]]], device='cuda:0',\n",
              "       grad_fn=<SoftmaxBackward0>), tensor([[[[1.0000e+00, 0.0000e+00, 0.0000e+00, 0.0000e+00],\n",
              "          [7.8813e-01, 2.1187e-01, 0.0000e+00, 0.0000e+00],\n",
              "          [6.2211e-01, 3.2895e-01, 4.8935e-02, 0.0000e+00],\n",
              "          [9.2763e-01, 1.1448e-02, 3.5655e-03, 5.7359e-02]],\n",
              "\n",
              "         [[1.0000e+00, 0.0000e+00, 0.0000e+00, 0.0000e+00],\n",
              "          [9.6656e-01, 3.3440e-02, 0.0000e+00, 0.0000e+00],\n",
              "          [9.8310e-01, 1.2859e-02, 4.0406e-03, 0.0000e+00],\n",
              "          [9.4483e-01, 2.9202e-02, 1.0759e-02, 1.5206e-02]],\n",
              "\n",
              "         [[1.0000e+00, 0.0000e+00, 0.0000e+00, 0.0000e+00],\n",
              "          [9.9942e-01, 5.8351e-04, 0.0000e+00, 0.0000e+00],\n",
              "          [9.9909e-01, 4.4753e-04, 4.6655e-04, 0.0000e+00],\n",
              "          [9.9477e-01, 9.0610e-04, 2.5161e-06, 4.3218e-03]],\n",
              "\n",
              "         [[1.0000e+00, 0.0000e+00, 0.0000e+00, 0.0000e+00],\n",
              "          [9.8275e-01, 1.7255e-02, 0.0000e+00, 0.0000e+00],\n",
              "          [9.6779e-01, 7.4535e-03, 2.4753e-02, 0.0000e+00],\n",
              "          [9.2393e-01, 2.2739e-02, 1.0028e-02, 4.3300e-02]],\n",
              "\n",
              "         [[1.0000e+00, 0.0000e+00, 0.0000e+00, 0.0000e+00],\n",
              "          [9.3487e-01, 6.5126e-02, 0.0000e+00, 0.0000e+00],\n",
              "          [6.6351e-01, 3.1285e-01, 2.3646e-02, 0.0000e+00],\n",
              "          [7.6627e-01, 1.7178e-01, 2.2836e-02, 3.9112e-02]],\n",
              "\n",
              "         [[1.0000e+00, 0.0000e+00, 0.0000e+00, 0.0000e+00],\n",
              "          [9.4580e-01, 5.4196e-02, 0.0000e+00, 0.0000e+00],\n",
              "          [8.2154e-01, 1.4704e-01, 3.1416e-02, 0.0000e+00],\n",
              "          [7.6125e-01, 5.2594e-02, 2.2460e-02, 1.6370e-01]],\n",
              "\n",
              "         [[1.0000e+00, 0.0000e+00, 0.0000e+00, 0.0000e+00],\n",
              "          [9.8140e-01, 1.8602e-02, 0.0000e+00, 0.0000e+00],\n",
              "          [9.6515e-01, 2.3298e-02, 1.1555e-02, 0.0000e+00],\n",
              "          [8.9076e-01, 2.0370e-02, 7.0696e-03, 8.1804e-02]],\n",
              "\n",
              "         [[1.0000e+00, 0.0000e+00, 0.0000e+00, 0.0000e+00],\n",
              "          [9.6133e-01, 3.8672e-02, 0.0000e+00, 0.0000e+00],\n",
              "          [9.6600e-01, 2.6156e-02, 7.8420e-03, 0.0000e+00],\n",
              "          [9.4403e-01, 2.9892e-02, 3.5852e-03, 2.2496e-02]],\n",
              "\n",
              "         [[1.0000e+00, 0.0000e+00, 0.0000e+00, 0.0000e+00],\n",
              "          [9.6305e-01, 3.6948e-02, 0.0000e+00, 0.0000e+00],\n",
              "          [3.3759e-01, 5.9853e-01, 6.3879e-02, 0.0000e+00],\n",
              "          [7.2594e-01, 1.5842e-01, 8.0948e-02, 3.4694e-02]],\n",
              "\n",
              "         [[1.0000e+00, 0.0000e+00, 0.0000e+00, 0.0000e+00],\n",
              "          [9.8719e-01, 1.2813e-02, 0.0000e+00, 0.0000e+00],\n",
              "          [9.7915e-01, 1.7277e-02, 3.5707e-03, 0.0000e+00],\n",
              "          [9.3701e-01, 8.5400e-03, 1.2054e-03, 5.3243e-02]],\n",
              "\n",
              "         [[1.0000e+00, 0.0000e+00, 0.0000e+00, 0.0000e+00],\n",
              "          [9.9714e-01, 2.8559e-03, 0.0000e+00, 0.0000e+00],\n",
              "          [9.9471e-01, 4.5919e-03, 6.9342e-04, 0.0000e+00],\n",
              "          [9.6761e-01, 1.0132e-02, 3.6759e-05, 2.2226e-02]],\n",
              "\n",
              "         [[1.0000e+00, 0.0000e+00, 0.0000e+00, 0.0000e+00],\n",
              "          [9.9313e-01, 6.8732e-03, 0.0000e+00, 0.0000e+00],\n",
              "          [9.8186e-01, 1.3005e-02, 5.1395e-03, 0.0000e+00],\n",
              "          [9.5578e-01, 1.1618e-02, 1.0738e-03, 3.1532e-02]]]], device='cuda:0',\n",
              "       grad_fn=<SoftmaxBackward0>), tensor([[[[1.0000e+00, 0.0000e+00, 0.0000e+00, 0.0000e+00],\n",
              "          [9.7384e-01, 2.6160e-02, 0.0000e+00, 0.0000e+00],\n",
              "          [9.3210e-01, 5.0645e-02, 1.7256e-02, 0.0000e+00],\n",
              "          [9.1905e-01, 1.2275e-02, 2.8248e-02, 4.0426e-02]],\n",
              "\n",
              "         [[1.0000e+00, 0.0000e+00, 0.0000e+00, 0.0000e+00],\n",
              "          [9.9782e-01, 2.1828e-03, 0.0000e+00, 0.0000e+00],\n",
              "          [9.9244e-01, 5.8993e-03, 1.6579e-03, 0.0000e+00],\n",
              "          [9.7984e-01, 2.7348e-03, 7.4614e-04, 1.6681e-02]],\n",
              "\n",
              "         [[1.0000e+00, 0.0000e+00, 0.0000e+00, 0.0000e+00],\n",
              "          [9.8865e-01, 1.1351e-02, 0.0000e+00, 0.0000e+00],\n",
              "          [9.8613e-01, 1.0942e-02, 2.9244e-03, 0.0000e+00],\n",
              "          [9.3033e-01, 1.3957e-02, 1.4971e-02, 4.0747e-02]],\n",
              "\n",
              "         [[1.0000e+00, 0.0000e+00, 0.0000e+00, 0.0000e+00],\n",
              "          [8.7613e-01, 1.2387e-01, 0.0000e+00, 0.0000e+00],\n",
              "          [3.9002e-01, 4.9746e-01, 1.1253e-01, 0.0000e+00],\n",
              "          [7.6922e-01, 6.4255e-02, 7.7488e-02, 8.9042e-02]],\n",
              "\n",
              "         [[1.0000e+00, 0.0000e+00, 0.0000e+00, 0.0000e+00],\n",
              "          [9.9125e-01, 8.7494e-03, 0.0000e+00, 0.0000e+00],\n",
              "          [9.5672e-01, 3.2209e-02, 1.1071e-02, 0.0000e+00],\n",
              "          [9.8414e-01, 8.1329e-03, 1.5912e-03, 6.1335e-03]],\n",
              "\n",
              "         [[1.0000e+00, 0.0000e+00, 0.0000e+00, 0.0000e+00],\n",
              "          [9.7878e-01, 2.1220e-02, 0.0000e+00, 0.0000e+00],\n",
              "          [9.6524e-01, 1.4193e-02, 2.0566e-02, 0.0000e+00],\n",
              "          [9.6523e-01, 7.6552e-03, 2.2437e-03, 2.4871e-02]],\n",
              "\n",
              "         [[1.0000e+00, 0.0000e+00, 0.0000e+00, 0.0000e+00],\n",
              "          [9.9154e-01, 8.4578e-03, 0.0000e+00, 0.0000e+00],\n",
              "          [9.2794e-01, 5.3798e-02, 1.8265e-02, 0.0000e+00],\n",
              "          [9.8701e-01, 9.6394e-03, 6.5699e-04, 2.6889e-03]],\n",
              "\n",
              "         [[1.0000e+00, 0.0000e+00, 0.0000e+00, 0.0000e+00],\n",
              "          [9.9493e-01, 5.0667e-03, 0.0000e+00, 0.0000e+00],\n",
              "          [9.8267e-01, 1.1634e-02, 5.6957e-03, 0.0000e+00],\n",
              "          [9.6275e-01, 8.9466e-03, 1.0826e-02, 1.7479e-02]],\n",
              "\n",
              "         [[1.0000e+00, 0.0000e+00, 0.0000e+00, 0.0000e+00],\n",
              "          [9.3092e-01, 6.9083e-02, 0.0000e+00, 0.0000e+00],\n",
              "          [7.6440e-01, 1.2785e-01, 1.0775e-01, 0.0000e+00],\n",
              "          [8.1867e-01, 7.0943e-02, 8.2551e-02, 2.7840e-02]],\n",
              "\n",
              "         [[1.0000e+00, 0.0000e+00, 0.0000e+00, 0.0000e+00],\n",
              "          [9.8198e-01, 1.8024e-02, 0.0000e+00, 0.0000e+00],\n",
              "          [9.7450e-01, 9.9370e-03, 1.5568e-02, 0.0000e+00],\n",
              "          [9.9604e-01, 1.4689e-03, 6.5451e-05, 2.4278e-03]],\n",
              "\n",
              "         [[1.0000e+00, 0.0000e+00, 0.0000e+00, 0.0000e+00],\n",
              "          [9.9046e-01, 9.5447e-03, 0.0000e+00, 0.0000e+00],\n",
              "          [9.3392e-01, 5.0236e-02, 1.5849e-02, 0.0000e+00],\n",
              "          [9.4343e-01, 9.4081e-03, 5.7015e-03, 4.1463e-02]],\n",
              "\n",
              "         [[1.0000e+00, 0.0000e+00, 0.0000e+00, 0.0000e+00],\n",
              "          [9.9827e-01, 1.7349e-03, 0.0000e+00, 0.0000e+00],\n",
              "          [9.8999e-01, 5.3136e-03, 4.6977e-03, 0.0000e+00],\n",
              "          [9.7966e-01, 2.5212e-03, 9.0943e-04, 1.6907e-02]]]], device='cuda:0',\n",
              "       grad_fn=<SoftmaxBackward0>), tensor([[[[1.0000, 0.0000, 0.0000, 0.0000],\n",
              "          [0.9059, 0.0941, 0.0000, 0.0000],\n",
              "          [0.6539, 0.2497, 0.0964, 0.0000],\n",
              "          [0.4765, 0.1296, 0.0585, 0.3354]],\n",
              "\n",
              "         [[1.0000, 0.0000, 0.0000, 0.0000],\n",
              "          [0.9859, 0.0141, 0.0000, 0.0000],\n",
              "          [0.9519, 0.0354, 0.0128, 0.0000],\n",
              "          [0.8929, 0.0191, 0.0074, 0.0806]],\n",
              "\n",
              "         [[1.0000, 0.0000, 0.0000, 0.0000],\n",
              "          [0.9884, 0.0116, 0.0000, 0.0000],\n",
              "          [0.9364, 0.0243, 0.0393, 0.0000],\n",
              "          [0.9128, 0.0438, 0.0278, 0.0157]],\n",
              "\n",
              "         [[1.0000, 0.0000, 0.0000, 0.0000],\n",
              "          [0.9751, 0.0249, 0.0000, 0.0000],\n",
              "          [0.8933, 0.0803, 0.0263, 0.0000],\n",
              "          [0.8244, 0.0636, 0.0565, 0.0555]],\n",
              "\n",
              "         [[1.0000, 0.0000, 0.0000, 0.0000],\n",
              "          [0.9719, 0.0281, 0.0000, 0.0000],\n",
              "          [0.9309, 0.0396, 0.0295, 0.0000],\n",
              "          [0.9400, 0.0160, 0.0051, 0.0389]],\n",
              "\n",
              "         [[1.0000, 0.0000, 0.0000, 0.0000],\n",
              "          [0.9929, 0.0071, 0.0000, 0.0000],\n",
              "          [0.9758, 0.0112, 0.0131, 0.0000],\n",
              "          [0.9755, 0.0095, 0.0021, 0.0130]],\n",
              "\n",
              "         [[1.0000, 0.0000, 0.0000, 0.0000],\n",
              "          [0.9722, 0.0278, 0.0000, 0.0000],\n",
              "          [0.9508, 0.0319, 0.0173, 0.0000],\n",
              "          [0.9490, 0.0360, 0.0048, 0.0102]],\n",
              "\n",
              "         [[1.0000, 0.0000, 0.0000, 0.0000],\n",
              "          [0.9943, 0.0057, 0.0000, 0.0000],\n",
              "          [0.9889, 0.0072, 0.0039, 0.0000],\n",
              "          [0.9657, 0.0070, 0.0021, 0.0252]],\n",
              "\n",
              "         [[1.0000, 0.0000, 0.0000, 0.0000],\n",
              "          [0.0060, 0.9940, 0.0000, 0.0000],\n",
              "          [0.0058, 0.5926, 0.4017, 0.0000],\n",
              "          [0.0015, 0.2730, 0.1680, 0.5576]],\n",
              "\n",
              "         [[1.0000, 0.0000, 0.0000, 0.0000],\n",
              "          [0.9927, 0.0073, 0.0000, 0.0000],\n",
              "          [0.9807, 0.0120, 0.0073, 0.0000],\n",
              "          [0.9716, 0.0111, 0.0027, 0.0146]],\n",
              "\n",
              "         [[1.0000, 0.0000, 0.0000, 0.0000],\n",
              "          [0.9881, 0.0119, 0.0000, 0.0000],\n",
              "          [0.8540, 0.1042, 0.0417, 0.0000],\n",
              "          [0.9187, 0.0112, 0.0143, 0.0559]],\n",
              "\n",
              "         [[1.0000, 0.0000, 0.0000, 0.0000],\n",
              "          [0.9877, 0.0123, 0.0000, 0.0000],\n",
              "          [0.9700, 0.0220, 0.0080, 0.0000],\n",
              "          [0.9365, 0.0167, 0.0073, 0.0396]]]], device='cuda:0',\n",
              "       grad_fn=<SoftmaxBackward0>)), cross_attentions=None)"
            ]
          },
          "execution_count": 27,
          "metadata": {},
          "output_type": "execute_result"
        }
      ],
      "source": [
        "output = model(**tokens, output_hidden_states=True, output_attentions=True)\n",
        "output"
      ]
    },
    {
      "cell_type": "code",
      "execution_count": 28,
      "metadata": {
        "colab": {
          "base_uri": "https://localhost:8080/"
        },
        "id": "xyDIbXx2ArWb",
        "outputId": "402a09bf-9954-47ab-dbf9-c67e900d0c9f"
      },
      "outputs": [
        {
          "data": {
            "text/plain": [
              "6"
            ]
          },
          "execution_count": 28,
          "metadata": {},
          "output_type": "execute_result"
        }
      ],
      "source": [
        "len(output[-1])"
      ]
    },
    {
      "cell_type": "code",
      "execution_count": 29,
      "metadata": {
        "colab": {
          "base_uri": "https://localhost:8080/"
        },
        "id": "KlYAo7w6UzPu",
        "outputId": "ed113974-29a6-466e-b85a-eb5b67c4d89a"
      },
      "outputs": [
        {
          "data": {
            "text/plain": [
              "True"
            ]
          },
          "execution_count": 29,
          "metadata": {},
          "output_type": "execute_result"
        }
      ],
      "source": [
        "output['attentions'] == output[-1]"
      ]
    },
    {
      "cell_type": "markdown",
      "metadata": {
        "id": "IHO-fJkCOTy2"
      },
      "source": [
        "$$\n",
        "SDPAttention(Q, K, V) = softmax(\\frac{QK^T}{\\sqrt{d_k}})V\\\\\n",
        "Q = queries\\\\\n",
        "K = keys\\\\\n",
        "V = values\\\\\n",
        "\\\\\n",
        "$$"
      ]
    },
    {
      "cell_type": "code",
      "execution_count": 30,
      "metadata": {
        "colab": {
          "base_uri": "https://localhost:8080/"
        },
        "id": "cZc3i84qKYnm",
        "outputId": "2070dbc7-086b-4f53-bc19-e5863599d3bf"
      },
      "outputs": [
        {
          "data": {
            "text/plain": [
              "GPT2LMHeadModel(\n",
              "  (transformer): GPT2Model(\n",
              "    (wte): Embedding(50257, 768)\n",
              "    (wpe): Embedding(1024, 768)\n",
              "    (drop): Dropout(p=0.1, inplace=False)\n",
              "    (h): ModuleList(\n",
              "      (0-5): 6 x GPT2Block(\n",
              "        (ln_1): LayerNorm((768,), eps=1e-05, elementwise_affine=True)\n",
              "        (attn): GPT2SdpaAttention(\n",
              "          (c_attn): Conv1D(nf=2304, nx=768)\n",
              "          (c_proj): Conv1D(nf=768, nx=768)\n",
              "          (attn_dropout): Dropout(p=0.1, inplace=False)\n",
              "          (resid_dropout): Dropout(p=0.1, inplace=False)\n",
              "        )\n",
              "        (ln_2): LayerNorm((768,), eps=1e-05, elementwise_affine=True)\n",
              "        (mlp): GPT2MLP(\n",
              "          (c_fc): Conv1D(nf=3072, nx=768)\n",
              "          (c_proj): Conv1D(nf=768, nx=3072)\n",
              "          (act): NewGELUActivation()\n",
              "          (dropout): Dropout(p=0.1, inplace=False)\n",
              "        )\n",
              "      )\n",
              "    )\n",
              "    (ln_f): LayerNorm((768,), eps=1e-05, elementwise_affine=True)\n",
              "  )\n",
              "  (lm_head): Linear(in_features=768, out_features=50257, bias=False)\n",
              ")"
            ]
          },
          "execution_count": 30,
          "metadata": {},
          "output_type": "execute_result"
        }
      ],
      "source": [
        "model"
      ]
    },
    {
      "cell_type": "code",
      "execution_count": 31,
      "metadata": {
        "colab": {
          "base_uri": "https://localhost:8080/"
        },
        "id": "2EEq4cguJYIM",
        "outputId": "85fdab61-cb21-43c8-bb2a-a4bda6acd4dd"
      },
      "outputs": [
        {
          "data": {
            "text/plain": [
              "torch.Size([1, 12, 4, 4])"
            ]
          },
          "execution_count": 31,
          "metadata": {},
          "output_type": "execute_result"
        }
      ],
      "source": [
        "output[-1][0].shape"
      ]
    },
    {
      "cell_type": "code",
      "execution_count": 32,
      "metadata": {
        "colab": {
          "base_uri": "https://localhost:8080/"
        },
        "id": "ozmQcX43J3GU",
        "outputId": "2778a838-26d9-4d13-cd67-8b095642be0f"
      },
      "outputs": [
        {
          "data": {
            "text/plain": [
              "{'input_ids': tensor([[30365, 23448,    84,   318]], device='cuda:0'), 'attention_mask': tensor([[1, 1, 1, 1]], device='cuda:0')}"
            ]
          },
          "execution_count": 32,
          "metadata": {},
          "output_type": "execute_result"
        }
      ],
      "source": [
        "tokens"
      ]
    },
    {
      "cell_type": "code",
      "execution_count": 33,
      "metadata": {
        "colab": {
          "base_uri": "https://localhost:8080/"
        },
        "id": "b4J2BE3yYKrt",
        "outputId": "f57d4a66-69ef-4531-9c3d-c5411bfcad27"
      },
      "outputs": [
        {
          "data": {
            "text/plain": [
              "GPT2Config {\n",
              "  \"_attn_implementation_autoset\": true,\n",
              "  \"_name_or_path\": \"distilbert/distilgpt2\",\n",
              "  \"_num_labels\": 1,\n",
              "  \"activation_function\": \"gelu_new\",\n",
              "  \"architectures\": [\n",
              "    \"GPT2LMHeadModel\"\n",
              "  ],\n",
              "  \"attn_pdrop\": 0.1,\n",
              "  \"bos_token_id\": 50256,\n",
              "  \"embd_pdrop\": 0.1,\n",
              "  \"eos_token_id\": 50256,\n",
              "  \"id2label\": {\n",
              "    \"0\": \"LABEL_0\"\n",
              "  },\n",
              "  \"initializer_range\": 0.02,\n",
              "  \"label2id\": {\n",
              "    \"LABEL_0\": 0\n",
              "  },\n",
              "  \"layer_norm_epsilon\": 1e-05,\n",
              "  \"model_type\": \"gpt2\",\n",
              "  \"n_ctx\": 1024,\n",
              "  \"n_embd\": 768,\n",
              "  \"n_head\": 12,\n",
              "  \"n_inner\": null,\n",
              "  \"n_layer\": 6,\n",
              "  \"n_positions\": 1024,\n",
              "  \"reorder_and_upcast_attn\": false,\n",
              "  \"resid_pdrop\": 0.1,\n",
              "  \"scale_attn_by_inverse_layer_idx\": false,\n",
              "  \"scale_attn_weights\": true,\n",
              "  \"summary_activation\": null,\n",
              "  \"summary_first_dropout\": 0.1,\n",
              "  \"summary_proj_to_labels\": true,\n",
              "  \"summary_type\": \"cls_index\",\n",
              "  \"summary_use_proj\": true,\n",
              "  \"task_specific_params\": {\n",
              "    \"text-generation\": {\n",
              "      \"do_sample\": true,\n",
              "      \"max_length\": 50\n",
              "    }\n",
              "  },\n",
              "  \"transformers_version\": \"4.47.0\",\n",
              "  \"use_cache\": true,\n",
              "  \"vocab_size\": 50257\n",
              "}"
            ]
          },
          "execution_count": 33,
          "metadata": {},
          "output_type": "execute_result"
        }
      ],
      "source": [
        "model.config"
      ]
    },
    {
      "cell_type": "code",
      "execution_count": 34,
      "metadata": {
        "colab": {
          "base_uri": "https://localhost:8080/"
        },
        "id": "pFSUoqAjYPlq",
        "outputId": "7026e2a0-438d-45ca-f9e4-25b3a1f04145"
      },
      "outputs": [
        {
          "data": {
            "text/plain": [
              "tensor([[[[1.0000e+00, 0.0000e+00, 0.0000e+00, 0.0000e+00],\n",
              "          [7.9853e-01, 2.0147e-01, 0.0000e+00, 0.0000e+00],\n",
              "          [5.8463e-01, 4.0470e-01, 1.0674e-02, 0.0000e+00],\n",
              "          [6.0383e-01, 2.5079e-01, 8.2692e-02, 6.2684e-02]],\n",
              "\n",
              "         [[1.0000e+00, 0.0000e+00, 0.0000e+00, 0.0000e+00],\n",
              "          [7.3682e-08, 1.0000e+00, 0.0000e+00, 0.0000e+00],\n",
              "          [5.8250e-07, 6.7484e-03, 9.9325e-01, 0.0000e+00],\n",
              "          [3.7037e-06, 6.1320e-04, 2.4325e-04, 9.9914e-01]],\n",
              "\n",
              "         [[1.0000e+00, 0.0000e+00, 0.0000e+00, 0.0000e+00],\n",
              "          [6.7650e-01, 3.2350e-01, 0.0000e+00, 0.0000e+00],\n",
              "          [7.8266e-01, 1.9119e-01, 2.6145e-02, 0.0000e+00],\n",
              "          [7.0845e-01, 7.0296e-02, 5.9930e-02, 1.6132e-01]],\n",
              "\n",
              "         [[1.0000e+00, 0.0000e+00, 0.0000e+00, 0.0000e+00],\n",
              "          [2.5229e-03, 9.9748e-01, 0.0000e+00, 0.0000e+00],\n",
              "          [2.0559e-03, 9.6648e-02, 9.0130e-01, 0.0000e+00],\n",
              "          [1.6596e-02, 2.2816e-02, 1.3501e-02, 9.4709e-01]],\n",
              "\n",
              "         [[1.0000e+00, 0.0000e+00, 0.0000e+00, 0.0000e+00],\n",
              "          [3.2422e-01, 6.7578e-01, 0.0000e+00, 0.0000e+00],\n",
              "          [9.8018e-02, 8.0576e-01, 9.6222e-02, 0.0000e+00],\n",
              "          [3.9203e-01, 1.2767e-01, 7.9325e-02, 4.0097e-01]],\n",
              "\n",
              "         [[1.0000e+00, 0.0000e+00, 0.0000e+00, 0.0000e+00],\n",
              "          [1.8637e-06, 1.0000e+00, 0.0000e+00, 0.0000e+00],\n",
              "          [4.4136e-06, 4.4384e-06, 9.9999e-01, 0.0000e+00],\n",
              "          [9.8493e-05, 4.8915e-05, 1.3024e-03, 9.9855e-01]],\n",
              "\n",
              "         [[1.0000e+00, 0.0000e+00, 0.0000e+00, 0.0000e+00],\n",
              "          [9.0512e-01, 9.4882e-02, 0.0000e+00, 0.0000e+00],\n",
              "          [4.3862e-01, 5.4073e-01, 2.0653e-02, 0.0000e+00],\n",
              "          [5.3993e-01, 2.6434e-01, 8.6286e-02, 1.0945e-01]],\n",
              "\n",
              "         [[1.0000e+00, 0.0000e+00, 0.0000e+00, 0.0000e+00],\n",
              "          [9.3596e-01, 6.4038e-02, 0.0000e+00, 0.0000e+00],\n",
              "          [5.7565e-01, 2.9364e-01, 1.3071e-01, 0.0000e+00],\n",
              "          [4.5456e-01, 1.4263e-01, 1.7751e-01, 2.2530e-01]],\n",
              "\n",
              "         [[1.0000e+00, 0.0000e+00, 0.0000e+00, 0.0000e+00],\n",
              "          [8.7070e-01, 1.2930e-01, 0.0000e+00, 0.0000e+00],\n",
              "          [7.3183e-01, 1.8458e-01, 8.3589e-02, 0.0000e+00],\n",
              "          [6.0062e-01, 7.1821e-02, 1.2655e-01, 2.0101e-01]],\n",
              "\n",
              "         [[1.0000e+00, 0.0000e+00, 0.0000e+00, 0.0000e+00],\n",
              "          [9.6962e-01, 3.0379e-02, 0.0000e+00, 0.0000e+00],\n",
              "          [8.6569e-01, 8.7433e-02, 4.6880e-02, 0.0000e+00],\n",
              "          [7.6964e-01, 9.3659e-02, 6.5910e-02, 7.0790e-02]],\n",
              "\n",
              "         [[1.0000e+00, 0.0000e+00, 0.0000e+00, 0.0000e+00],\n",
              "          [5.0160e-01, 4.9840e-01, 0.0000e+00, 0.0000e+00],\n",
              "          [4.3864e-01, 5.1317e-02, 5.1004e-01, 0.0000e+00],\n",
              "          [5.0661e-01, 6.9018e-02, 5.0498e-02, 3.7387e-01]],\n",
              "\n",
              "         [[1.0000e+00, 0.0000e+00, 0.0000e+00, 0.0000e+00],\n",
              "          [6.3985e-01, 3.6015e-01, 0.0000e+00, 0.0000e+00],\n",
              "          [6.2807e-01, 2.6103e-01, 1.1089e-01, 0.0000e+00],\n",
              "          [6.6929e-01, 1.4483e-01, 7.2472e-02, 1.1341e-01]]]], device='cuda:0',\n",
              "       grad_fn=<SoftmaxBackward0>)"
            ]
          },
          "execution_count": 34,
          "metadata": {},
          "output_type": "execute_result"
        }
      ],
      "source": [
        "output[-1][0]"
      ]
    },
    {
      "cell_type": "code",
      "execution_count": 35,
      "metadata": {
        "id": "NfniT96sJ4SY"
      },
      "outputs": [],
      "source": [
        "atten_layer0_head_0 = output[-1][0].squeeze(0)[0]"
      ]
    },
    {
      "cell_type": "code",
      "execution_count": 36,
      "metadata": {
        "id": "SEOxpZilL5WL"
      },
      "outputs": [],
      "source": [
        "import matplotlib.pyplot as plt"
      ]
    },
    {
      "cell_type": "code",
      "execution_count": 37,
      "metadata": {
        "colab": {
          "base_uri": "https://localhost:8080/",
          "height": 452
        },
        "id": "aC5WxD2fJ4Xf",
        "outputId": "19b5c178-bd7a-445e-ea15-8ed93ec99ec3"
      },
      "outputs": [
        {
          "data": {
            "text/plain": [
              "<matplotlib.image.AxesImage at 0x7b45d54272e0>"
            ]
          },
          "execution_count": 37,
          "metadata": {},
          "output_type": "execute_result"
        },
        {
          "data": {
            "image/png": "[encoded data removed]",
            "text/plain": [
              "<Figure size 640x480 with 1 Axes>"
            ]
          },
          "metadata": {},
          "output_type": "display_data"
        }
      ],
      "source": [
        "plt.imshow(atten_layer0_head_0.cpu().detach().numpy())"
      ]
    },
    {
      "cell_type": "code",
      "execution_count": 38,
      "metadata": {
        "colab": {
          "base_uri": "https://localhost:8080/"
        },
        "id": "VGVVPGEwMdO3",
        "outputId": "bb7d3e5f-46ef-402b-fd5a-70b3ac15e514"
      },
      "outputs": [
        {
          "name": "stdout",
          "output_type": "stream",
          "text": [
            "Jonathan\n",
            " Din\n",
            "u\n",
            " is\n"
          ]
        }
      ],
      "source": [
        "chunks = []\n",
        "\n",
        "for token in tokens['input_ids'][0]:\n",
        "  chunk = tokenizer.decode(token)\n",
        "  chunks.append(tokenizer.decode(token))\n",
        "  print(chunk)"
      ]
    },
    {
      "cell_type": "code",
      "execution_count": 39,
      "metadata": {
        "id": "Xb177RgWNqTJ"
      },
      "outputs": [],
      "source": [
        "import numpy as np"
      ]
    },
    {
      "cell_type": "code",
      "execution_count": 40,
      "metadata": {
        "colab": {
          "base_uri": "https://localhost:8080/",
          "height": 447
        },
        "id": "L87KYasGJ4cH",
        "outputId": "e516f5e0-b1c9-473a-e0f6-e45e86b91d2d"
      },
      "outputs": [
        {
          "data": {
            "text/plain": [
              "<matplotlib.image.AxesImage at 0x7b45d54253c0>"
            ]
          },
          "execution_count": 40,
          "metadata": {},
          "output_type": "execute_result"
        },
        {
          "data": {
            "image/png": "[encoded data removed]",
            "text/plain": [
              "<Figure size 640x480 with 1 Axes>"
            ]
          },
          "metadata": {},
          "output_type": "display_data"
        }
      ],
      "source": [
        "plt.xticks(np.arange(len(chunks)), labels=chunks)\n",
        "plt.yticks(np.arange(len(chunks)), labels=chunks)\n",
        "plt.imshow(atten_layer0_head_0.cpu().detach().numpy())"
      ]
    },
    {
      "cell_type": "code",
      "execution_count": 41,
      "metadata": {
        "id": "Sw7S5XQMEcoe"
      },
      "outputs": [],
      "source": [
        "def attention_viz(text, model, tokenizer, layer=0, head=0):\n",
        "  tokens = tokenizer(text, return_tensors='pt').to(device)\n",
        "  output = model(**tokens, output_hidden_states=True, output_attentions=True)\n",
        "  atten_matrix = output[-1][layer].squeeze(0)[head]\n",
        "\n",
        "  chunks = [ tokenizer.decode(token) for token in tokens['input_ids'][0]]\n",
        "\n",
        "  plt.xticks(np.arange(len(chunks)), labels=chunks)\n",
        "  plt.yticks(np.arange(len(chunks)), labels=chunks)\n",
        "  plt.imshow(atten_matrix.cpu().detach().numpy())"
      ]
    },
    {
      "cell_type": "code",
      "execution_count": 42,
      "metadata": {
        "colab": {
          "base_uri": "https://localhost:8080/",
          "height": 430
        },
        "id": "eHkiC8HkO0aM",
        "outputId": "5d9700e3-5b0e-4651-97d7-21034719f22c"
      },
      "outputs": [
        {
          "data": {
            "image/png": "[encoded data removed]",
            "text/plain": [
              "<Figure size 640x480 with 1 Axes>"
            ]
          },
          "metadata": {},
          "output_type": "display_data"
        }
      ],
      "source": [
        "attention_viz(\"jonathan dinu is\", model=model, tokenizer=tokenizer)"
      ]
    },
    {
      "cell_type": "code",
      "execution_count": 43,
      "metadata": {
        "colab": {
          "base_uri": "https://localhost:8080/",
          "height": 430
        },
        "id": "k-BKERkNO2iU",
        "outputId": "fbe17408-36e3-4d09-bfb1-b8a1f668a4b1"
      },
      "outputs": [
        {
          "data": {
            "image/png": "[encoded data removed]",
            "text/plain": [
              "<Figure size 640x480 with 1 Axes>"
            ]
          },
          "metadata": {},
          "output_type": "display_data"
        }
      ],
      "source": [
        "attention_viz(\"Jonathan Dinu is\", model=model, tokenizer=tokenizer)"
      ]
    },
    {
      "cell_type": "code",
      "execution_count": 44,
      "metadata": {
        "colab": {
          "base_uri": "https://localhost:8080/",
          "height": 430
        },
        "id": "VqGB3Kb_PBJt",
        "outputId": "e32e829f-ce81-41ac-9bf4-e0be5a5a7046"
      },
      "outputs": [
        {
          "data": {
            "image/png": "[encoded data removed]",
            "text/plain": [
              "<Figure size 640x480 with 1 Axes>"
            ]
          },
          "metadata": {},
          "output_type": "display_data"
        }
      ],
      "source": [
        "attention_viz(\"Jonathan Dinu is\", model=model, tokenizer=tokenizer, layer=5)"
      ]
    },
    {
      "cell_type": "code",
      "execution_count": 45,
      "metadata": {
        "colab": {
          "base_uri": "https://localhost:8080/",
          "height": 430
        },
        "id": "IDShSqsKPHBN",
        "outputId": "001b6cda-84e7-4861-cd34-27489b602a09"
      },
      "outputs": [
        {
          "data": {
            "image/png": "[encoded data removed]",
            "text/plain": [
              "<Figure size 640x480 with 1 Axes>"
            ]
          },
          "metadata": {},
          "output_type": "display_data"
        }
      ],
      "source": [
        "attention_viz(\"Jonathan Dinu is\",  model=model, tokenizer=tokenizer, layer=5, head=11)"
      ]
    },
    {
      "cell_type": "code",
      "execution_count": 46,
      "metadata": {
        "colab": {
          "base_uri": "https://localhost:8080/"
        },
        "id": "0XWKnzqyQTVa",
        "outputId": "628e935d-56bb-47d0-942e-bbce076b6631"
      },
      "outputs": [
        {
          "name": "stderr",
          "output_type": "stream",
          "text": [
            "Setting `pad_token_id` to `eos_token_id`:50256 for open-end generation.\n"
          ]
        },
        {
          "data": {
            "text/plain": [
              "[{'generated_text': \"The brown fox jumps over the trees, the deer flies and many others.\\n\\n- It's a different story to what you see on video\"},\n",
              " {'generated_text': 'The brown fox jumps over the railing of the waterfalls.'},\n",
              " {'generated_text': 'The brown fox jumps over the fence and gets his nose rubbed out from behind him so that the other Fox is not in the eye for the eye.'},\n",
              " {'generated_text': 'The brown fox jumps over the fence and has the dog\\'s face covered,\" he said.'},\n",
              " {'generated_text': 'The brown fox jumps over the wall after hearing the sound of metal clapping from a nearby bar window.\\n\\n\\n\\n\"I heard the noise'}]"
            ]
          },
          "execution_count": 46,
          "metadata": {},
          "output_type": "execute_result"
        }
      ],
      "source": [
        "generator(\"The brown fox jumps over the\", max_length=30, num_return_sequences=5)"
      ]
    },
    {
      "cell_type": "code",
      "execution_count": 47,
      "metadata": {
        "colab": {
          "base_uri": "https://localhost:8080/",
          "height": 430
        },
        "id": "vd1PIydyPZQG",
        "outputId": "f56f9398-ff2e-4b0e-8cca-56d798642c8c"
      },
      "outputs": [
        {
          "data": {
            "image/png": "[encoded data removed]",
            "text/plain": [
              "<Figure size 640x480 with 1 Axes>"
            ]
          },
          "metadata": {},
          "output_type": "display_data"
        }
      ],
      "source": [
        "attention_viz(\"The brown fox jumps over the\",  model=model, tokenizer=tokenizer)"
      ]
    },
    {
      "cell_type": "markdown",
      "metadata": {
        "id": "dQ8Uit5KPWpn"
      },
      "source": [
        "https://huggingface.co/spaces/exbert-project/exbert"
      ]
    },
    {
      "cell_type": "markdown",
      "metadata": {
        "id": "JXs_wibOpu-E"
      },
      "source": [
        "## 5.10 Embedding Sequences with Transformers"
      ]
    },
    {
      "cell_type": "code",
      "execution_count": 48,
      "metadata": {
        "id": "zox4VnMJp8Pl"
      },
      "outputs": [],
      "source": [
        "from transformers import AutoTokenizer, AutoModelForCausalLM\n",
        "\n",
        "model_name = \"distilbert/distilgpt2\"\n",
        "\n",
        "model = AutoModelForCausalLM.from_pretrained(model_name).to(device)\n",
        "tokenizer = AutoTokenizer.from_pretrained(model_name)"
      ]
    },
    {
      "cell_type": "code",
      "execution_count": 49,
      "metadata": {
        "id": "nduUYaJepyly"
      },
      "outputs": [],
      "source": [
        "tokens = tokenizer(\"Jonathan Dinu is\", return_tensors='pt').to(device)"
      ]
    },
    {
      "cell_type": "code",
      "execution_count": 50,
      "metadata": {
        "colab": {
          "base_uri": "https://localhost:8080/"
        },
        "id": "eGYml7iQp9yr",
        "outputId": "0b2ac86b-afcb-4dd1-af2e-00d72cd6bd25"
      },
      "outputs": [
        {
          "data": {
            "text/plain": [
              "{'input_ids': tensor([[30365, 23448,    84,   318]], device='cuda:0'), 'attention_mask': tensor([[1, 1, 1, 1]], device='cuda:0')}"
            ]
          },
          "execution_count": 50,
          "metadata": {},
          "output_type": "execute_result"
        }
      ],
      "source": [
        "tokens"
      ]
    },
    {
      "cell_type": "code",
      "execution_count": 51,
      "metadata": {
        "colab": {
          "base_uri": "https://localhost:8080/"
        },
        "id": "pTC_1Z2JsJ0K",
        "outputId": "6b92c340-206e-4ca0-b485-6e846936020c"
      },
      "outputs": [
        {
          "data": {
            "text/plain": [
              "GPT2LMHeadModel(\n",
              "  (transformer): GPT2Model(\n",
              "    (wte): Embedding(50257, 768)\n",
              "    (wpe): Embedding(1024, 768)\n",
              "    (drop): Dropout(p=0.1, inplace=False)\n",
              "    (h): ModuleList(\n",
              "      (0-5): 6 x GPT2Block(\n",
              "        (ln_1): LayerNorm((768,), eps=1e-05, elementwise_affine=True)\n",
              "        (attn): GPT2SdpaAttention(\n",
              "          (c_attn): Conv1D(nf=2304, nx=768)\n",
              "          (c_proj): Conv1D(nf=768, nx=768)\n",
              "          (attn_dropout): Dropout(p=0.1, inplace=False)\n",
              "          (resid_dropout): Dropout(p=0.1, inplace=False)\n",
              "        )\n",
              "        (ln_2): LayerNorm((768,), eps=1e-05, elementwise_affine=True)\n",
              "        (mlp): GPT2MLP(\n",
              "          (c_fc): Conv1D(nf=3072, nx=768)\n",
              "          (c_proj): Conv1D(nf=768, nx=3072)\n",
              "          (act): NewGELUActivation()\n",
              "          (dropout): Dropout(p=0.1, inplace=False)\n",
              "        )\n",
              "      )\n",
              "    )\n",
              "    (ln_f): LayerNorm((768,), eps=1e-05, elementwise_affine=True)\n",
              "  )\n",
              "  (lm_head): Linear(in_features=768, out_features=50257, bias=False)\n",
              ")"
            ]
          },
          "execution_count": 51,
          "metadata": {},
          "output_type": "execute_result"
        }
      ],
      "source": [
        "model"
      ]
    },
    {
      "cell_type": "code",
      "execution_count": 52,
      "metadata": {
        "colab": {
          "base_uri": "https://localhost:8080/"
        },
        "id": "kaVZx7y0sToM",
        "outputId": "41060919-dbe7-4157-a2f0-6c3737e1c2f3"
      },
      "outputs": [
        {
          "data": {
            "text/plain": [
              "Embedding(50257, 768)"
            ]
          },
          "execution_count": 52,
          "metadata": {},
          "output_type": "execute_result"
        }
      ],
      "source": [
        "# Word Embedddings\n",
        "model.transformer.wte"
      ]
    },
    {
      "cell_type": "code",
      "execution_count": 53,
      "metadata": {
        "colab": {
          "base_uri": "https://localhost:8080/"
        },
        "id": "9vND1pilstPm",
        "outputId": "35c919ae-80f8-4983-bdc8-df239e582ed3"
      },
      "outputs": [
        {
          "data": {
            "text/plain": [
              "Parameter containing:\n",
              "tensor([[-0.1445, -0.0455,  0.0042,  ..., -0.1523,  0.0184,  0.0991],\n",
              "        [ 0.0573, -0.0722,  0.0234,  ...,  0.0603, -0.0042,  0.0478],\n",
              "        [-0.1106,  0.0386,  0.1948,  ...,  0.0421, -0.1141, -0.1455],\n",
              "        ...,\n",
              "        [-0.0710, -0.0173,  0.0176,  ...,  0.0834,  0.1340, -0.0746],\n",
              "        [ 0.1993,  0.0201,  0.0151,  ..., -0.0829,  0.0750, -0.0294],\n",
              "        [ 0.0342,  0.0640,  0.0305,  ...,  0.0291,  0.0942,  0.0639]],\n",
              "       device='cuda:0', requires_grad=True)"
            ]
          },
          "execution_count": 53,
          "metadata": {},
          "output_type": "execute_result"
        }
      ],
      "source": [
        "model.transformer.wte.weight"
      ]
    },
    {
      "cell_type": "code",
      "execution_count": 54,
      "metadata": {
        "colab": {
          "base_uri": "https://localhost:8080/"
        },
        "id": "R7Xsf7jQsv6n",
        "outputId": "87dfe366-a1c5-4589-f775-b8039ac2014d"
      },
      "outputs": [
        {
          "data": {
            "text/plain": [
              "{'input_ids': [30365], 'attention_mask': [1]}"
            ]
          },
          "execution_count": 54,
          "metadata": {},
          "output_type": "execute_result"
        }
      ],
      "source": [
        "tokenizer(\"Jonathan\")"
      ]
    },
    {
      "cell_type": "code",
      "execution_count": 55,
      "metadata": {
        "colab": {
          "base_uri": "https://localhost:8080/"
        },
        "id": "y305sAfis5if",
        "outputId": "5c048abe-9c43-4e90-9bdd-d3b9bd03fbab"
      },
      "outputs": [
        {
          "data": {
            "text/plain": [
              "tensor([[-2.6748e-02,  1.6820e-02,  2.1875e-01, -1.7694e-01,  3.1509e-01,\n",
              "         -2.4694e-02, -2.1765e-01,  3.4474e-02, -1.1454e-01, -3.7879e-03,\n",
              "         -1.9932e-02,  2.1051e-01, -1.1500e-01,  8.1896e-02,  1.6310e-01,\n",
              "         -6.9670e-02,  1.5470e-01,  7.1367e-02, -3.4150e-02,  1.2479e-01,\n",
              "          5.3352e-02,  1.3532e-03, -7.2382e-02,  1.8683e-02, -7.0541e-02,\n",
              "         -1.2263e-01,  1.6948e-02, -1.3524e-01,  4.4288e-02, -9.2416e-02,\n",
              "          5.6978e-02, -2.2718e-02,  1.6759e-01,  2.9264e-01,  3.8494e-02,\n",
              "          7.8528e-02, -3.2258e-01, -8.4816e-02,  2.5952e-01, -8.2193e-02,\n",
              "          4.5737e-02,  1.0609e-01, -8.2990e-02, -1.8265e-01,  4.4240e-03,\n",
              "          4.7533e-02, -7.0390e-02,  1.3702e-01,  1.9782e-01, -2.7560e-01,\n",
              "         -1.5536e-01, -4.6668e-03,  2.4115e-03, -1.7784e-01, -1.8918e-02,\n",
              "         -2.4926e-01, -2.0322e-03,  9.3299e-02, -9.8020e-02,  7.5027e-02,\n",
              "         -1.4686e-01,  6.6280e-02, -3.8239e-02,  8.0545e-02,  3.3362e-01,\n",
              "          7.8246e-02, -1.2117e-01, -1.7397e-01,  1.1791e-01, -4.2979e-02,\n",
              "          2.7737e-02,  1.5252e-01, -1.1882e-01,  9.9947e-02,  1.0223e-01,\n",
              "          1.8745e-01,  3.2067e-02,  7.0547e-02,  1.7663e-01, -9.3595e-02,\n",
              "          8.1011e-02, -6.2468e-02, -2.2033e-02, -6.6623e-02,  8.3974e-02,\n",
              "          5.4959e-02, -1.4333e-01,  3.2635e-01,  7.2603e-02, -1.1614e-02,\n",
              "         -2.1107e-01,  1.1507e-01, -3.1901e-02,  1.5151e-01,  1.3043e-01,\n",
              "         -1.7803e-02, -8.9308e-02, -8.5672e-02,  1.4083e-02, -9.5298e-03,\n",
              "          3.6435e-02,  4.7151e-02, -4.8287e-02, -9.6531e-02,  6.2612e-02,\n",
              "         -3.0944e-02, -4.2493e-02, -1.0994e-01,  4.4669e-02,  1.6846e-01,\n",
              "         -1.4111e-01,  1.9338e-02, -8.3362e-02, -9.8114e-02, -8.9596e-02,\n",
              "         -1.3001e-01,  1.2758e-01,  1.1321e-02, -1.1368e-01,  1.3451e-01,\n",
              "          1.3324e-01,  3.7908e-02, -6.7529e-02, -2.7164e-02,  9.9875e-02,\n",
              "         -7.4603e-02, -8.3368e-02, -2.4740e-02,  1.1769e-01,  1.8655e-01,\n",
              "         -1.1249e-01, -3.6129e-02, -1.7534e-02, -7.9512e-02, -2.6477e-02,\n",
              "          3.3631e-02,  1.0999e-01,  7.8602e-02, -3.9249e-01, -4.1202e-02,\n",
              "          1.0504e-01,  1.4921e-01,  5.2045e-02, -7.0918e-02, -1.6698e-01,\n",
              "         -2.3517e-01, -2.6268e-01,  3.2248e-02,  3.6457e-02,  6.8785e-02,\n",
              "          2.4648e-01, -2.7651e-02, -9.6398e-02, -7.4823e-02, -1.2831e-01,\n",
              "          7.8306e-03,  5.1238e-02,  7.3478e-02, -5.9890e-02, -8.0035e-02,\n",
              "         -1.4322e-02,  6.3071e-02,  1.2090e-01,  1.9332e-02,  1.9162e-01,\n",
              "          2.4840e-01, -9.5496e-02,  2.4921e-01,  5.0434e-02, -1.6958e-02,\n",
              "         -3.0326e-01,  4.3997e-02,  4.3189e-02, -2.1651e-03,  4.8295e-02,\n",
              "         -8.2783e-02,  1.6881e-01,  9.7595e-02,  8.9640e-02,  1.3801e-03,\n",
              "         -1.2655e-01, -8.6405e-02, -1.5202e-01,  4.6870e-02,  1.1577e-01,\n",
              "          1.7347e-01,  1.6501e-01, -5.7630e-02, -1.7836e-02, -2.7736e-01,\n",
              "         -9.4784e-02,  3.6548e-01,  1.8705e-01, -4.7908e-02, -4.1787e-02,\n",
              "          1.5368e-01, -7.4318e-02, -5.4288e-02,  1.6522e-01,  5.9742e-02,\n",
              "         -1.0372e-01,  1.8772e-01,  9.0448e-02,  1.2137e-01,  1.4647e-01,\n",
              "          2.8775e-02,  2.1408e-01, -1.0953e-03,  1.1092e-01, -1.3152e-01,\n",
              "         -6.8611e-02, -4.8582e-02, -6.8320e-03, -1.6257e-01, -4.0707e-02,\n",
              "          3.2940e-02,  2.0356e-02,  7.7967e-02,  6.2640e-02,  7.5114e-02,\n",
              "         -8.6533e-02,  2.6787e-02, -1.4869e-02, -4.6492e-02, -1.1413e-01,\n",
              "          1.1543e-01,  7.7933e-02, -1.4835e-01,  1.7617e-01,  1.7721e-01,\n",
              "         -9.7321e-02,  2.3319e-02, -2.9629e-01, -1.0749e-01,  7.0291e-02,\n",
              "          3.3683e-03, -1.6466e-02, -1.2503e-01,  1.1615e-01, -4.3433e-02,\n",
              "          2.4764e-02, -9.2302e-02,  8.9223e-02, -1.1285e-01,  1.1926e-01,\n",
              "         -5.2191e-02,  1.0201e-01, -4.7195e-02,  5.0447e-02, -7.4031e-02,\n",
              "          1.6129e-01, -1.5345e-01, -1.6345e-01,  1.5962e-01,  9.8522e-02,\n",
              "         -1.8499e-01,  9.4655e-02, -8.2223e-02,  7.5686e-02, -3.7178e-02,\n",
              "          1.1303e-01,  1.3819e-01, -7.6177e-02, -7.9992e-03,  9.1193e-02,\n",
              "          1.8764e-01,  3.0931e-01, -8.2673e-02, -1.0566e-01,  3.6607e-02,\n",
              "          6.9657e-02, -1.4271e-01,  8.2164e-02, -1.0793e-02,  5.6375e-02,\n",
              "          7.9642e-02, -1.3631e-01,  1.5111e-01, -1.3680e-01, -4.3602e-02,\n",
              "         -1.2026e-02, -4.0765e-02,  8.8328e-02, -3.8835e-02, -2.2403e-01,\n",
              "         -3.1801e-02,  1.1686e-01, -1.5359e-01, -1.5598e-01,  5.6088e-02,\n",
              "         -6.2241e-02,  4.3184e-03,  7.0270e-02,  1.3162e-01,  1.3502e-03,\n",
              "          8.1843e-02, -5.6968e-02, -3.9710e-02,  2.3749e-01, -2.4919e-01,\n",
              "          5.5908e-03,  3.8491e-02, -9.3321e-02,  4.7394e-02, -1.8589e-01,\n",
              "         -1.0123e-01,  1.7533e-02, -1.6380e-01,  2.6455e-01,  2.3000e-01,\n",
              "         -1.0086e-01,  1.3990e-01,  7.8776e-02,  7.5609e-02,  2.0517e-01,\n",
              "          4.2966e-02,  8.6264e-02, -1.4006e-01,  7.1249e-02,  1.1184e-01,\n",
              "          3.0236e-01,  5.4363e-02, -2.3536e-01,  2.3732e-01, -1.0067e-01,\n",
              "         -3.4538e-02, -6.8235e-01, -3.1615e-02, -2.2753e-02,  8.0731e-02,\n",
              "         -5.5704e-02, -6.8170e-02, -4.4980e-02, -5.4893e-02, -2.2582e-03,\n",
              "         -4.3064e-02,  1.9688e-02, -7.7783e-02,  2.1939e-02,  8.0711e-02,\n",
              "          1.9977e-01, -1.6993e-02,  6.8030e-02, -5.6949e-02, -1.4802e-01,\n",
              "         -1.4969e-01, -5.4177e-02, -7.4177e-02, -1.1441e-01, -2.9554e-03,\n",
              "          3.5619e-02, -1.9765e-01, -8.0703e-02, -2.3345e-02,  1.7089e-02,\n",
              "          1.3510e-01,  8.5827e-02, -1.2963e-01,  1.6908e-01, -9.6053e-02,\n",
              "          1.3486e-01,  7.5707e-02, -5.3197e-01,  1.1600e-01, -2.2065e-01,\n",
              "          1.5439e-01, -1.4797e-01, -1.1676e-01,  7.7855e-03,  1.8407e-01,\n",
              "          8.3618e-03, -6.3840e-02,  1.0315e-02,  3.2012e-01,  1.9183e-01,\n",
              "          1.5719e-01, -8.0449e-02, -1.6956e-01, -3.0027e-02,  4.3241e-02,\n",
              "         -7.8087e-02,  1.5267e-01, -6.2475e-02, -1.1416e-01,  3.5120e-02,\n",
              "         -1.3825e-01, -1.2143e-01,  3.0914e-02, -1.1881e-01,  1.2759e-02,\n",
              "          5.7345e-02,  1.3871e-01, -2.9742e-02,  1.2977e-01, -6.0004e-02,\n",
              "          1.7244e-03,  1.0771e-01,  2.1097e-01, -2.1657e-01,  5.0706e-02,\n",
              "         -4.0533e-02, -8.0726e-02, -6.0289e-02,  8.5760e-02, -5.5305e-02,\n",
              "          3.6816e-02, -1.3464e-01,  7.3010e-02, -3.0693e-01, -8.9728e-02,\n",
              "          1.1868e-01,  6.2957e-02, -7.3611e-03,  6.3310e-02, -7.7887e-02,\n",
              "          6.0645e-02,  1.1269e-01,  1.0282e-01, -6.7664e-02, -1.4558e-01,\n",
              "          9.5147e-02,  1.1680e-01,  2.3187e-01,  1.0101e-02,  1.1180e-01,\n",
              "         -5.3156e-02, -4.8789e-03,  5.7939e-02,  1.0758e-01,  2.1092e-02,\n",
              "         -2.5675e-01, -4.9541e-02,  6.4576e-02,  9.0040e-02, -1.4106e-01,\n",
              "         -1.5828e-01,  1.1613e-01, -5.0849e-02,  9.3558e-03, -7.2198e-02,\n",
              "         -1.1964e-01,  1.2333e-01, -1.4601e-01,  7.6136e-02,  4.7115e-02,\n",
              "          2.3204e-02,  2.4371e-01, -2.7388e-01, -8.0523e-02, -9.1180e-02,\n",
              "         -1.9522e-01, -1.5259e-01,  1.5563e-01,  3.7380e-02, -9.5918e-04,\n",
              "         -2.6093e-01,  1.6347e-01, -1.1130e-01,  5.0329e-03, -7.6441e-02,\n",
              "          3.4934e-02, -3.5063e-02,  8.4030e-02,  2.5345e-04, -1.3912e-01,\n",
              "         -2.9181e-02,  1.2553e-01, -2.5706e-02,  1.1519e-01, -1.4504e-01,\n",
              "          3.7613e-02, -2.8274e-02,  5.1414e-02,  5.9156e-03,  2.5611e-02,\n",
              "         -1.2018e-01, -1.6088e-01, -1.9929e-01,  1.3097e-01,  2.6109e-01,\n",
              "          3.0977e-01, -3.4033e-01, -1.3830e-01, -1.0710e-01,  9.3523e-02,\n",
              "          5.2435e-02, -1.5955e-01, -1.0555e-01, -9.3714e-02,  1.1469e-01,\n",
              "         -7.8543e-02,  2.4349e-01,  1.2460e-02, -1.0393e-01,  4.8712e-02,\n",
              "         -1.1001e-01, -2.0745e-01,  1.9178e-01, -9.4016e-02, -1.4680e-01,\n",
              "         -1.1395e-01,  2.6280e-02,  1.0927e-01,  1.8280e-01, -1.9232e-02,\n",
              "          2.9092e-02,  1.8276e-01, -3.4001e-01, -3.3225e-02,  2.8872e-02,\n",
              "          2.3021e-01,  1.7025e-01, -1.6254e-01, -2.1587e-01, -1.6458e-01,\n",
              "          5.2163e-02,  8.4717e-02, -1.3512e-01,  7.5373e-03,  1.6157e-01,\n",
              "         -1.1037e-01, -6.0076e-02, -1.0067e-01, -2.8059e-02, -3.9585e-02,\n",
              "         -9.1278e-02,  6.9947e-02,  2.1781e-01,  6.1433e-02, -6.4794e-02,\n",
              "         -2.7030e-01, -1.2522e-01, -6.1166e-02,  1.4529e-01, -1.6772e-01,\n",
              "         -1.0132e-01,  3.0996e-02, -1.0643e-02,  4.5199e-03, -4.7051e-02,\n",
              "         -1.5640e-01,  8.3374e-02,  1.4718e-01,  3.5107e-01, -1.5020e-01,\n",
              "          3.3947e-02, -2.9323e-02, -1.7827e-01, -8.6540e-03,  3.7690e-01,\n",
              "         -1.1958e-01, -5.3764e-02, -1.2380e-02,  1.1339e-01,  3.0052e-01,\n",
              "         -6.5822e-02,  3.4053e-02, -1.0808e-01, -2.3850e-01,  1.8949e-01,\n",
              "         -1.8097e-01,  8.3272e-02, -2.2630e-02, -8.8791e-02, -1.7148e-02,\n",
              "         -2.0902e-01, -1.8954e-01, -3.5478e-02, -2.7294e-02,  2.4825e-02,\n",
              "         -1.4885e-01, -3.0257e-02,  2.1458e-02, -2.5928e-02,  5.5674e-02,\n",
              "         -1.0325e-01, -1.0723e-01, -9.1912e-02,  2.1953e-01, -3.1108e-01,\n",
              "         -1.5273e-02, -7.8801e-02,  3.6275e-02, -1.8199e-01, -1.1531e-01,\n",
              "          1.4654e-01,  8.6706e-03, -1.3552e-01, -2.2360e-01,  1.4948e-01,\n",
              "         -4.5272e-02,  2.3388e-01,  7.4194e-02, -9.0787e-02,  2.3674e-01,\n",
              "         -5.7073e-02,  5.8574e-02,  1.2528e-02, -1.4075e-01,  1.0699e-01,\n",
              "          1.1012e-01,  8.6885e-03,  8.0994e-02,  1.4827e-02, -8.3172e-02,\n",
              "         -1.0148e-01, -1.9996e-01,  5.3932e-02, -2.9952e-01,  1.0236e-01,\n",
              "         -1.3280e-02, -4.1921e-02, -5.7191e-02, -3.2236e-02, -2.0665e-02,\n",
              "         -1.1592e-01, -4.2401e-01,  2.9861e-02,  1.8284e-01,  1.2170e-01,\n",
              "          4.5573e-04,  1.5012e-02,  4.3380e-02, -5.8288e-02, -1.3712e-02,\n",
              "          2.2799e-02, -1.0569e-01,  3.1088e-01, -8.8570e-02,  1.9966e-01,\n",
              "          1.1843e-01,  1.7533e-02, -4.8365e-02,  8.8449e-02, -4.8059e-02,\n",
              "          2.9151e-01,  1.7960e-01, -2.6181e-02,  1.4042e-01, -1.0336e-01,\n",
              "         -4.5542e-02,  1.3233e-01, -6.3929e-02,  7.1164e-02,  4.6427e-02,\n",
              "          6.7303e-02, -8.5870e-02, -2.6364e-02, -1.0433e-01,  1.5407e-01,\n",
              "         -5.5935e-02, -6.2807e-02,  8.4172e-02, -9.3189e-02,  3.3223e-01,\n",
              "         -8.4342e-02, -1.5188e-01,  4.8460e-02, -6.5235e-02, -4.6769e-01,\n",
              "         -1.1108e-01, -1.7072e-02,  1.0335e-01, -1.5904e-01,  8.3209e-02,\n",
              "         -2.5266e-01, -5.3636e-02,  3.9699e-02, -1.3533e-01,  1.0033e-01,\n",
              "          6.0427e-02, -7.6076e-02,  1.8688e-02,  1.0336e-01, -2.3381e-02,\n",
              "          5.7678e-02, -3.5236e-02,  2.3284e-02, -1.2917e-01, -1.8023e-01,\n",
              "          1.6864e-01,  9.2689e-02, -9.5302e-02,  2.1248e-01,  1.4557e-01,\n",
              "          1.4367e-01, -7.3122e-02,  1.3224e-01,  3.8562e-02,  1.2279e-01,\n",
              "          1.4098e-03,  6.2088e-02, -2.0936e-02,  7.2887e-02, -1.7366e-01,\n",
              "         -8.1859e-02,  4.4888e-03, -2.5445e-01, -4.0302e-02, -2.4317e-02,\n",
              "         -2.9149e-01, -7.2261e-02, -1.0297e-01,  1.4895e-01,  2.1795e-02,\n",
              "         -1.0416e-01,  1.9879e-01,  1.0617e-02, -1.1137e-01,  2.6800e-01,\n",
              "          8.4553e-02,  5.6071e-02,  3.2268e-02, -2.1556e-02,  5.6376e-02,\n",
              "          6.7774e-02, -4.0565e-02,  2.0237e-02, -9.1192e-02, -2.3707e-02,\n",
              "         -6.5791e-02,  2.0765e-01, -2.0611e-01, -2.9284e-02, -8.8995e-02,\n",
              "         -5.6495e-02, -1.6284e-01,  3.6752e-02,  1.4534e-01, -6.7601e-02,\n",
              "          1.2043e-01,  6.9398e-02,  1.8126e-01,  2.8798e-02,  7.6428e-02,\n",
              "         -8.7786e-03,  2.4646e-01, -5.8535e-02, -3.6805e-02,  2.1713e-01,\n",
              "         -3.4999e-02,  3.5587e-02, -4.9615e-02,  8.3575e-02,  1.5543e-02,\n",
              "          1.8880e-01,  3.6361e-02, -8.8017e-03, -1.1424e-02, -1.2580e-01,\n",
              "         -3.2145e-01, -6.4230e-02,  1.2850e-01,  1.4775e-01,  2.6409e-02,\n",
              "         -8.7618e-02, -3.2986e-02,  1.2281e-01, -3.5968e-02, -2.4069e-02,\n",
              "         -9.3912e-02, -1.4203e-02, -1.9634e-01, -4.9016e-02, -2.3870e-01,\n",
              "          1.2126e-01,  1.4102e-02, -3.1080e-03]], device='cuda:0',\n",
              "       grad_fn=<EmbeddingBackward0>)"
            ]
          },
          "execution_count": 55,
          "metadata": {},
          "output_type": "execute_result"
        }
      ],
      "source": [
        "model.transformer.wte(torch.tensor([30365]).to(device))"
      ]
    },
    {
      "cell_type": "code",
      "execution_count": 56,
      "metadata": {
        "colab": {
          "base_uri": "https://localhost:8080/"
        },
        "id": "d-JkMK9jtADl",
        "outputId": "25bd9571-2464-4d65-ed83-c9416d7cbf2c"
      },
      "outputs": [
        {
          "data": {
            "text/plain": [
              "30365"
            ]
          },
          "execution_count": 56,
          "metadata": {},
          "output_type": "execute_result"
        }
      ],
      "source": [
        "tokenizer.get_vocab()['Jonathan']"
      ]
    },
    {
      "cell_type": "code",
      "execution_count": 57,
      "metadata": {
        "colab": {
          "base_uri": "https://localhost:8080/"
        },
        "id": "bBKH3wp-tY2c",
        "outputId": "5743ff53-245b-48c3-a93f-0cb8907f9d8f"
      },
      "outputs": [
        {
          "data": {
            "text/plain": [
              "CausalLMOutputWithCrossAttentions(loss=None, logits=tensor([[[-33.2398, -31.2526, -33.1846,  ..., -44.3461, -44.1899, -33.0008],\n",
              "         [-54.1415, -54.0665, -55.9759,  ..., -63.6869, -58.1916, -52.7711],\n",
              "         [-61.8251, -63.2909, -65.7875,  ..., -71.3735, -67.0476, -62.4894],\n",
              "         [-66.7961, -67.9200, -69.7657,  ..., -74.2608, -71.3312, -68.1324]]],\n",
              "       device='cuda:0', grad_fn=<UnsafeViewBackward0>), past_key_values=None, hidden_states=None, attentions=None, cross_attentions=None)"
            ]
          },
          "execution_count": 57,
          "metadata": {},
          "output_type": "execute_result"
        }
      ],
      "source": [
        "# Sequence Embeddings\n",
        "output = model(**tokens, use_cache=False)\n",
        "output"
      ]
    },
    {
      "cell_type": "code",
      "execution_count": 58,
      "metadata": {
        "colab": {
          "base_uri": "https://localhost:8080/"
        },
        "id": "Lj-8_tKAt4GO",
        "outputId": "3be967f4-b1d4-41be-80b4-2025f4d24e29"
      },
      "outputs": [
        {
          "data": {
            "text/plain": [
              "tensor([[[-33.2398, -31.2526, -33.1846,  ..., -44.3461, -44.1899, -33.0008],\n",
              "         [-54.1415, -54.0665, -55.9759,  ..., -63.6869, -58.1916, -52.7711],\n",
              "         [-61.8251, -63.2909, -65.7875,  ..., -71.3735, -67.0476, -62.4894],\n",
              "         [-66.7961, -67.9200, -69.7657,  ..., -74.2608, -71.3312, -68.1324]]],\n",
              "       device='cuda:0', grad_fn=<UnsafeViewBackward0>)"
            ]
          },
          "execution_count": 58,
          "metadata": {},
          "output_type": "execute_result"
        }
      ],
      "source": [
        "output.logits"
      ]
    },
    {
      "cell_type": "code",
      "execution_count": 59,
      "metadata": {
        "colab": {
          "base_uri": "https://localhost:8080/"
        },
        "id": "so5UEIzauMqS",
        "outputId": "651039f3-6d9b-495b-81d5-2f90a6681d2b"
      },
      "outputs": [
        {
          "data": {
            "text/plain": [
              "(tensor([[[-0.0456, -0.1806,  0.2228,  ...,  0.0782,  0.0424,  0.0514],\n",
              "          [ 0.0487, -0.0836,  0.0863,  ...,  0.1447, -0.0339,  0.0054],\n",
              "          [ 0.0381, -0.0167,  0.1584,  ..., -0.1086, -0.0601,  0.2192],\n",
              "          [-0.0009, -0.0663,  0.1362,  ...,  0.2010, -0.0030,  0.0147]]],\n",
              "        device='cuda:0', grad_fn=<AddBackward0>),\n",
              " tensor([[[ 0.2507, -1.9464,  0.2776,  ..., -2.6878,  0.6244,  0.9243],\n",
              "          [ 3.1643, -2.5601, -1.7726,  ..., -0.6267, -0.3975, -0.8502],\n",
              "          [ 2.2119, -0.8133, -0.9146,  ..., -2.1375, -0.0392,  0.2948],\n",
              "          [-0.9808, -1.0972, -0.0854,  ...,  0.9203, -0.1776,  0.8112]]],\n",
              "        device='cuda:0', grad_fn=<AddBackward0>),\n",
              " tensor([[[ 0.1914, -2.0173,  0.8980,  ..., -2.2473,  0.9053,  0.7934],\n",
              "          [ 3.2561, -2.9061, -2.8387,  ...,  0.0188, -1.0422, -0.6994],\n",
              "          [ 2.4843, -1.1742, -0.6823,  ..., -1.2874,  0.0497,  0.8252],\n",
              "          [-1.8139, -0.9893, -0.7275,  ...,  1.4264, -0.2658,  1.6624]]],\n",
              "        device='cuda:0', grad_fn=<AddBackward0>),\n",
              " tensor([[[ 0.2635, -2.2572,  1.1719,  ..., -2.8890,  0.8193,  0.5625],\n",
              "          [ 3.8511, -2.1875, -3.7016,  ..., -0.6985, -1.4159, -1.2102],\n",
              "          [ 3.1059, -2.1338, -2.7084,  ..., -1.1733, -0.5853,  1.2702],\n",
              "          [-2.4974, -0.7827, -1.0115,  ...,  1.3519, -0.2979,  1.9396]]],\n",
              "        device='cuda:0', grad_fn=<AddBackward0>),\n",
              " tensor([[[-0.0082, -2.1004,  1.2179,  ..., -3.3273,  0.8493,  0.3250],\n",
              "          [ 4.1512, -2.9528, -5.1619,  ..., -1.9083, -3.0873, -0.4542],\n",
              "          [ 3.1706, -1.9970, -4.0817,  ...,  0.0345, -1.3693,  1.3644],\n",
              "          [-3.0958, -1.0983, -1.4411,  ...,  2.7314, -1.9387,  2.9888]]],\n",
              "        device='cuda:0', grad_fn=<AddBackward0>),\n",
              " tensor([[[-0.1497, -1.3991,  1.2202,  ..., -3.7438,  1.5011, -0.2506],\n",
              "          [ 5.1841, -3.1773, -4.9935,  ..., -2.3072, -3.3893, -0.1557],\n",
              "          [ 3.7284, -2.8492, -3.8534,  ...,  0.8192, -1.4542,  1.9733],\n",
              "          [-4.9346, -1.6261, -3.3583,  ...,  3.9251, -1.4897,  1.7793]]],\n",
              "        device='cuda:0', grad_fn=<AddBackward0>),\n",
              " tensor([[[-0.0153,  0.3176,  0.0239,  ..., -0.2059,  0.1514, -0.0781],\n",
              "          [ 1.1903, -0.4841, -0.9119,  ..., -0.4427, -0.4390, -0.0690],\n",
              "          [ 0.4898, -0.1974, -0.7837,  ..., -0.0764, -0.2097,  0.3078],\n",
              "          [-0.5876, -0.1329, -0.3504,  ...,  0.3995, -0.0464,  0.1426]]],\n",
              "        device='cuda:0', grad_fn=<ViewBackward0>))"
            ]
          },
          "execution_count": 59,
          "metadata": {},
          "output_type": "execute_result"
        }
      ],
      "source": [
        "output = model(**tokens, output_hidden_states=True)\n",
        "output.hidden_states"
      ]
    },
    {
      "cell_type": "code",
      "execution_count": 60,
      "metadata": {
        "colab": {
          "base_uri": "https://localhost:8080/"
        },
        "id": "ssFD8ASYui_j",
        "outputId": "ab7e4d9d-0d90-478d-8a5f-ab4116609af7"
      },
      "outputs": [
        {
          "data": {
            "text/plain": [
              "torch.Size([1, 4, 768])"
            ]
          },
          "execution_count": 60,
          "metadata": {},
          "output_type": "execute_result"
        }
      ],
      "source": [
        "output.hidden_states[-1].shape"
      ]
    },
    {
      "cell_type": "code",
      "execution_count": 61,
      "metadata": {
        "colab": {
          "base_uri": "https://localhost:8080/"
        },
        "id": "KOWLEquOul7J",
        "outputId": "a5984a71-847f-45b8-e873-6733685f5d62"
      },
      "outputs": [
        {
          "data": {
            "text/plain": [
              "tensor([-5.8763e-01, -1.3294e-01, -3.5036e-01, -2.3051e-01,  2.9621e-01,\n",
              "         4.0314e-02, -9.9075e-01,  4.4454e-01, -9.2503e-02, -2.8864e-01,\n",
              "         1.3947e-01,  3.1794e-01, -3.0956e-01,  2.2979e-01,  5.5089e-03,\n",
              "         5.5454e-02, -2.5353e-01,  2.0844e-01,  1.4615e-01, -8.9818e-01,\n",
              "         2.9840e-02, -1.3085e-01,  9.2355e-02, -6.0660e-02,  3.4357e-01,\n",
              "        -5.4231e-01, -2.4680e-01, -3.0912e-01, -7.4618e-02, -1.6127e-01,\n",
              "        -1.7434e-02,  2.3964e-01, -2.5673e-01,  2.0027e-01,  1.3080e-01,\n",
              "         3.9628e-01,  4.3423e+01,  4.8113e-01,  3.1464e-01,  2.4102e-01,\n",
              "        -3.0187e-01, -1.3487e-02,  2.8029e-01,  1.3945e-01,  7.4387e-02,\n",
              "        -2.5003e-02,  1.1552e-01,  4.9745e-02,  1.4779e-01,  1.9573e-01,\n",
              "        -2.5559e-01, -2.1666e-02, -9.3896e-02, -1.0179e-01,  2.6784e-01,\n",
              "         1.7711e+00, -2.6653e-01, -1.4751e+00,  1.0949e-02, -7.9970e-02,\n",
              "        -2.3868e-01,  3.9910e-01,  2.0981e-01,  2.6071e-02, -1.2216e+00,\n",
              "         1.9382e-01,  3.6934e-02, -2.9456e-01, -2.2089e+00,  7.1551e-03,\n",
              "        -2.5066e-01, -2.6354e-01,  2.2570e-03, -3.2736e-01, -5.6400e-03,\n",
              "         4.1008e-01,  1.4180e-01,  5.3036e-01, -2.8078e-01,  1.0647e-01,\n",
              "        -7.4979e-02, -4.5719e-01,  7.8076e-02, -2.7078e-01,  3.5793e-02,\n",
              "         3.4682e-01,  8.3511e-01, -1.1245e+00,  3.3802e-01,  4.0612e-01,\n",
              "         2.0776e-01, -2.0022e-01,  5.2016e-01,  3.1845e-01, -8.5777e-02,\n",
              "        -3.0611e-01, -4.3115e-02,  5.4865e-01, -1.4343e-01,  4.4030e-01,\n",
              "        -1.2998e-01,  3.7468e-01,  1.7877e+00, -4.1782e-03,  4.6931e-01,\n",
              "         1.2885e-01,  4.3175e-01, -1.1049e+00,  4.3050e-01,  7.7263e-02,\n",
              "         8.7419e-01, -1.9671e-01,  6.8391e-02, -5.3857e-01, -1.3653e-01,\n",
              "        -2.9985e-02, -7.6207e-01,  3.0448e-01,  2.5627e-01, -1.9773e-01,\n",
              "        -8.9974e-02, -7.0466e-02,  5.8439e-01,  1.8993e-01, -4.1159e-02,\n",
              "        -3.2892e-01, -8.5867e-02, -5.6504e-01,  2.8044e-02, -2.3884e-01,\n",
              "         2.4016e-01, -3.9225e-01, -9.1489e-02, -1.9649e-01,  1.6811e-01,\n",
              "         6.2288e-01,  4.2151e-01, -7.3879e-02,  5.9496e-01,  1.3718e-02,\n",
              "         5.6113e-02,  1.8801e-01,  1.5274e+00,  3.8171e-01,  3.8111e-01,\n",
              "        -4.4361e-01, -1.2108e-01,  1.6964e-01,  3.4707e-01,  2.7042e-01,\n",
              "        -5.6555e-02,  2.6873e-01, -1.6655e-01,  1.7594e-01, -1.2550e-01,\n",
              "         9.9895e-02, -2.8988e-01,  5.2366e-01, -1.1326e-01, -2.1197e-01,\n",
              "        -6.1891e-02, -3.7241e-02, -2.7901e-01,  2.2522e-01, -8.4838e-02,\n",
              "        -1.4144e-01, -5.7335e-01, -1.8175e-01, -7.9302e-02,  1.4216e-01,\n",
              "        -2.1745e-01, -1.6127e-01, -1.0493e-01,  1.3508e-01, -2.0451e-01,\n",
              "        -3.8392e-02,  8.5899e-01, -1.4506e-01,  9.9866e-02,  4.3528e-01,\n",
              "        -5.5613e-02, -1.6902e-01,  2.5610e-01,  5.0734e-01, -1.8813e-01,\n",
              "        -8.7317e-02, -1.9374e-01, -2.5759e-01,  1.2356e-01,  1.2774e-01,\n",
              "         2.9116e-01,  1.3988e-01,  1.1657e-01,  1.9936e-01,  2.0779e-01,\n",
              "         2.6541e-01,  1.8418e-01, -5.2073e-01,  1.5780e-01,  4.4471e-01,\n",
              "         2.0376e-01,  5.5737e-01, -4.7210e-01, -5.4227e-01, -1.4838e-02,\n",
              "        -3.8334e-01,  1.4802e-01,  3.9402e-01,  4.1888e-01, -1.0515e-01,\n",
              "        -3.8080e-01,  8.1238e-01,  1.3211e-01,  1.9349e-01, -1.3534e-01,\n",
              "         5.0110e-01, -6.2595e-01, -2.8336e-01,  4.5808e-01, -1.7150e-02,\n",
              "         3.2596e-01, -2.7761e-01,  1.1916e-01, -3.3103e-01,  3.3527e-01,\n",
              "        -2.0938e-01,  6.5957e-02, -6.6235e-02,  5.4269e-02,  3.6323e-01,\n",
              "         3.0364e-01,  8.1322e-04,  4.4825e-01,  4.6327e-01,  2.4951e-01,\n",
              "        -5.0931e-01, -2.2088e-02, -6.4170e-02, -5.8091e-02, -6.4806e-01,\n",
              "        -7.8466e-01,  9.9796e-01,  2.5087e-02,  8.1682e-01,  5.1437e-02,\n",
              "        -8.5416e-02,  2.9080e-01,  3.2997e-01, -9.4246e-01, -5.7689e-01,\n",
              "         1.7650e-02, -1.0007e+00, -1.6501e-01, -1.9612e-01, -8.3518e-01,\n",
              "         4.4781e-01, -6.4779e-01, -3.6772e-02,  1.5968e-01,  3.4024e-01,\n",
              "        -1.9140e-01, -3.5241e-01, -6.2227e-02, -4.0565e-01,  2.3334e-01,\n",
              "        -6.9351e-02, -1.1079e+00,  7.9941e-02, -5.4623e-01,  5.2646e-01,\n",
              "        -6.0922e-01, -2.8287e-01,  5.3532e-01,  9.9161e-02, -1.4721e-01,\n",
              "        -1.4984e-01,  4.3326e-01, -3.1583e-01,  3.7769e-02,  1.9755e-01,\n",
              "        -3.2546e-01, -3.9275e-01, -5.1548e-01, -6.0158e-01, -2.4158e-01,\n",
              "        -1.0268e-01,  5.1768e-01, -2.1659e-01, -2.3795e-01,  2.8264e-01,\n",
              "        -2.2480e-02, -6.2814e-02,  2.7548e-01,  5.7041e-01, -8.2795e-02,\n",
              "         2.0190e-01,  4.2241e-01,  4.5832e-01,  3.7458e-01,  2.7224e-02,\n",
              "         1.0273e-01, -2.4574e-01,  1.9459e-02,  1.7376e-01,  2.1177e-01,\n",
              "         2.9089e-01, -3.2361e-01, -8.7155e-01, -8.1727e-01, -2.2595e-01,\n",
              "        -1.5919e-01, -1.8486e+00,  1.4217e-01, -2.4316e-01, -3.9733e+01,\n",
              "        -3.3875e-02, -4.2609e-01, -1.0102e-01, -3.8508e-02,  8.3958e-03,\n",
              "         9.3187e-01,  4.3346e-01, -4.6901e-02, -8.8170e-02,  4.4106e-01,\n",
              "        -4.4550e-01, -8.3303e-02, -1.0945e-01,  2.3873e-01, -1.8404e-01,\n",
              "         2.7001e-01, -4.4740e-02,  1.4942e-01,  3.3571e-01, -8.2368e-02,\n",
              "         7.0499e-01, -1.3266e-01, -6.1205e-03,  3.2603e-01,  7.4457e-01,\n",
              "         1.0506e-01,  3.0725e-01, -1.8661e-02,  7.4175e-03,  2.3417e-01,\n",
              "        -1.6425e-01,  2.4640e-01, -7.6070e-01,  1.5220e-01, -3.9995e-01,\n",
              "        -6.5086e-02, -8.5077e-01, -5.9918e-02,  3.9805e-01, -4.6257e-01,\n",
              "        -2.1314e-01, -8.6388e-02,  4.2431e-01,  2.3285e-01, -1.1122e-01,\n",
              "         6.6909e-01,  4.2888e-01,  4.3814e-01, -3.0590e-01,  6.5319e-03,\n",
              "        -4.0512e+00, -2.2864e-01, -1.5329e-01, -7.0163e-02, -6.5102e-01,\n",
              "        -3.3149e-01,  1.0149e-02,  3.7760e-01, -1.2680e+00, -6.7015e+00,\n",
              "         5.8853e-01,  3.5298e-01,  1.2666e+00,  2.1484e-01, -2.8996e-01,\n",
              "        -5.1504e-01,  1.1483e-01,  1.8209e-01,  5.3985e-02, -5.3255e-01,\n",
              "        -1.2495e-01,  2.1748e-01,  2.8536e-02, -3.4333e-01, -7.4229e-02,\n",
              "         1.4124e-02, -8.0007e-02,  2.5308e-01,  3.2468e-01,  8.2063e-01,\n",
              "        -2.3661e-01, -3.3326e-01,  1.8229e-01,  3.9135e-01,  2.5672e-01,\n",
              "        -4.5317e-02,  7.1603e-02,  2.2767e-01, -2.5330e-01, -9.2885e-02,\n",
              "         2.2934e-01, -1.4528e-01,  7.4291e-02, -4.5279e-01, -1.3904e-01,\n",
              "         1.1109e-01,  9.2450e-01,  6.9771e-02,  1.6401e-01, -1.7846e-01,\n",
              "        -4.0269e-01,  2.1928e-01,  1.4851e-01,  5.3269e-01, -2.1228e-01,\n",
              "         4.8368e-01,  8.9580e-01,  4.4304e-02, -9.3443e-02,  1.0661e-01,\n",
              "         1.4624e-02,  4.6002e-02, -5.5534e-02, -5.9450e-02, -2.0735e-02,\n",
              "         6.1891e+01, -1.2929e-01, -8.4206e-02,  1.8810e-01,  8.0698e-02,\n",
              "        -2.5768e-01,  3.9511e-01, -3.7482e-02, -2.0110e-01, -1.4055e+00,\n",
              "        -1.8407e-01,  1.6577e-01, -2.1615e+00, -9.1551e-02, -5.7747e-01,\n",
              "        -9.1881e-02,  2.4259e-01,  1.1452e+00, -9.8346e-02,  1.6368e-01,\n",
              "        -4.2654e-01,  2.1941e-01, -2.5970e-01,  8.8018e-04,  6.4530e-01,\n",
              "        -1.0447e-01, -3.7549e-01, -2.7390e-01, -2.2325e-01,  5.2277e-01,\n",
              "         2.4086e-01,  1.3030e-01,  1.9635e-01, -3.2297e-02,  1.3457e-01,\n",
              "         4.3396e-03,  2.9348e-02, -1.5668e-01,  3.8572e-01,  7.6934e-02,\n",
              "         3.5876e-01, -3.6700e-02, -5.5346e-01, -2.3342e-01,  3.2548e-01,\n",
              "        -3.6608e-01, -1.3286e-01, -1.8421e-01, -1.1743e-02,  5.4335e-01,\n",
              "        -9.7005e-01,  1.2681e+00, -1.1562e-01,  3.8459e-01,  1.5326e-01,\n",
              "         1.1008e-01, -1.7178e-01,  2.2373e-01,  2.7706e-01,  1.3972e-01,\n",
              "        -7.0902e-01,  5.5913e-02, -3.2665e-01, -5.1771e-02, -2.5193e-01,\n",
              "        -3.3361e-01,  1.3107e+02, -4.8011e-01,  2.9903e-01,  2.8699e-01,\n",
              "         5.0848e-01,  7.2538e-01,  2.0652e-01, -1.2800e+00, -2.1838e-01,\n",
              "        -6.8012e-02, -1.5471e-01, -1.9402e-02, -1.0479e-01, -2.8403e-01,\n",
              "        -4.6069e-02,  1.9624e-01, -3.8573e-01,  1.3455e-02, -3.3982e-01,\n",
              "         1.4043e-01, -1.6861e-01,  8.9708e-02,  1.3046e-01,  7.5583e-01,\n",
              "        -6.6544e-01,  6.2852e-02,  9.2476e-02,  2.7295e-02, -4.0037e-01,\n",
              "         5.5250e-01, -1.0662e+00, -4.3584e-01, -7.9490e-01,  5.6435e-02,\n",
              "         1.9684e-01, -3.9843e-02,  3.7055e-01,  1.5148e-01,  3.1419e-02,\n",
              "        -4.3312e-01,  2.1507e-01, -3.5916e-01, -1.7144e-01, -8.0836e-02,\n",
              "        -1.6479e-01, -2.9997e-01,  1.1744e-01,  1.0221e+00,  1.0158e-01,\n",
              "         2.3709e-01,  1.5370e-01, -1.2469e-01, -2.2985e-01,  1.7206e-01,\n",
              "         3.5580e-01,  4.9004e-01,  1.0533e-01, -2.3169e-01, -7.7240e-01,\n",
              "        -1.8433e-01,  3.1842e-01,  2.6216e-01,  4.4974e-01,  4.0827e-01,\n",
              "        -1.7115e-01,  3.5322e-01,  3.6622e-01,  8.9229e-02, -1.9204e-01,\n",
              "         4.8628e-01,  9.4394e-01,  1.3700e-01, -6.1942e-01, -8.1569e-03,\n",
              "        -3.3520e-02, -1.9386e-01, -3.6297e-01, -5.7471e-02, -2.7998e-01,\n",
              "        -1.5538e-01,  1.0804e-01, -5.1795e-01, -2.1323e-01,  2.7887e-01,\n",
              "         4.6474e-01,  1.3208e-01,  1.1694e-01,  1.5405e-01, -1.8876e-01,\n",
              "        -3.1861e-03, -1.8951e-02,  1.2305e-01,  1.6918e-01,  3.9494e-01,\n",
              "         4.1475e-02, -3.8912e-01,  3.3723e-01, -6.4900e-01, -2.1980e-01,\n",
              "        -2.4366e-02,  3.6005e-02,  1.3408e-01,  2.6340e-01,  3.0524e-01,\n",
              "        -7.6330e-02,  1.3968e-01,  3.1146e-02,  2.5024e-01, -5.5285e-01,\n",
              "        -3.1323e-01, -2.0790e-01, -2.1114e-01,  7.8622e-01, -2.1421e-01,\n",
              "         6.7268e-01, -9.1042e-02,  1.0012e-02,  7.4242e-02, -2.6049e-02,\n",
              "        -7.8637e-02, -1.7765e-01, -4.3596e-01,  3.2074e-01, -1.4781e-01,\n",
              "         3.4315e-01, -3.4287e-01, -1.8681e-01, -2.2167e-02, -1.4182e-01,\n",
              "        -1.5919e-01, -2.6066e-01, -7.9084e-01, -3.1431e-01, -3.0166e-01,\n",
              "         2.5081e-01,  4.8799e-02,  1.8980e-01, -1.8462e-01,  1.4272e-01,\n",
              "        -9.0119e-01,  1.1501e-01,  1.5452e-01, -2.2727e-01,  2.6977e-01,\n",
              "         1.0157e-01, -5.1031e-02, -1.0610e-03, -7.1136e-01,  1.1599e+00,\n",
              "        -3.0061e-01,  8.1565e-02, -7.9380e-02,  3.5183e-01, -1.3869e+00,\n",
              "        -4.8868e-01,  2.0256e-01, -2.8992e-01, -3.9734e-01,  2.8575e-01,\n",
              "        -6.4859e-01, -1.6872e-01,  1.8550e-01, -9.9826e-02, -1.7397e-01,\n",
              "        -1.0381e-01,  4.1207e-01, -4.4387e-02,  4.3371e-01, -6.4253e-02,\n",
              "         1.6223e-01, -2.6610e-01,  7.3789e-01,  7.4624e-01,  3.9113e-02,\n",
              "         8.0806e-01,  8.5913e-02, -3.1981e-02,  3.6494e-01,  5.1694e-02,\n",
              "         4.2559e-01,  2.5517e-01,  2.0320e-01, -1.2981e-01,  7.6183e-01,\n",
              "        -9.1333e-02, -1.2176e-01, -8.0138e-02, -3.0081e-01,  2.9962e-01,\n",
              "        -2.2879e-01, -1.3271e-01,  3.6477e-01, -3.0768e-01,  4.7671e-02,\n",
              "         2.5229e-01,  4.5917e-01,  4.4706e-01, -1.5187e-01, -8.1807e-01,\n",
              "        -5.4548e-02,  3.8272e-01, -2.6300e-01,  2.5355e-01,  8.4642e-02,\n",
              "         3.4863e-01,  1.4225e-01,  1.2311e-01,  2.0157e+00, -2.4134e-01,\n",
              "        -2.2545e-02,  2.1938e-01,  6.6858e-01,  7.5179e-02, -5.4835e-01,\n",
              "        -3.2150e-01, -9.8686e-02, -6.8782e-01,  2.2383e-01, -5.0094e-01,\n",
              "        -1.0461e-01, -4.7434e-02,  3.0390e-01,  5.7964e-01,  1.0356e-01,\n",
              "         6.0466e-01, -3.5283e+00,  4.3522e-01,  5.8457e-02,  3.3001e-01,\n",
              "        -3.8346e-01, -3.9975e-01,  4.1221e-01, -5.5482e-01, -1.6018e-01,\n",
              "         1.1550e-01, -6.4989e-01, -3.1189e-01, -3.5338e-01,  5.8281e-01,\n",
              "         1.3317e-01,  4.6959e-01, -2.9894e-01,  2.0266e-01,  9.2028e-01,\n",
              "         2.5128e-01,  2.7739e-01, -4.4069e-01,  3.8245e-02,  1.4705e-01,\n",
              "        -4.0878e-01,  2.2535e-01, -7.1651e-02,  2.6046e-02, -5.2165e-01,\n",
              "        -5.8991e-01, -7.3937e-02,  7.9274e-02,  2.8065e-01, -1.3358e-01,\n",
              "        -8.1528e-03, -9.2679e-01, -2.8931e-01, -1.4399e-01,  1.6242e-01,\n",
              "        -2.8404e-01,  3.1153e-01, -2.1246e-01, -1.3611e-02,  3.7275e-02,\n",
              "         3.9948e-01, -4.6360e-02,  1.4255e-01], device='cuda:0',\n",
              "       grad_fn=<SelectBackward0>)"
            ]
          },
          "execution_count": 61,
          "metadata": {},
          "output_type": "execute_result"
        }
      ],
      "source": [
        "output.hidden_states[-1].squeeze(0)[-1]"
      ]
    },
    {
      "cell_type": "markdown",
      "metadata": {
        "id": "mn9twcqpY6cb"
      },
      "source": [
        "## 5.11 Computing the Similarity Between Embeddings"
      ]
    },
    {
      "cell_type": "code",
      "execution_count": 62,
      "metadata": {
        "id": "laSLi8AavUD2"
      },
      "outputs": [],
      "source": [
        "def get_embedding(doc):\n",
        "  tokens = tokenizer(doc, return_tensors='pt').to(device)\n",
        "  output = model(**tokens, output_hidden_states=True)\n",
        "  return output.hidden_states[-1].squeeze(0)[-1].cpu().detach().numpy()"
      ]
    },
    {
      "cell_type": "code",
      "execution_count": 63,
      "metadata": {
        "id": "_esYcmkKvgpz"
      },
      "outputs": [],
      "source": [
        "jonathan_embed = get_embedding(\"Jonathan Dinu is a programmer who works with generative AI\")"
      ]
    },
    {
      "cell_type": "code",
      "execution_count": 64,
      "metadata": {
        "id": "kOQDusCXvz82"
      },
      "outputs": [],
      "source": [
        "bread_embed = get_embedding(\"Food can be both nutritious and tasty\")"
      ]
    },
    {
      "cell_type": "code",
      "execution_count": 65,
      "metadata": {
        "id": "VGk6j2DPwsLR"
      },
      "outputs": [],
      "source": [
        "jonathan_embed2 = get_embedding(\"Coding machine learning models can be difficult for Jonathan.\")"
      ]
    },
    {
      "cell_type": "code",
      "execution_count": 66,
      "metadata": {
        "id": "wJbRiN4svnCH"
      },
      "outputs": [],
      "source": [
        "from scipy.spatial import distance\n",
        "import matplotlib.pyplot as plt"
      ]
    },
    {
      "cell_type": "code",
      "execution_count": 67,
      "metadata": {
        "id": "EEAD3-WcwDKt"
      },
      "outputs": [],
      "source": [
        "cdist = distance.cosine(jonathan_embed, bread_embed)"
      ]
    },
    {
      "cell_type": "code",
      "execution_count": 68,
      "metadata": {
        "id": "i35lLWsTwKd0"
      },
      "outputs": [],
      "source": [
        "csim = 1 - cdist"
      ]
    },
    {
      "cell_type": "code",
      "execution_count": 69,
      "metadata": {
        "colab": {
          "base_uri": "https://localhost:8080/"
        },
        "id": "rpz2vY3mwe_U",
        "outputId": "d9ec121f-2441-40da-dc37-3dc43817c4dc"
      },
      "outputs": [
        {
          "data": {
            "text/plain": [
              "0.9731456704142086"
            ]
          },
          "execution_count": 69,
          "metadata": {},
          "output_type": "execute_result"
        }
      ],
      "source": [
        "csim"
      ]
    },
    {
      "cell_type": "code",
      "execution_count": 70,
      "metadata": {
        "colab": {
          "base_uri": "https://localhost:8080/"
        },
        "id": "5Gb2eHdSwi_h",
        "outputId": "6fae0b0a-124b-4fc6-c329-d8a8e1d0e2c2"
      },
      "outputs": [
        {
          "data": {
            "text/plain": [
              "0.02685432958579137"
            ]
          },
          "execution_count": 70,
          "metadata": {},
          "output_type": "execute_result"
        }
      ],
      "source": [
        "cdist"
      ]
    },
    {
      "cell_type": "code",
      "execution_count": 71,
      "metadata": {
        "colab": {
          "base_uri": "https://localhost:8080/"
        },
        "id": "kt-IcZntwjq0",
        "outputId": "77cf0ead-461b-4a1d-97ae-49cf5af59978"
      },
      "outputs": [
        {
          "data": {
            "text/plain": [
              "0.980396711000267"
            ]
          },
          "execution_count": 71,
          "metadata": {},
          "output_type": "execute_result"
        }
      ],
      "source": [
        "1 - distance.cosine(jonathan_embed, jonathan_embed2)"
      ]
    },
    {
      "cell_type": "code",
      "execution_count": 72,
      "metadata": {
        "colab": {
          "base_uri": "https://localhost:8080/"
        },
        "id": "L5Ml760GxMDr",
        "outputId": "b85f96fe-c823-44bd-b03d-98d5faee7688"
      },
      "outputs": [
        {
          "data": {
            "text/plain": [
              "0.9725874251840851"
            ]
          },
          "execution_count": 72,
          "metadata": {},
          "output_type": "execute_result"
        }
      ],
      "source": [
        "1 - distance.cosine(bread_embed, jonathan_embed2)"
      ]
    },
    {
      "cell_type": "markdown",
      "metadata": {
        "id": "49IWAnsqZMzf"
      },
      "source": [
        "## 5.12 Semantic Search with Embeddings"
      ]
    },
    {
      "cell_type": "code",
      "execution_count": 73,
      "metadata": {
        "id": "uTkaHvovxTNo"
      },
      "outputs": [],
      "source": [
        "documents = [\n",
        "    # query\n",
        "    \"Thermodynamics is a branch of physics that deals with heat, work, and temperature, and their relation to energy, entropy, and the physical properties of matter and radiation.\",\n",
        "    # \"corpus\"\n",
        "    \"The cryptic forest falcon is a rarely spotted bird of prey often confused for its congeners, the barred forest falcon, the lined forest falcon, and the plumbeous forest falcon.\",\n",
        "    \"Jonathan went to the store yesterday to get some milk.\",\n",
        "    \"Bonnaya antipoda is a herbaceous perennial plant belonging to Linderniaceae family. It is native to tropical and sub-tropical Asia and Australia.\",\n",
        "    \"The softmax function converts a vector of K real numbers into a probability distribution of K possible outcomes.\",\n",
        "    \"The rabbit-hole went straight on like a tunnel for some way, and then dipped suddenly down, so suddenly that Alice had not a moment to think about stopping herself before she found herself falling down a very deep well.\",\n",
        "    \"The brown fox jumped over the red fence.\",\n",
        "    \"HOME is the twelfth studio album by Mr. Children. Its first press limited edition includes a documentary DVD on the making of the album and live performances by members of the group between recording sessions.\",\n",
        "    \"Tell me, O Muse, of that ingenious hero who travelled far and wide after he had sacked the famous town of Troy.\",\n",
        "    \"When the sun shines brightly, Lisa goes to the beach to swim in the ocean.\",\n",
        "    \"Ants are eusocial insects of the family Formicidae and, along with the related wasps and bees, belong to the order Hymenoptera.\",\n",
        "    \"Statistical mechanics is a mathematical framework that applies statistical methods and probability theory to large assemblies of microscopic entities.\",\n",
        "    \"A self-addressed stamped envelope is an envelope with the sender's name and address on it, plus affixed paid postage, that is mailed to a company or private individual.\",\n",
        "    \"Alan Wooler was an English footballer who played as a defender in England for Weymouth, Reading, West Ham United, Aldershot, Leatherhead and Farnborough Town.\",\n",
        "    \"A database abstraction layer is an application programming interface which unifies the communication between a computer application and databases such as SQL Server, IBM Db2, MySQL, PostgreSQL, Oracle or SQLite.\",\n",
        "]"
      ]
    },
    {
      "cell_type": "code",
      "execution_count": 74,
      "metadata": {
        "id": "EDxOplnGzCeX"
      },
      "outputs": [],
      "source": [
        "import numpy as np"
      ]
    },
    {
      "cell_type": "code",
      "execution_count": 75,
      "metadata": {
        "id": "2g78nW6Hy-4D"
      },
      "outputs": [],
      "source": [
        "embeddings = np.array([ get_embedding(doc) for doc in documents])"
      ]
    },
    {
      "cell_type": "code",
      "execution_count": 76,
      "metadata": {
        "colab": {
          "base_uri": "https://localhost:8080/"
        },
        "id": "-UCTqq8qzBvT",
        "outputId": "9f2d25cd-8395-4ee7-ce3e-22953b03ae07"
      },
      "outputs": [
        {
          "data": {
            "text/plain": [
              "(15, 768)"
            ]
          },
          "execution_count": 76,
          "metadata": {},
          "output_type": "execute_result"
        }
      ],
      "source": [
        "embeddings.shape"
      ]
    },
    {
      "cell_type": "code",
      "execution_count": 77,
      "metadata": {
        "id": "R_q3NL_TzFdH"
      },
      "outputs": [],
      "source": [
        "dist = distance.squareform(distance.pdist(embeddings, 'cosine'))"
      ]
    },
    {
      "cell_type": "code",
      "execution_count": 78,
      "metadata": {
        "colab": {
          "base_uri": "https://localhost:8080/",
          "height": 447
        },
        "id": "cFk-eXsmzI69",
        "outputId": "833ae1f0-8a25-45ec-b138-5a67865a3e68"
      },
      "outputs": [
        {
          "data": {
            "text/plain": [
              "<matplotlib.image.AxesImage at 0x7b45d4c448b0>"
            ]
          },
          "execution_count": 78,
          "metadata": {},
          "output_type": "execute_result"
        },
        {
          "data": {
            "image/png": "[encoded data removed]",
            "text/plain": [
              "<Figure size 640x480 with 1 Axes>"
            ]
          },
          "metadata": {},
          "output_type": "display_data"
        }
      ],
      "source": [
        "plt.imshow(1 - dist)"
      ]
    },
    {
      "cell_type": "code",
      "execution_count": 79,
      "metadata": {
        "colab": {
          "base_uri": "https://localhost:8080/"
        },
        "id": "BeTnUdHZzOUG",
        "outputId": "f5f7e464-afe1-4f8b-bed5-77ca60459956"
      },
      "outputs": [
        {
          "name": "stdout",
          "output_type": "stream",
          "text": [
            "The softmax function converts a vector of K real numbers into a probability distribution of K possible outcomes.\n",
            "Alan Wooler was an English footballer who played as a defender in England for Weymouth, Reading, West Ham United, Aldershot, Leatherhead and Farnborough Town.\n"
          ]
        }
      ],
      "source": [
        "print(documents[4])\n",
        "print(documents[13])"
      ]
    },
    {
      "cell_type": "code",
      "execution_count": 80,
      "metadata": {
        "colab": {
          "base_uri": "https://localhost:8080/"
        },
        "id": "3A1Hy_G2zuCf",
        "outputId": "bdc1c576-6bd5-47d2-ece2-53aa4834d304"
      },
      "outputs": [
        {
          "name": "stdout",
          "output_type": "stream",
          "text": [
            "Thermodynamics is a branch of physics that deals with heat, work, and temperature, and their relation to energy, entropy, and the physical properties of matter and radiation.\n",
            "Statistical mechanics is a mathematical framework that applies statistical methods and probability theory to large assemblies of microscopic entities.\n"
          ]
        }
      ],
      "source": [
        "print(documents[0])\n",
        "print(documents[11])"
      ]
    },
    {
      "cell_type": "markdown",
      "metadata": {
        "id": "utKCqfEXZqXC"
      },
      "source": [
        "## 5.13 Contrastive Embeddings with Sentence Transformers"
      ]
    },
    {
      "cell_type": "code",
      "execution_count": 81,
      "metadata": {
        "id": "EMC2DLwbz3qL"
      },
      "outputs": [],
      "source": [
        "from sentence_transformers import SentenceTransformer\n",
        "\n",
        "embed_model = SentenceTransformer(\"all-MiniLM-L6-v2\")"
      ]
    },
    {
      "cell_type": "code",
      "execution_count": 82,
      "metadata": {
        "colab": {
          "base_uri": "https://localhost:8080/"
        },
        "id": "tvfBWvzM0Yj0",
        "outputId": "6674de6f-22a5-441e-8c92-1215d2592c00"
      },
      "outputs": [
        {
          "data": {
            "text/plain": [
              "(15, 384)"
            ]
          },
          "execution_count": 82,
          "metadata": {},
          "output_type": "execute_result"
        }
      ],
      "source": [
        "embeddings = embed_model.encode(documents)\n",
        "embeddings.shape"
      ]
    },
    {
      "cell_type": "code",
      "execution_count": 83,
      "metadata": {
        "id": "sYLloxe4056-"
      },
      "outputs": [],
      "source": [
        "similarities = embed_model.similarity(embeddings, embeddings)"
      ]
    },
    {
      "cell_type": "code",
      "execution_count": 84,
      "metadata": {
        "colab": {
          "base_uri": "https://localhost:8080/"
        },
        "id": "XkxBQ90C1IEj",
        "outputId": "4cd69460-26c9-4f12-924c-4351eee47cac"
      },
      "outputs": [
        {
          "data": {
            "text/plain": [
              "torch.Size([15, 15])"
            ]
          },
          "execution_count": 84,
          "metadata": {},
          "output_type": "execute_result"
        }
      ],
      "source": [
        "similarities.shape"
      ]
    },
    {
      "cell_type": "code",
      "execution_count": 85,
      "metadata": {
        "colab": {
          "base_uri": "https://localhost:8080/",
          "height": 447
        },
        "id": "VfYL8Vsu1Pho",
        "outputId": "c80cf80f-4372-4665-d429-0a04eefb487d"
      },
      "outputs": [
        {
          "data": {
            "text/plain": [
              "<matplotlib.image.AxesImage at 0x7b45c4514f10>"
            ]
          },
          "execution_count": 85,
          "metadata": {},
          "output_type": "execute_result"
        },
        {
          "data": {
            "image/png": "[encoded data removed]",
            "text/plain": [
              "<Figure size 640x480 with 1 Axes>"
            ]
          },
          "metadata": {},
          "output_type": "display_data"
        }
      ],
      "source": [
        "plt.imshow(similarities)"
      ]
    },
    {
      "cell_type": "code",
      "execution_count": 86,
      "metadata": {
        "colab": {
          "base_uri": "https://localhost:8080/"
        },
        "id": "H-sEhqh-1S3B",
        "outputId": "f966cbdb-b688-40e0-c313-3df9bda442f6"
      },
      "outputs": [
        {
          "name": "stdout",
          "output_type": "stream",
          "text": [
            "Thermodynamics is a branch of physics that deals with heat, work, and temperature, and their relation to energy, entropy, and the physical properties of matter and radiation.\n",
            "The softmax function converts a vector of K real numbers into a probability distribution of K possible outcomes.\n",
            "Statistical mechanics is a mathematical framework that applies statistical methods and probability theory to large assemblies of microscopic entities.\n",
            "A database abstraction layer is an application programming interface which unifies the communication between a computer application and databases such as SQL Server, IBM Db2, MySQL, PostgreSQL, Oracle or SQLite.\n"
          ]
        }
      ],
      "source": [
        "print(documents[0])\n",
        "print(documents[4])\n",
        "print(documents[11])\n",
        "print(documents[14])"
      ]
    },
    {
      "cell_type": "code",
      "execution_count": 87,
      "metadata": {
        "colab": {
          "base_uri": "https://localhost:8080/"
        },
        "id": "LNQJcuUk1vmG",
        "outputId": "a14e5245-4f6a-42a7-cb83-8f3475856477"
      },
      "outputs": [
        {
          "name": "stdout",
          "output_type": "stream",
          "text": [
            "Jonathan went to the store yesterday to get some milk.\n"
          ]
        }
      ],
      "source": [
        "print(documents[2])"
      ]
    },
    {
      "cell_type": "markdown",
      "metadata": {
        "id": "YbSSiRkZ1Hle"
      },
      "source": [
        "## Appendix"
      ]
    },
    {
      "cell_type": "code",
      "execution_count": 88,
      "metadata": {
        "colab": {
          "base_uri": "https://localhost:8080/"
        },
        "id": "hqA6aXrkClMo",
        "outputId": "f8b09d3c-6528-4bf4-b4eb-4f356eb59ab2"
      },
      "outputs": [
        {
          "name": "stdout",
          "output_type": "stream",
          "text": [
            "Current notebook Python version: 3.10.12 (main, Nov  6 2024, 20:22:13) [GCC 11.4.0]\n",
            "Notebook last executed: 2024-12-15 20:43:52.220895\n"
          ]
        }
      ],
      "source": [
        "# version of Python of the current Jupyter kernel\n",
        "import sys, datetime\n",
        "\n",
        "print(f\"Current notebook Python version: {sys.version}\")\n",
        "print(f\"Notebook last executed: {datetime.datetime.now()}\")"
      ]
    },
    {
      "cell_type": "code",
      "execution_count": 89,
      "metadata": {
        "colab": {
          "base_uri": "https://localhost:8080/"
        },
        "id": "N4wJrOVA08Xk",
        "outputId": "e7ac8615-f5ef-48d6-8032-f9320201cfdd"
      },
      "outputs": [
        {
          "name": "stdout",
          "output_type": "stream",
          "text": [
            "absl-py==1.4.0\n",
            "accelerate==1.1.1\n",
            "aiohappyeyeballs==2.4.4\n",
            "aiohttp==3.11.10\n",
            "aiosignal==1.3.1\n",
            "alabaster==1.0.0\n",
            "albucore==0.0.19\n",
            "albumentations==1.4.20\n",
            "altair==5.5.0\n",
            "annotated-types==0.7.0\n",
            "anyio==3.7.1\n",
            "argon2-cffi==23.1.0\n",
            "argon2-cffi-bindings==21.2.0\n",
            "array_record==0.5.1\n",
            "arviz==0.20.0\n",
            "astropy==6.1.7\n",
            "astropy-iers-data==0.2024.12.9.0.36.21\n",
            "astunparse==1.6.3\n",
            "async-timeout==4.0.3\n",
            "atpublic==4.1.0\n",
            "attrs==24.2.0\n",
            "audioread==3.0.1\n",
            "autograd==1.7.0\n",
            "babel==2.16.0\n",
            "backcall==0.2.0\n",
            "beautifulsoup4==4.12.3\n",
            "bigframes==1.27.0\n",
            "bigquery-magics==0.4.0\n",
            "bleach==6.2.0\n",
            "blinker==1.9.0\n",
            "blis==0.7.11\n",
            "blosc2==2.7.1\n",
            "bokeh==3.6.2\n",
            "Bottleneck==1.4.2\n",
            "bqplot==0.12.43\n",
            "branca==0.8.0\n",
            "CacheControl==0.14.1\n",
            "cachetools==5.5.0\n",
            "catalogue==2.0.10\n",
            "certifi==2024.8.30\n",
            "cffi==1.17.1\n",
            "chardet==5.2.0\n",
            "charset-normalizer==3.4.0\n",
            "chex==0.1.87\n",
            "clarabel==0.9.0\n",
            "click==8.1.7\n",
            "cloudpathlib==0.20.0\n",
            "cloudpickle==3.1.0\n",
            "cmake==3.30.5\n",
            "cmdstanpy==1.2.4\n",
            "colorcet==3.1.0\n",
            "colorlover==0.3.0\n",
            "colour==0.1.5\n",
            "community==1.0.0b1\n",
            "confection==0.1.5\n",
            "cons==0.4.6\n",
            "contourpy==1.3.1\n",
            "cryptography==43.0.3\n",
            "cuda-python==12.2.1\n",
            "cudf-cu12 @ https://pypi.nvidia.com/cudf-cu12/cudf_cu12-24.10.1-cp310-cp310-manylinux_2_24_x86_64.manylinux_2_28_x86_64.whl\n",
            "cufflinks==0.17.3\n",
            "cupy-cuda12x==12.2.0\n",
            "cvxopt==1.3.2\n",
            "cvxpy==1.5.4\n",
            "cycler==0.12.1\n",
            "cymem==2.0.10\n",
            "Cython==3.0.11\n",
            "dask==2024.10.0\n",
            "datascience==0.17.6\n",
            "datasets==3.2.0\n",
            "db-dtypes==1.3.1\n",
            "dbus-python==1.2.18\n",
            "debugpy==1.8.0\n",
            "decorator==4.4.2\n",
            "defusedxml==0.7.1\n",
            "Deprecated==1.2.15\n",
            "diffusers==0.31.0\n",
            "dill==0.3.8\n",
            "distro==1.9.0\n",
            "dlib==19.24.2\n",
            "dm-tree==0.1.8\n",
            "docker-pycreds==0.4.0\n",
            "docstring_parser==0.16\n",
            "docutils==0.21.2\n",
            "dopamine_rl==4.0.9\n",
            "duckdb==1.1.3\n",
            "earthengine-api==1.2.0\n",
            "easydict==1.13\n",
            "ecos==2.0.14\n",
            "editdistance==0.8.1\n",
            "eerepr==0.0.4\n",
            "einops==0.8.0\n",
            "en-core-web-sm @ https://github.com/explosion/spacy-models/releases/download/en_core_web_sm-3.7.1/en_core_web_sm-3.7.1-py3-none-any.whl#sha256=86cc141f63942d4b2c5fcee06630fd6f904788d2f0ab005cce45aadb8fb73889\n",
            "entrypoints==0.4\n",
            "et_xmlfile==2.0.0\n",
            "etils==1.11.0\n",
            "etuples==0.3.9\n",
            "eval_type_backport==0.2.0\n",
            "exceptiongroup==1.2.2\n",
            "fastai==2.7.18\n",
            "fastcore==1.7.26\n",
            "fastdownload==0.0.7\n",
            "fastjsonschema==2.21.1\n",
            "fastprogress==1.0.3\n",
            "fastrlock==0.8.2\n",
            "filelock==3.16.1\n",
            "firebase-admin==6.5.0\n",
            "Flask==3.0.3\n",
            "flatbuffers==24.3.25\n",
            "flax==0.8.5\n",
            "folium==0.18.0\n",
            "fonttools==4.55.3\n",
            "frozendict==2.4.6\n",
            "frozenlist==1.5.0\n",
            "fsspec==2024.9.0\n",
            "future==1.0.0\n",
            "gast==0.6.0\n",
            "gcsfs==2024.10.0\n",
            "GDAL==3.6.4\n",
            "gdown==5.2.0\n",
            "geemap==0.35.1\n",
            "gensim==4.3.3\n",
            "geocoder==1.38.1\n",
            "geographiclib==2.0\n",
            "geopandas==1.0.1\n",
            "geopy==2.4.1\n",
            "gin-config==0.5.0\n",
            "gitdb==4.0.11\n",
            "GitPython==3.1.43\n",
            "glob2==0.7\n",
            "google==2.0.3\n",
            "google-ai-generativelanguage==0.6.10\n",
            "google-api-core==2.19.2\n",
            "google-api-python-client==2.151.0\n",
            "google-auth==2.27.0\n",
            "google-auth-httplib2==0.2.0\n",
            "google-auth-oauthlib==1.2.1\n",
            "google-cloud-aiplatform==1.73.0\n",
            "google-cloud-bigquery==3.25.0\n",
            "google-cloud-bigquery-connection==1.16.1\n",
            "google-cloud-bigquery-storage==2.27.0\n",
            "google-cloud-bigtable==2.27.0\n",
            "google-cloud-core==2.4.1\n",
            "google-cloud-datastore==2.20.1\n",
            "google-cloud-firestore==2.19.0\n",
            "google-cloud-functions==1.18.1\n",
            "google-cloud-iam==2.16.1\n",
            "google-cloud-language==2.15.1\n",
            "google-cloud-pubsub==2.27.1\n",
            "google-cloud-resource-manager==1.13.1\n",
            "google-cloud-storage==2.8.0\n",
            "google-cloud-translate==3.17.0\n",
            "google-colab @ file:///colabtools/dist/google_colab-1.0.0.tar.gz\n",
            "google-crc32c==1.6.0\n",
            "google-genai==0.1.0\n",
            "google-generativeai==0.8.3\n",
            "google-pasta==0.2.0\n",
            "google-resumable-media==2.7.2\n",
            "googleapis-common-protos==1.66.0\n",
            "googledrivedownloader==0.4\n",
            "graphviz==0.20.3\n",
            "greenlet==3.1.1\n",
            "grpc-google-iam-v1==0.13.1\n",
            "grpcio==1.68.1\n",
            "grpcio-status==1.62.3\n",
            "gspread==6.0.2\n",
            "gspread-dataframe==3.3.1\n",
            "gym==0.25.2\n",
            "gym-notices==0.0.8\n",
            "h11==0.14.0\n",
            "h5netcdf==1.4.1\n",
            "h5py==3.12.1\n",
            "holidays==0.62\n",
            "holoviews==1.20.0\n",
            "html5lib==1.1\n",
            "httpcore==1.0.7\n",
            "httpimport==1.4.0\n",
            "httplib2==0.22.0\n",
            "httpx==0.28.1\n",
            "huggingface-hub==0.26.5\n",
            "humanize==4.11.0\n",
            "hyperopt==0.2.7\n",
            "ibis-framework==9.2.0\n",
            "idna==3.10\n",
            "imageio==2.36.1\n",
            "imageio-ffmpeg==0.5.1\n",
            "imagesize==1.4.1\n",
            "imbalanced-learn==0.12.4\n",
            "imgaug==0.4.0\n",
            "immutabledict==4.2.1\n",
            "importlib_metadata==8.5.0\n",
            "importlib_resources==6.4.5\n",
            "imutils==0.5.4\n",
            "inflect==7.4.0\n",
            "iniconfig==2.0.0\n",
            "intel-cmplr-lib-ur==2025.0.3\n",
            "intel-openmp==2025.0.3\n",
            "ipyevents==2.0.2\n",
            "ipyfilechooser==0.6.0\n",
            "ipykernel==5.5.6\n",
            "ipyleaflet==0.19.2\n",
            "ipyparallel==8.8.0\n",
            "ipython==7.34.0\n",
            "ipython-genutils==0.2.0\n",
            "ipython-sql==0.5.0\n",
            "ipytree==0.2.2\n",
            "ipywidgets==7.7.1\n",
            "itsdangerous==2.2.0\n",
            "jax==0.4.33\n",
            "jax-cuda12-pjrt==0.4.33\n",
            "jax-cuda12-plugin==0.4.33\n",
            "jaxlib==0.4.33\n",
            "jeepney==0.7.1\n",
            "jellyfish==1.1.2\n",
            "jieba==0.42.1\n",
            "Jinja2==3.1.4\n",
            "jiter==0.8.2\n",
            "joblib==1.4.2\n",
            "jsonpatch==1.33\n",
            "jsonpickle==4.0.0\n",
            "jsonpointer==3.0.0\n",
            "jsonschema==4.23.0\n",
            "jsonschema-specifications==2024.10.1\n",
            "jupyter-client==6.1.12\n",
            "jupyter-console==6.1.0\n",
            "jupyter-leaflet==0.19.2\n",
            "jupyter-server==1.24.0\n",
            "jupyter_core==5.7.2\n",
            "jupyterlab_pygments==0.3.0\n",
            "jupyterlab_widgets==3.0.13\n",
            "kaggle==1.6.17\n",
            "kagglehub==0.3.4\n",
            "keras==3.5.0\n",
            "keyring==23.5.0\n",
            "kiwisolver==1.4.7\n",
            "langchain==0.3.11\n",
            "langchain-core==0.3.24\n",
            "langchain-text-splitters==0.3.2\n",
            "langcodes==3.5.0\n",
            "langsmith==0.2.2\n",
            "language_data==1.3.0\n",
            "launchpadlib==1.10.16\n",
            "lazr.restfulclient==0.14.4\n",
            "lazr.uri==1.0.6\n",
            "lazy_loader==0.4\n",
            "libclang==18.1.1\n",
            "libcudf-cu12 @ https://pypi.nvidia.com/libcudf-cu12/libcudf_cu12-24.10.1-py3-none-manylinux_2_28_x86_64.whl\n",
            "librosa==0.10.2.post1\n",
            "lightgbm==4.5.0\n",
            "linkify-it-py==2.0.3\n",
            "llvmlite==0.43.0\n",
            "locket==1.0.0\n",
            "logical-unification==0.4.6\n",
            "lxml==5.3.0\n",
            "marisa-trie==1.2.1\n",
            "Markdown==3.7\n",
            "markdown-it-py==3.0.0\n",
            "MarkupSafe==3.0.2\n",
            "matplotlib==3.8.0\n",
            "matplotlib-inline==0.1.7\n",
            "matplotlib-venn==1.1.1\n",
            "mdit-py-plugins==0.4.2\n",
            "mdurl==0.1.2\n",
            "miniKanren==1.0.3\n",
            "missingno==0.5.2\n",
            "mistune==3.0.2\n",
            "mizani==0.13.1\n",
            "mkl==2025.0.1\n",
            "ml-dtypes==0.4.1\n",
            "mlxtend==0.23.3\n",
            "more-itertools==10.5.0\n",
            "moviepy==1.0.3\n",
            "mpmath==1.3.0\n",
            "msgpack==1.1.0\n",
            "multidict==6.1.0\n",
            "multipledispatch==1.0.0\n",
            "multiprocess==0.70.16\n",
            "multitasking==0.0.11\n",
            "murmurhash==1.0.11\n",
            "music21==9.3.0\n",
            "namex==0.0.8\n",
            "narwhals==1.17.0\n",
            "natsort==8.4.0\n",
            "nbclassic==1.1.0\n",
            "nbclient==0.10.1\n",
            "nbconvert==7.16.4\n",
            "nbformat==5.10.4\n",
            "ndindex==1.9.2\n",
            "nest-asyncio==1.6.0\n",
            "networkx==3.4.2\n",
            "nibabel==5.3.2\n",
            "nltk==3.9.1\n",
            "notebook==6.5.5\n",
            "notebook_shim==0.2.4\n",
            "numba==0.60.0\n",
            "numexpr==2.10.2\n",
            "numpy==1.26.4\n",
            "nvidia-cublas-cu12==12.6.4.1\n",
            "nvidia-cuda-cupti-cu12==12.6.80\n",
            "nvidia-cuda-nvcc-cu12==12.6.85\n",
            "nvidia-cuda-runtime-cu12==12.6.77\n",
            "nvidia-cudnn-cu12==9.6.0.74\n",
            "nvidia-cufft-cu12==11.3.0.4\n",
            "nvidia-curand-cu12==10.3.7.77\n",
            "nvidia-cusolver-cu12==11.7.1.2\n",
            "nvidia-cusparse-cu12==12.5.4.2\n",
            "nvidia-nccl-cu12==2.23.4\n",
            "nvidia-nvjitlink-cu12==12.6.85\n",
            "nvtx==0.2.10\n",
            "nx-cugraph-cu12 @ https://pypi.nvidia.com/nx-cugraph-cu12/nx_cugraph_cu12-24.10.0-py3-none-any.whl\n",
            "oauth2client==4.1.3\n",
            "oauthlib==3.2.2\n",
            "openai==1.54.5\n",
            "opencv-contrib-python==4.10.0.84\n",
            "opencv-python==4.10.0.84\n",
            "opencv-python-headless==4.10.0.84\n",
            "openpyxl==3.1.5\n",
            "opentelemetry-api==1.28.2\n",
            "opentelemetry-sdk==1.28.2\n",
            "opentelemetry-semantic-conventions==0.49b2\n",
            "opt_einsum==3.4.0\n",
            "optax==0.2.4\n",
            "optree==0.13.1\n",
            "orbax-checkpoint==0.6.4\n",
            "orjson==3.10.12\n",
            "osqp==0.6.7.post3\n",
            "packaging==24.2\n",
            "pandas==2.2.2\n",
            "pandas-datareader==0.10.0\n",
            "pandas-gbq==0.24.0\n",
            "pandas-stubs==2.2.2.240909\n",
            "pandocfilters==1.5.1\n",
            "panel==1.5.4\n",
            "param==2.1.1\n",
            "parso==0.8.4\n",
            "parsy==2.1\n",
            "partd==1.4.2\n",
            "pathlib==1.0.1\n",
            "patsy==1.0.1\n",
            "peewee==3.17.8\n",
            "peft==0.13.2\n",
            "pexpect==4.9.0\n",
            "pickleshare==0.7.5\n",
            "pillow==11.0.0\n",
            "platformdirs==4.3.6\n",
            "plotly==5.24.1\n",
            "plotnine==0.14.3\n",
            "pluggy==1.5.0\n",
            "ply==3.11\n",
            "polars==1.9.0\n",
            "pooch==1.8.2\n",
            "portpicker==1.5.2\n",
            "preshed==3.0.9\n",
            "prettytable==3.12.0\n",
            "proglog==0.1.10\n",
            "progressbar2==4.5.0\n",
            "prometheus_client==0.21.1\n",
            "promise==2.3\n",
            "prompt_toolkit==3.0.48\n",
            "propcache==0.2.1\n",
            "prophet==1.1.6\n",
            "proto-plus==1.25.0\n",
            "protobuf==4.25.5\n",
            "psutil==5.9.5\n",
            "psycopg2==2.9.10\n",
            "ptyprocess==0.7.0\n",
            "py-cpuinfo==9.0.0\n",
            "py4j==0.10.9.7\n",
            "pyarrow==17.0.0\n",
            "pyarrow-hotfix==0.6\n",
            "pyasn1==0.6.1\n",
            "pyasn1_modules==0.4.1\n",
            "pycocotools==2.0.8\n",
            "pycparser==2.22\n",
            "pydantic==2.10.3\n",
            "pydantic_core==2.27.1\n",
            "pydata-google-auth==1.9.0\n",
            "pydot==3.0.3\n",
            "pydotplus==2.0.2\n",
            "PyDrive==1.3.1\n",
            "PyDrive2==1.21.3\n",
            "pyerfa==2.0.1.5\n",
            "pygame==2.6.1\n",
            "pygit2==1.16.0\n",
            "Pygments==2.18.0\n",
            "PyGObject==3.42.1\n",
            "PyJWT==2.10.1\n",
            "pylibcudf-cu12 @ https://pypi.nvidia.com/pylibcudf-cu12/pylibcudf_cu12-24.10.1-cp310-cp310-manylinux_2_24_x86_64.manylinux_2_28_x86_64.whl\n",
            "pylibcugraph-cu12==24.10.0\n",
            "pylibraft-cu12==24.10.0\n",
            "pymc==5.18.2\n",
            "pymystem3==0.2.0\n",
            "pynvjitlink-cu12==0.4.0\n",
            "pyogrio==0.10.0\n",
            "Pyomo==6.8.2\n",
            "PyOpenGL==3.1.7\n",
            "pyOpenSSL==24.2.1\n",
            "pyparsing==3.2.0\n",
            "pyperclip==1.9.0\n",
            "pyproj==3.7.0\n",
            "pyshp==2.3.1\n",
            "PySocks==1.7.1\n",
            "pyspark==3.5.3\n",
            "pytensor==2.26.4\n",
            "pytest==8.3.4\n",
            "python-apt==0.0.0\n",
            "python-box==7.3.0\n",
            "python-dateutil==2.8.2\n",
            "python-louvain==0.16\n",
            "python-slugify==8.0.4\n",
            "python-utils==3.9.1\n",
            "pytz==2024.2\n",
            "pyviz_comms==3.0.3\n",
            "PyYAML==6.0.2\n",
            "pyzmq==24.0.1\n",
            "qdldl==0.1.7.post4\n",
            "ratelim==0.1.6\n",
            "referencing==0.35.1\n",
            "regex==2024.9.11\n",
            "requests==2.32.3\n",
            "requests-oauthlib==1.3.1\n",
            "requests-toolbelt==1.0.0\n",
            "requirements-parser==0.9.0\n",
            "rich==13.9.4\n",
            "rmm-cu12==24.10.0\n",
            "rpds-py==0.22.3\n",
            "rpy2==3.4.2\n",
            "rsa==4.9\n",
            "safetensors==0.4.5\n",
            "scikit-image==0.24.0\n",
            "scikit-learn==1.5.2\n",
            "scipy==1.13.1\n",
            "scooby==0.10.0\n",
            "scs==3.2.7\n",
            "seaborn==0.13.2\n",
            "SecretStorage==3.3.1\n",
            "Send2Trash==1.8.3\n",
            "sentence-transformers==3.3.1\n",
            "sentencepiece==0.2.0\n",
            "sentry-sdk==2.19.2\n",
            "setproctitle==1.3.4\n",
            "shap==0.46.0\n",
            "shapely==2.0.6\n",
            "shellingham==1.5.4\n",
            "simple-parsing==0.1.6\n",
            "six==1.17.0\n",
            "sklearn-pandas==2.2.0\n",
            "slicer==0.0.8\n",
            "smart-open==7.0.5\n",
            "smmap==5.0.1\n",
            "sniffio==1.3.1\n",
            "snowballstemmer==2.2.0\n",
            "soundfile==0.12.1\n",
            "soupsieve==2.6\n",
            "soxr==0.5.0.post1\n",
            "spacy==3.7.5\n",
            "spacy-legacy==3.0.12\n",
            "spacy-loggers==1.0.5\n",
            "Sphinx==8.1.3\n",
            "sphinxcontrib-applehelp==2.0.0\n",
            "sphinxcontrib-devhelp==2.0.0\n",
            "sphinxcontrib-htmlhelp==2.1.0\n",
            "sphinxcontrib-jsmath==1.0.1\n",
            "sphinxcontrib-qthelp==2.0.0\n",
            "sphinxcontrib-serializinghtml==2.0.0\n",
            "SQLAlchemy==2.0.36\n",
            "sqlglot==25.1.0\n",
            "sqlparse==0.5.3\n",
            "srsly==2.5.0\n",
            "stanio==0.5.1\n",
            "statsmodels==0.14.4\n",
            "StrEnum==0.4.15\n",
            "stringzilla==3.11.0\n",
            "sympy==1.13.1\n",
            "tables==3.10.1\n",
            "tabulate==0.9.0\n",
            "tbb==2022.0.0\n",
            "tcmlib==1.2.0\n",
            "tenacity==9.0.0\n",
            "tensorboard==2.17.1\n",
            "tensorboard-data-server==0.7.2\n",
            "tensorflow==2.17.1\n",
            "tensorflow-datasets==4.9.7\n",
            "tensorflow-hub==0.16.1\n",
            "tensorflow-io-gcs-filesystem==0.37.1\n",
            "tensorflow-metadata==1.13.1\n",
            "tensorflow-probability==0.24.0\n",
            "tensorstore==0.1.69\n",
            "termcolor==2.5.0\n",
            "terminado==0.18.1\n",
            "text-unidecode==1.3\n",
            "textblob==0.17.1\n",
            "tf-slim==1.1.0\n",
            "tf_keras==2.17.0\n",
            "thinc==8.2.5\n",
            "threadpoolctl==3.5.0\n",
            "tifffile==2024.9.20\n",
            "timm==1.0.12\n",
            "tinycss2==1.4.0\n",
            "tokenizers==0.21.0\n",
            "toml==0.10.2\n",
            "tomli==2.2.1\n",
            "toolz==0.12.1\n",
            "torch @ https://download.pytorch.org/whl/cu121_full/torch-2.5.1%2Bcu121-cp310-cp310-linux_x86_64.whl\n",
            "torchaudio @ https://download.pytorch.org/whl/cu121/torchaudio-2.5.1%2Bcu121-cp310-cp310-linux_x86_64.whl\n",
            "torchsummary==1.5.1\n",
            "torchvision @ https://download.pytorch.org/whl/cu121/torchvision-0.20.1%2Bcu121-cp310-cp310-linux_x86_64.whl\n",
            "tornado==6.3.3\n",
            "tqdm==4.66.6\n",
            "traitlets==5.7.1\n",
            "traittypes==0.2.1\n",
            "transformers==4.47.0\n",
            "tweepy==4.14.0\n",
            "typeguard==4.4.1\n",
            "typer==0.15.1\n",
            "types-pytz==2024.2.0.20241003\n",
            "types-setuptools==75.6.0.20241126\n",
            "typing_extensions==4.12.2\n",
            "tzdata==2024.2\n",
            "tzlocal==5.2\n",
            "uc-micro-py==1.0.3\n",
            "umf==0.9.1\n",
            "uritemplate==4.1.1\n",
            "urllib3==2.2.3\n",
            "vega-datasets==0.9.0\n",
            "wadllib==1.3.6\n",
            "wandb==0.18.7\n",
            "wasabi==1.1.3\n",
            "wcwidth==0.2.13\n",
            "weasel==0.4.1\n",
            "webcolors==24.11.1\n",
            "webencodings==0.5.1\n",
            "websocket-client==1.8.0\n",
            "websockets==14.1\n",
            "Werkzeug==3.1.3\n",
            "widgetsnbextension==3.6.10\n",
            "wordcloud==1.9.4\n",
            "wrapt==1.17.0\n",
            "xarray==2024.10.0\n",
            "xarray-einstats==0.8.0\n",
            "xgboost==2.1.3\n",
            "xlrd==2.0.1\n",
            "xxhash==3.5.0\n",
            "xyzservices==2024.9.0\n",
            "yarl==1.18.3\n",
            "yellowbrick==1.5\n",
            "yfinance==0.2.50\n",
            "zipp==3.21.0\n"
          ]
        }
      ],
      "source": [
        "# package versions when this notebook was last run in Colab (and committed)\n",
        "!pip freeze"
      ]
    }
  ],
  "metadata": {
    "accelerator": "GPU",
    "colab": {
      "gpuType": "A100",
      "machine_shape": "hm",
      "provenance": []
    },
    "kernelspec": {
      "display_name": "Python 3",
      "name": "python3"
    },
    "language_info": {
      "name": "python"
    }
  },
  "nbformat": 4,
  "nbformat_minor": 0
}
